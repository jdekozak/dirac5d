{
 "cells": [
  {
   "cell_type": "code",
   "execution_count": 1,
   "metadata": {
    "collapsed": true
   },
   "outputs": [],
   "source": [
    "from IPython.display import Math, display\n",
    "def displayWithTitle(multivector, title):\n",
    "    display(Math(title + '=' + multivector._repr_latex_()))\n",
    "def CheckProperties(i,j,k, ilabel, jlabel, klabel):\n",
    "    displayWithTitle(i, title=ilabel)\n",
    "    displayWithTitle(j, title=jlabel)\n",
    "    displayWithTitle(k, title=klabel)\n",
    "    displayWithTitle((i*i), title=ilabel+'^2')\n",
    "    displayWithTitle((j*j), title=jlabel+'^2')\n",
    "    displayWithTitle((k*k), title=klabel+'^2')\n",
    "    displayWithTitle((i*j), title=ilabel + jlabel)\n",
    "    displayWithTitle((j*i), title=jlabel + ilabel)\n",
    "    displayWithTitle((j*k), title=jlabel + klabel)\n",
    "    displayWithTitle((k*j), title=klabel + jlabel)\n",
    "    displayWithTitle((k*i), title=klabel + ilabel)\n",
    "    displayWithTitle((i*k), title=ilabel + klabel)\n",
    "    displayWithTitle((i*j*k), title=ilabel + jlabel + klabel)"
   ]
  },
  {
   "cell_type": "code",
   "execution_count": 2,
   "metadata": {
    "collapsed": false
   },
   "outputs": [
    {
     "name": "stdout",
     "output_type": "stream",
     "text": [
      "Collecting galgebra\n",
      "Collecting sympy (from galgebra)\n",
      "Collecting numpy (from galgebra)\n",
      "  Using cached numpy-1.14.0-cp27-cp27mu-manylinux1_x86_64.whl\n",
      "Collecting mpmath>=0.19 (from sympy->galgebra)\n",
      "Installing collected packages: mpmath, sympy, numpy, galgebra\n",
      "Successfully installed galgebra-0.4.1.2 mpmath-1.0.0 numpy-1.14.0 sympy-1.1.1\n"
     ]
    }
   ],
   "source": [
    "!pip install galgebra"
   ]
  },
  {
   "cell_type": "code",
   "execution_count": 3,
   "metadata": {
    "collapsed": true
   },
   "outputs": [],
   "source": [
    "from sympy.matrices import *\n",
    "from galgebra.ga import Ga\n",
    "from galgebra.printer import *"
   ]
  },
  {
   "cell_type": "markdown",
   "metadata": {
    "raw_mimetype": "text/latex"
   },
   "source": [
    "## ALGEBRA & DEFINITIONS\n",
    "\n",
    "Clifford algebra is $$Cl_{1,4}(\\mathbb{R})$$\n",
    "\n",
    "Flat space, no metric, just signature\n",
    "\n",
    "All constants are equal to 1"
   ]
  },
  {
   "cell_type": "code",
   "execution_count": 4,
   "metadata": {
    "collapsed": false
   },
   "outputs": [
    {
     "name": "stdout",
     "output_type": "stream",
     "text": [
      "(t, x, y, z, w)\n"
     ]
    }
   ],
   "source": [
    "from sympy import *\n",
    "variables = (t, x, y, z, w) = symbols('t x y z w', real=True)\n",
    "print(variables)"
   ]
  },
  {
   "cell_type": "code",
   "execution_count": 5,
   "metadata": {
    "collapsed": true
   },
   "outputs": [],
   "source": [
    "metric=[1\n",
    "        ,-1\n",
    "        ,-1\n",
    "        ,-1\n",
    "        ,-1]\n",
    "\n",
    "myBasis='gamma_t gamma_x gamma_y gamma_z gamma_w'\n",
    "\n",
    "sp5d = Ga(myBasis, g=metric, coords=variables,norm=True)\n",
    "(gamma_t, gamma_x, gamma_y, gamma_z, gamma_w) = sp5d.mv()\n",
    "(grad, rgrad) = sp5d.grads()"
   ]
  },
  {
   "cell_type": "markdown",
   "metadata": {},
   "source": [
    "## Quaternions\n",
    "http://en.wikipedia.org/wiki/Quaternion"
   ]
  },
  {
   "cell_type": "code",
   "execution_count": 6,
   "metadata": {
    "collapsed": false
   },
   "outputs": [
    {
     "data": {
      "text/latex": [
       "$$(1,\\mathit{\\boldsymbol{i}},\\mathit{\\boldsymbol{j}},\\mathit{\\boldsymbol{k}})$$"
      ],
      "text/plain": [
       "<IPython.core.display.Math object>"
      ]
     },
     "metadata": {},
     "output_type": "display_data"
    },
    {
     "data": {
      "text/latex": [
       "$$\\mathit{\\boldsymbol{i}}=\\begin{equation*}  \\boldsymbol{\\gamma }_{y}\\wedge \\boldsymbol{\\gamma }_{z} \\end{equation*}$$"
      ],
      "text/plain": [
       "<IPython.core.display.Math object>"
      ]
     },
     "metadata": {},
     "output_type": "display_data"
    },
    {
     "data": {
      "text/latex": [
       "$$\\mathit{\\boldsymbol{j}}=\\begin{equation*} - \\boldsymbol{\\gamma }_{x}\\wedge \\boldsymbol{\\gamma }_{z} \\end{equation*}$$"
      ],
      "text/plain": [
       "<IPython.core.display.Math object>"
      ]
     },
     "metadata": {},
     "output_type": "display_data"
    },
    {
     "data": {
      "text/latex": [
       "$$\\mathit{\\boldsymbol{k}}=\\begin{equation*}  \\boldsymbol{\\gamma }_{x}\\wedge \\boldsymbol{\\gamma }_{y} \\end{equation*}$$"
      ],
      "text/plain": [
       "<IPython.core.display.Math object>"
      ]
     },
     "metadata": {},
     "output_type": "display_data"
    },
    {
     "data": {
      "text/latex": [
       "$$\\mathit{\\boldsymbol{i}}^2=\\begin{equation*} -1 \\end{equation*}$$"
      ],
      "text/plain": [
       "<IPython.core.display.Math object>"
      ]
     },
     "metadata": {},
     "output_type": "display_data"
    },
    {
     "data": {
      "text/latex": [
       "$$\\mathit{\\boldsymbol{j}}^2=\\begin{equation*} -1 \\end{equation*}$$"
      ],
      "text/plain": [
       "<IPython.core.display.Math object>"
      ]
     },
     "metadata": {},
     "output_type": "display_data"
    },
    {
     "data": {
      "text/latex": [
       "$$\\mathit{\\boldsymbol{k}}^2=\\begin{equation*} -1 \\end{equation*}$$"
      ],
      "text/plain": [
       "<IPython.core.display.Math object>"
      ]
     },
     "metadata": {},
     "output_type": "display_data"
    },
    {
     "data": {
      "text/latex": [
       "$$\\mathit{\\boldsymbol{i}}\\mathit{\\boldsymbol{j}}=\\begin{equation*}  \\boldsymbol{\\gamma }_{x}\\wedge \\boldsymbol{\\gamma }_{y} \\end{equation*}$$"
      ],
      "text/plain": [
       "<IPython.core.display.Math object>"
      ]
     },
     "metadata": {},
     "output_type": "display_data"
    },
    {
     "data": {
      "text/latex": [
       "$$\\mathit{\\boldsymbol{j}}\\mathit{\\boldsymbol{i}}=\\begin{equation*} - \\boldsymbol{\\gamma }_{x}\\wedge \\boldsymbol{\\gamma }_{y} \\end{equation*}$$"
      ],
      "text/plain": [
       "<IPython.core.display.Math object>"
      ]
     },
     "metadata": {},
     "output_type": "display_data"
    },
    {
     "data": {
      "text/latex": [
       "$$\\mathit{\\boldsymbol{j}}\\mathit{\\boldsymbol{k}}=\\begin{equation*}  \\boldsymbol{\\gamma }_{y}\\wedge \\boldsymbol{\\gamma }_{z} \\end{equation*}$$"
      ],
      "text/plain": [
       "<IPython.core.display.Math object>"
      ]
     },
     "metadata": {},
     "output_type": "display_data"
    },
    {
     "data": {
      "text/latex": [
       "$$\\mathit{\\boldsymbol{k}}\\mathit{\\boldsymbol{j}}=\\begin{equation*} - \\boldsymbol{\\gamma }_{y}\\wedge \\boldsymbol{\\gamma }_{z} \\end{equation*}$$"
      ],
      "text/plain": [
       "<IPython.core.display.Math object>"
      ]
     },
     "metadata": {},
     "output_type": "display_data"
    },
    {
     "data": {
      "text/latex": [
       "$$\\mathit{\\boldsymbol{k}}\\mathit{\\boldsymbol{i}}=\\begin{equation*} - \\boldsymbol{\\gamma }_{x}\\wedge \\boldsymbol{\\gamma }_{z} \\end{equation*}$$"
      ],
      "text/plain": [
       "<IPython.core.display.Math object>"
      ]
     },
     "metadata": {},
     "output_type": "display_data"
    },
    {
     "data": {
      "text/latex": [
       "$$\\mathit{\\boldsymbol{i}}\\mathit{\\boldsymbol{k}}=\\begin{equation*}  \\boldsymbol{\\gamma }_{x}\\wedge \\boldsymbol{\\gamma }_{z} \\end{equation*}$$"
      ],
      "text/plain": [
       "<IPython.core.display.Math object>"
      ]
     },
     "metadata": {},
     "output_type": "display_data"
    },
    {
     "data": {
      "text/latex": [
       "$$\\mathit{\\boldsymbol{i}}\\mathit{\\boldsymbol{j}}\\mathit{\\boldsymbol{k}}=\\begin{equation*} -1 \\end{equation*}$$"
      ],
      "text/plain": [
       "<IPython.core.display.Math object>"
      ]
     },
     "metadata": {},
     "output_type": "display_data"
    }
   ],
   "source": [
    "iquat=gamma_y*gamma_z\n",
    "jquat=gamma_z*gamma_x\n",
    "kquat=gamma_x*gamma_y\n",
    "iquat.texLabel='\\\\mathit{\\\\boldsymbol{i}}'\n",
    "jquat.texLabel='\\\\mathit{\\\\boldsymbol{j}}'\n",
    "kquat.texLabel='\\\\mathit{\\\\boldsymbol{k}}'\n",
    "\n",
    "display(Math('(1,'+iquat.texLabel+','+jquat.texLabel+','+kquat.texLabel+')'))\n",
    "CheckProperties(iquat,jquat,kquat,iquat.texLabel,jquat.texLabel,kquat.texLabel)"
   ]
  },
  {
   "cell_type": "markdown",
   "metadata": {},
   "source": [
    "## Imaginary unit"
   ]
  },
  {
   "cell_type": "code",
   "execution_count": 7,
   "metadata": {
    "collapsed": false
   },
   "outputs": [
    {
     "data": {
      "text/latex": [
       "$$i=\\begin{equation*}  \\boldsymbol{\\gamma }_{w} \\end{equation*}$$"
      ],
      "text/plain": [
       "<IPython.core.display.Math object>"
      ]
     },
     "metadata": {},
     "output_type": "display_data"
    },
    {
     "data": {
      "text/latex": [
       "$$i^2=\\begin{equation*} -1 \\end{equation*}$$"
      ],
      "text/plain": [
       "<IPython.core.display.Math object>"
      ]
     },
     "metadata": {},
     "output_type": "display_data"
    }
   ],
   "source": [
    "imag=gamma_w\n",
    "imag.texLabel='i'\n",
    "\n",
    "displayWithTitle(imag, title=imag.texLabel)\n",
    "displayWithTitle((imag*imag), title=imag.texLabel+'^2')"
   ]
  },
  {
   "cell_type": "markdown",
   "metadata": {},
   "source": [
    "## Associative Hyperbolic Quaternions"
   ]
  },
  {
   "cell_type": "code",
   "execution_count": 8,
   "metadata": {
    "collapsed": false
   },
   "outputs": [
    {
     "data": {
      "text/latex": [
       "$$(1,\\mathbf{i},\\mathbf{j},\\mathbf{k})$$"
      ],
      "text/plain": [
       "<IPython.core.display.Math object>"
      ]
     },
     "metadata": {},
     "output_type": "display_data"
    },
    {
     "data": {
      "text/latex": [
       "$$\\mathbf{i}=\\begin{equation*}  \\boldsymbol{\\gamma }_{t} \\end{equation*}$$"
      ],
      "text/plain": [
       "<IPython.core.display.Math object>"
      ]
     },
     "metadata": {},
     "output_type": "display_data"
    },
    {
     "data": {
      "text/latex": [
       "$$\\mathbf{j}=\\begin{equation*}  \\boldsymbol{\\gamma }_{t}\\wedge \\boldsymbol{\\gamma }_{x}\\wedge \\boldsymbol{\\gamma }_{y}\\wedge \\boldsymbol{\\gamma }_{z}\\wedge \\boldsymbol{\\gamma }_{w} \\end{equation*}$$"
      ],
      "text/plain": [
       "<IPython.core.display.Math object>"
      ]
     },
     "metadata": {},
     "output_type": "display_data"
    },
    {
     "data": {
      "text/latex": [
       "$$\\mathbf{k}=\\begin{equation*}  \\boldsymbol{\\gamma }_{x}\\wedge \\boldsymbol{\\gamma }_{y}\\wedge \\boldsymbol{\\gamma }_{z}\\wedge \\boldsymbol{\\gamma }_{w} \\end{equation*}$$"
      ],
      "text/plain": [
       "<IPython.core.display.Math object>"
      ]
     },
     "metadata": {},
     "output_type": "display_data"
    },
    {
     "data": {
      "text/latex": [
       "$$\\mathbf{i}^2=\\begin{equation*} 1 \\end{equation*}$$"
      ],
      "text/plain": [
       "<IPython.core.display.Math object>"
      ]
     },
     "metadata": {},
     "output_type": "display_data"
    },
    {
     "data": {
      "text/latex": [
       "$$\\mathbf{j}^2=\\begin{equation*} 1 \\end{equation*}$$"
      ],
      "text/plain": [
       "<IPython.core.display.Math object>"
      ]
     },
     "metadata": {},
     "output_type": "display_data"
    },
    {
     "data": {
      "text/latex": [
       "$$\\mathbf{k}^2=\\begin{equation*} 1 \\end{equation*}$$"
      ],
      "text/plain": [
       "<IPython.core.display.Math object>"
      ]
     },
     "metadata": {},
     "output_type": "display_data"
    },
    {
     "data": {
      "text/latex": [
       "$$\\mathbf{i}\\mathbf{j}=\\begin{equation*}  \\boldsymbol{\\gamma }_{x}\\wedge \\boldsymbol{\\gamma }_{y}\\wedge \\boldsymbol{\\gamma }_{z}\\wedge \\boldsymbol{\\gamma }_{w} \\end{equation*}$$"
      ],
      "text/plain": [
       "<IPython.core.display.Math object>"
      ]
     },
     "metadata": {},
     "output_type": "display_data"
    },
    {
     "data": {
      "text/latex": [
       "$$\\mathbf{j}\\mathbf{i}=\\begin{equation*}  \\boldsymbol{\\gamma }_{x}\\wedge \\boldsymbol{\\gamma }_{y}\\wedge \\boldsymbol{\\gamma }_{z}\\wedge \\boldsymbol{\\gamma }_{w} \\end{equation*}$$"
      ],
      "text/plain": [
       "<IPython.core.display.Math object>"
      ]
     },
     "metadata": {},
     "output_type": "display_data"
    },
    {
     "data": {
      "text/latex": [
       "$$\\mathbf{j}\\mathbf{k}=\\begin{equation*}  \\boldsymbol{\\gamma }_{t} \\end{equation*}$$"
      ],
      "text/plain": [
       "<IPython.core.display.Math object>"
      ]
     },
     "metadata": {},
     "output_type": "display_data"
    },
    {
     "data": {
      "text/latex": [
       "$$\\mathbf{k}\\mathbf{j}=\\begin{equation*}  \\boldsymbol{\\gamma }_{t} \\end{equation*}$$"
      ],
      "text/plain": [
       "<IPython.core.display.Math object>"
      ]
     },
     "metadata": {},
     "output_type": "display_data"
    },
    {
     "data": {
      "text/latex": [
       "$$\\mathbf{k}\\mathbf{i}=\\begin{equation*}  \\boldsymbol{\\gamma }_{t}\\wedge \\boldsymbol{\\gamma }_{x}\\wedge \\boldsymbol{\\gamma }_{y}\\wedge \\boldsymbol{\\gamma }_{z}\\wedge \\boldsymbol{\\gamma }_{w} \\end{equation*}$$"
      ],
      "text/plain": [
       "<IPython.core.display.Math object>"
      ]
     },
     "metadata": {},
     "output_type": "display_data"
    },
    {
     "data": {
      "text/latex": [
       "$$\\mathbf{i}\\mathbf{k}=\\begin{equation*}  \\boldsymbol{\\gamma }_{t}\\wedge \\boldsymbol{\\gamma }_{x}\\wedge \\boldsymbol{\\gamma }_{y}\\wedge \\boldsymbol{\\gamma }_{z}\\wedge \\boldsymbol{\\gamma }_{w} \\end{equation*}$$"
      ],
      "text/plain": [
       "<IPython.core.display.Math object>"
      ]
     },
     "metadata": {},
     "output_type": "display_data"
    },
    {
     "data": {
      "text/latex": [
       "$$\\mathbf{i}\\mathbf{j}\\mathbf{k}=\\begin{equation*} 1 \\end{equation*}$$"
      ],
      "text/plain": [
       "<IPython.core.display.Math object>"
      ]
     },
     "metadata": {},
     "output_type": "display_data"
    }
   ],
   "source": [
    "ihquat=gamma_t\n",
    "jhquat=gamma_t*gamma_x*gamma_y*gamma_z*gamma_w\n",
    "khquat=gamma_x*gamma_y*gamma_z*gamma_w\n",
    "ihquat.texLabel='\\\\mathbf{i}'\n",
    "jhquat.texLabel='\\\\mathbf{j}'\n",
    "khquat.texLabel='\\\\mathbf{k}'\n",
    "\n",
    "display(Math('(1,'+ihquat.texLabel+','+jhquat.texLabel+','+khquat.texLabel+')'))\n",
    "CheckProperties(ihquat,jhquat,khquat,ihquat.texLabel,jhquat.texLabel,khquat.texLabel)"
   ]
  },
  {
   "cell_type": "markdown",
   "metadata": {
    "collapsed": true
   },
   "source": [
    "## DIRAC\n",
    "http://en.wikipedia.org/wiki/Dirac_equation\n",
    "\n",
    "Regular\n",
    "$$0=({\\gamma}_0 \\frac{\\partial}{\\partial t}+{\\gamma}_1 \\frac{\\partial}{\\partial x}+{\\gamma}_2 \\frac{\\partial}{\\partial y}+{\\gamma}_3 \\frac{\\partial}{\\partial z}+im) {\\psi}$$\n",
    "\n",
    "Adjoint\n",
    "$$0={\\overline{\\psi}}(\\frac{\\partial}{\\partial t}{\\gamma}_0+\\frac{\\partial}{\\partial x}{\\gamma}_1+\\frac{\\partial}{\\partial y}{\\gamma}_2+\\frac{\\partial}{\\partial z}{\\gamma}_3+im)$$\n",
    "\n",
    "Gradient definition\n"
   ]
  },
  {
   "cell_type": "code",
   "execution_count": 9,
   "metadata": {
    "collapsed": false
   },
   "outputs": [
    {
     "data": {
      "text/latex": [
       "$$\\overrightarrow{D} = \\Sigma e_i \\partial x_i=\\begin{equation*} gamma_t D{t} -gamma_x D{x} -gamma_y D{y} -gamma_z D{z} -gamma_w D{w} \\end{equation*}$$"
      ],
      "text/plain": [
       "<IPython.core.display.Math object>"
      ]
     },
     "metadata": {},
     "output_type": "display_data"
    },
    {
     "data": {
      "text/latex": [
       "$$\\overleftarrow{D} = \\Sigma \\partial x_i e_i=\\begin{equation*} D{t} gamma_t -D{x}gamma_x -D{y}gamma_y -D{z}gamma_z -D{w}gamma_w \\end{equation*}$$"
      ],
      "text/plain": [
       "<IPython.core.display.Math object>"
      ]
     },
     "metadata": {},
     "output_type": "display_data"
    }
   ],
   "source": [
    "displayWithTitle(grad,title='\\overrightarrow{D} = \\Sigma e_i \\partial x_i')\n",
    "displayWithTitle(rgrad,title='\\overleftarrow{D} = \\Sigma \\partial x_i e_i')"
   ]
  },
  {
   "cell_type": "markdown",
   "metadata": {},
   "source": [
    "# PHYSICS\n",
    "\n",
    "The following symbols are defined :\n",
    "\n",
    "Energy $$E \\in \\mathbb{R}$$\n",
    "\n",
    "Mass $$m \\in \\mathbb{R}$$"
   ]
  },
  {
   "cell_type": "code",
   "execution_count": 10,
   "metadata": {
    "collapsed": false
   },
   "outputs": [
    {
     "data": {
      "text/latex": [
       "Momentum $\\mathbf{p}$ is defined with $p_x, p_y, p_z \\in \\mathbb{R}$"
      ],
      "text/plain": [
       "<IPython.core.display.Latex object>"
      ]
     },
     "metadata": {},
     "output_type": "display_data"
    },
    {
     "data": {
      "text/latex": [
       "$$\\mathbf{p}=p_x\\mathit{\\boldsymbol{i}}+p_y\\mathit{\\boldsymbol{j}}+p_z\\mathit{\\boldsymbol{k}}$$"
      ],
      "text/plain": [
       "<IPython.core.display.Math object>"
      ]
     },
     "metadata": {},
     "output_type": "display_data"
    },
    {
     "data": {
      "text/latex": [
       "$$\\mathbf{p}=\\begin{equation*} p_{z} \\boldsymbol{\\gamma }_{x}\\wedge \\boldsymbol{\\gamma }_{y} - p_{y} \\boldsymbol{\\gamma }_{x}\\wedge \\boldsymbol{\\gamma }_{z} + p_{x} \\boldsymbol{\\gamma }_{y}\\wedge \\boldsymbol{\\gamma }_{z} \\end{equation*}$$"
      ],
      "text/plain": [
       "<IPython.core.display.Math object>"
      ]
     },
     "metadata": {},
     "output_type": "display_data"
    }
   ],
   "source": [
    "m, E, p_x, p_y, p_z = symbols('m E p_x p_y p_z', real=True)\n",
    "\n",
    "rquat = [iquat, jquat, kquat]\n",
    "pv =[p_x, p_y, p_z]\n",
    "p = S(0)\n",
    "for (dim, var) in zip(pv, rquat):\n",
    "    p += var * dim\n",
    "p.texLabel='\\\\mathbf{p}'\n",
    "\n",
    "display(Latex('Momentum $'+p.texLabel+'$ is defined with $p_x, p_y, p_z \\\\in \\\\mathbb{R}$'))\n",
    "display(Math(p.texLabel+'=p_x'+iquat.texLabel+'+p_y'+jquat.texLabel+'+p_z'+kquat.texLabel))\n",
    "displayWithTitle(p, title=p.texLabel)"
   ]
  },
  {
   "cell_type": "code",
   "execution_count": 11,
   "metadata": {
    "collapsed": false
   },
   "outputs": [
    {
     "data": {
      "text/latex": [
       "$$f=\\begin{equation*} m w  + \\left ( - E t - p_{x} x - p_{y} y - p_{z} z\\right ) \\boldsymbol{\\gamma }_{w} \\end{equation*}$$"
      ],
      "text/plain": [
       "<IPython.core.display.Math object>"
      ]
     },
     "metadata": {},
     "output_type": "display_data"
    },
    {
     "data": {
      "text/latex": [
       "$$\\overrightarrow{D}f=\\begin{equation*} - m \\boldsymbol{\\gamma }_{w} - E \\boldsymbol{\\gamma }_{t}\\wedge \\boldsymbol{\\gamma }_{w} + p_{x} \\boldsymbol{\\gamma }_{x}\\wedge \\boldsymbol{\\gamma }_{w} + p_{y} \\boldsymbol{\\gamma }_{y}\\wedge \\boldsymbol{\\gamma }_{w} + p_{z} \\boldsymbol{\\gamma }_{z}\\wedge \\boldsymbol{\\gamma }_{w} \\end{equation*}$$"
      ],
      "text/plain": [
       "<IPython.core.display.Math object>"
      ]
     },
     "metadata": {},
     "output_type": "display_data"
    },
    {
     "data": {
      "text/latex": [
       "$$f\\overleftarrow{D}=\\begin{equation*} - m \\boldsymbol{\\gamma }_{w} + E \\boldsymbol{\\gamma }_{t}\\wedge \\boldsymbol{\\gamma }_{w} - p_{x} \\boldsymbol{\\gamma }_{x}\\wedge \\boldsymbol{\\gamma }_{w} - p_{y} \\boldsymbol{\\gamma }_{y}\\wedge \\boldsymbol{\\gamma }_{w} - p_{z} \\boldsymbol{\\gamma }_{z}\\wedge \\boldsymbol{\\gamma }_{w} \\end{equation*}$$"
      ],
      "text/plain": [
       "<IPython.core.display.Math object>"
      ]
     },
     "metadata": {},
     "output_type": "display_data"
    },
    {
     "data": {
      "text/latex": [
       "$$\\overrightarrow{D}f\\overrightarrow{D}f=\\begin{equation*} E^{2} - m^{2} - {\\left ( p_{x} \\right )}^{2} - {\\left ( p_{y} \\right )}^{2} - {\\left ( p_{z} \\right )}^{2} \\end{equation*}$$"
      ],
      "text/plain": [
       "<IPython.core.display.Math object>"
      ]
     },
     "metadata": {},
     "output_type": "display_data"
    },
    {
     "data": {
      "text/latex": [
       "$$f\\overleftarrow{D}f\\overleftarrow{D}=\\begin{equation*} E^{2} - m^{2} - {\\left ( p_{x} \\right )}^{2} - {\\left ( p_{y} \\right )}^{2} - {\\left ( p_{z} \\right )}^{2} \\end{equation*}$$"
      ],
      "text/plain": [
       "<IPython.core.display.Math object>"
      ]
     },
     "metadata": {},
     "output_type": "display_data"
    }
   ],
   "source": [
    "f=m*w-imag*(E*t+p_x*x+p_y*y+p_z*z)\n",
    "displayWithTitle(f, title='f')\n",
    "displayWithTitle(grad*f, title='\\overrightarrow{D}f')\n",
    "displayWithTitle(f*rgrad, title='f\\overleftarrow{D}')\n",
    "displayWithTitle(grad*f*grad*f, title='\\overrightarrow{D}f\\overrightarrow{D}f')\n",
    "displayWithTitle(f*rgrad*f*rgrad, title='f\\overleftarrow{D}f\\overleftarrow{D}')"
   ]
  },
  {
   "cell_type": "markdown",
   "metadata": {},
   "source": [
    "### Density element combined derivatives"
   ]
  },
  {
   "cell_type": "code",
   "execution_count": 12,
   "metadata": {
    "collapsed": false
   },
   "outputs": [
    {
     "data": {
      "text/latex": [
       "$$k_1=(\\mathbf{i}iE-im+\\mathbf{k}\\mathbf{p})(1+\\mathbf{j})=\\begin{equation*} - m \\boldsymbol{\\gamma }_{w} + E \\boldsymbol{\\gamma }_{t}\\wedge \\boldsymbol{\\gamma }_{w} - p_{x} \\boldsymbol{\\gamma }_{x}\\wedge \\boldsymbol{\\gamma }_{w} - p_{y} \\boldsymbol{\\gamma }_{y}\\wedge \\boldsymbol{\\gamma }_{w} - p_{z} \\boldsymbol{\\gamma }_{z}\\wedge \\boldsymbol{\\gamma }_{w} + p_{z} \\boldsymbol{\\gamma }_{t}\\wedge \\boldsymbol{\\gamma }_{x}\\wedge \\boldsymbol{\\gamma }_{y} - p_{y} \\boldsymbol{\\gamma }_{t}\\wedge \\boldsymbol{\\gamma }_{x}\\wedge \\boldsymbol{\\gamma }_{z} + p_{x} \\boldsymbol{\\gamma }_{t}\\wedge \\boldsymbol{\\gamma }_{y}\\wedge \\boldsymbol{\\gamma }_{z} - E \\boldsymbol{\\gamma }_{x}\\wedge \\boldsymbol{\\gamma }_{y}\\wedge \\boldsymbol{\\gamma }_{z} + m \\boldsymbol{\\gamma }_{t}\\wedge \\boldsymbol{\\gamma }_{x}\\wedge \\boldsymbol{\\gamma }_{y}\\wedge \\boldsymbol{\\gamma }_{z} \\end{equation*}$$"
      ],
      "text/plain": [
       "<IPython.core.display.Math object>"
      ]
     },
     "metadata": {},
     "output_type": "display_data"
    },
    {
     "data": {
      "text/latex": [
       "$$k_1^2=\\begin{equation*} \\left ( 2 E^{2} - 2 m^{2} - 2 {\\left ( p_{x} \\right )}^{2} - 2 {\\left ( p_{y} \\right )}^{2} - 2 {\\left ( p_{z} \\right )}^{2}\\right )  + \\left ( 2 E^{2} - 2 m^{2} - 2 {\\left ( p_{x} \\right )}^{2} - 2 {\\left ( p_{y} \\right )}^{2} - 2 {\\left ( p_{z} \\right )}^{2}\\right ) \\boldsymbol{\\gamma }_{t}\\wedge \\boldsymbol{\\gamma }_{x}\\wedge \\boldsymbol{\\gamma }_{y}\\wedge \\boldsymbol{\\gamma }_{z}\\wedge \\boldsymbol{\\gamma }_{w} \\end{equation*}$$"
      ],
      "text/plain": [
       "<IPython.core.display.Math object>"
      ]
     },
     "metadata": {},
     "output_type": "display_data"
    },
    {
     "data": {
      "text/latex": [
       "Combine regular and adjoint Dirac equations with difference"
      ],
      "text/plain": [
       "<IPython.core.display.Latex object>"
      ]
     },
     "metadata": {},
     "output_type": "display_data"
    },
    {
     "data": {
      "text/latex": [
       "$$0 = \\overrightarrow{D}\\rho-\\rho\\overleftarrow{D}=\\begin{equation*} 8 E m w \\left(- E^{2} + m^{2} + {\\left ( p_{x} \\right )}^{2} + {\\left ( p_{y} \\right )}^{2} + {\\left ( p_{z} \\right )}^{2}\\right) \\boldsymbol{\\gamma }_{t}\\wedge \\boldsymbol{\\gamma }_{w} + 8 m p_{x} w \\left(E^{2} - m^{2} - {\\left ( p_{x} \\right )}^{2} - {\\left ( p_{y} \\right )}^{2} - {\\left ( p_{z} \\right )}^{2}\\right) \\boldsymbol{\\gamma }_{x}\\wedge \\boldsymbol{\\gamma }_{w} + 8 m p_{y} w \\left(E^{2} - m^{2} - {\\left ( p_{x} \\right )}^{2} - {\\left ( p_{y} \\right )}^{2} - {\\left ( p_{z} \\right )}^{2}\\right) \\boldsymbol{\\gamma }_{y}\\wedge \\boldsymbol{\\gamma }_{w} + 8 m p_{z} w \\left(E^{2} - m^{2} - {\\left ( p_{x} \\right )}^{2} - {\\left ( p_{y} \\right )}^{2} - {\\left ( p_{z} \\right )}^{2}\\right) \\boldsymbol{\\gamma }_{z}\\wedge \\boldsymbol{\\gamma }_{w} + 8 m p_{z} w \\left(- E^{2} + m^{2} + {\\left ( p_{x} \\right )}^{2} + {\\left ( p_{y} \\right )}^{2} + {\\left ( p_{z} \\right )}^{2}\\right) \\boldsymbol{\\gamma }_{t}\\wedge \\boldsymbol{\\gamma }_{x}\\wedge \\boldsymbol{\\gamma }_{y} + 8 m p_{y} w \\left(E^{2} - m^{2} - {\\left ( p_{x} \\right )}^{2} - {\\left ( p_{y} \\right )}^{2} - {\\left ( p_{z} \\right )}^{2}\\right) \\boldsymbol{\\gamma }_{t}\\wedge \\boldsymbol{\\gamma }_{x}\\wedge \\boldsymbol{\\gamma }_{z} + 8 m p_{x} w \\left(- E^{2} + m^{2} + {\\left ( p_{x} \\right )}^{2} + {\\left ( p_{y} \\right )}^{2} + {\\left ( p_{z} \\right )}^{2}\\right) \\boldsymbol{\\gamma }_{t}\\wedge \\boldsymbol{\\gamma }_{y}\\wedge \\boldsymbol{\\gamma }_{z} + 8 E m w \\left(E^{2} - m^{2} - {\\left ( p_{x} \\right )}^{2} - {\\left ( p_{y} \\right )}^{2} - {\\left ( p_{z} \\right )}^{2}\\right) \\boldsymbol{\\gamma }_{x}\\wedge \\boldsymbol{\\gamma }_{y}\\wedge \\boldsymbol{\\gamma }_{z} \\end{equation*}$$"
      ],
      "text/plain": [
       "<IPython.core.display.Math object>"
      ]
     },
     "metadata": {},
     "output_type": "display_data"
    },
    {
     "data": {
      "text/latex": [
       "$$k_2=(\\mathbf{i}iE+im+\\mathbf{k}\\mathbf{p})(1-\\mathbf{j})i=\\begin{equation*} - m  - E \\boldsymbol{\\gamma }_{t} + p_{x} \\boldsymbol{\\gamma }_{x} + p_{y} \\boldsymbol{\\gamma }_{y} + p_{z} \\boldsymbol{\\gamma }_{z} - p_{z} \\boldsymbol{\\gamma }_{t}\\wedge \\boldsymbol{\\gamma }_{x}\\wedge \\boldsymbol{\\gamma }_{y}\\wedge \\boldsymbol{\\gamma }_{w} + p_{y} \\boldsymbol{\\gamma }_{t}\\wedge \\boldsymbol{\\gamma }_{x}\\wedge \\boldsymbol{\\gamma }_{z}\\wedge \\boldsymbol{\\gamma }_{w} - p_{x} \\boldsymbol{\\gamma }_{t}\\wedge \\boldsymbol{\\gamma }_{y}\\wedge \\boldsymbol{\\gamma }_{z}\\wedge \\boldsymbol{\\gamma }_{w} + E \\boldsymbol{\\gamma }_{x}\\wedge \\boldsymbol{\\gamma }_{y}\\wedge \\boldsymbol{\\gamma }_{z}\\wedge \\boldsymbol{\\gamma }_{w} + m \\boldsymbol{\\gamma }_{t}\\wedge \\boldsymbol{\\gamma }_{x}\\wedge \\boldsymbol{\\gamma }_{y}\\wedge \\boldsymbol{\\gamma }_{z}\\wedge \\boldsymbol{\\gamma }_{w} \\end{equation*}$$"
      ],
      "text/plain": [
       "<IPython.core.display.Math object>"
      ]
     },
     "metadata": {},
     "output_type": "display_data"
    },
    {
     "data": {
      "text/latex": [
       "$$k_2^2=\\begin{equation*} \\left ( 2 E^{2} + 2 m^{2} - 2 {\\left ( p_{x} \\right )}^{2} - 2 {\\left ( p_{y} \\right )}^{2} - 2 {\\left ( p_{z} \\right )}^{2}\\right )  + 4 E m \\boldsymbol{\\gamma }_{t} - 4 m p_{x} \\boldsymbol{\\gamma }_{x} - 4 m p_{y} \\boldsymbol{\\gamma }_{y} - 4 m p_{z} \\boldsymbol{\\gamma }_{z} + 4 m p_{z} \\boldsymbol{\\gamma }_{t}\\wedge \\boldsymbol{\\gamma }_{x}\\wedge \\boldsymbol{\\gamma }_{y}\\wedge \\boldsymbol{\\gamma }_{w} - 4 m p_{y} \\boldsymbol{\\gamma }_{t}\\wedge \\boldsymbol{\\gamma }_{x}\\wedge \\boldsymbol{\\gamma }_{z}\\wedge \\boldsymbol{\\gamma }_{w} + 4 m p_{x} \\boldsymbol{\\gamma }_{t}\\wedge \\boldsymbol{\\gamma }_{y}\\wedge \\boldsymbol{\\gamma }_{z}\\wedge \\boldsymbol{\\gamma }_{w} - 4 E m \\boldsymbol{\\gamma }_{x}\\wedge \\boldsymbol{\\gamma }_{y}\\wedge \\boldsymbol{\\gamma }_{z}\\wedge \\boldsymbol{\\gamma }_{w} + \\left ( - 2 E^{2} - 2 m^{2} + 2 {\\left ( p_{x} \\right )}^{2} + 2 {\\left ( p_{y} \\right )}^{2} + 2 {\\left ( p_{z} \\right )}^{2}\\right ) \\boldsymbol{\\gamma }_{t}\\wedge \\boldsymbol{\\gamma }_{x}\\wedge \\boldsymbol{\\gamma }_{y}\\wedge \\boldsymbol{\\gamma }_{z}\\wedge \\boldsymbol{\\gamma }_{w} \\end{equation*}$$"
      ],
      "text/plain": [
       "<IPython.core.display.Math object>"
      ]
     },
     "metadata": {},
     "output_type": "display_data"
    },
    {
     "data": {
      "text/latex": [
       "Combine regular and adjoint Dirac equations with difference"
      ],
      "text/plain": [
       "<IPython.core.display.Latex object>"
      ]
     },
     "metadata": {},
     "output_type": "display_data"
    },
    {
     "data": {
      "text/latex": [
       "$$0 = \\overrightarrow{D}\\rho-\\rho\\overleftarrow{D}=\\begin{equation*} 8 E m w \\left(- E^{2} + m^{2} + {\\left ( p_{x} \\right )}^{2} + {\\left ( p_{y} \\right )}^{2} + {\\left ( p_{z} \\right )}^{2}\\right) \\boldsymbol{\\gamma }_{t}\\wedge \\boldsymbol{\\gamma }_{w} + 8 m p_{x} w \\left(E^{2} - m^{2} - {\\left ( p_{x} \\right )}^{2} - {\\left ( p_{y} \\right )}^{2} - {\\left ( p_{z} \\right )}^{2}\\right) \\boldsymbol{\\gamma }_{x}\\wedge \\boldsymbol{\\gamma }_{w} + 8 m p_{y} w \\left(E^{2} - m^{2} - {\\left ( p_{x} \\right )}^{2} - {\\left ( p_{y} \\right )}^{2} - {\\left ( p_{z} \\right )}^{2}\\right) \\boldsymbol{\\gamma }_{y}\\wedge \\boldsymbol{\\gamma }_{w} + 8 m p_{z} w \\left(E^{2} - m^{2} - {\\left ( p_{x} \\right )}^{2} - {\\left ( p_{y} \\right )}^{2} - {\\left ( p_{z} \\right )}^{2}\\right) \\boldsymbol{\\gamma }_{z}\\wedge \\boldsymbol{\\gamma }_{w} + 8 m p_{z} w \\left(E^{2} - m^{2} - {\\left ( p_{x} \\right )}^{2} - {\\left ( p_{y} \\right )}^{2} - {\\left ( p_{z} \\right )}^{2}\\right) \\boldsymbol{\\gamma }_{t}\\wedge \\boldsymbol{\\gamma }_{x}\\wedge \\boldsymbol{\\gamma }_{y} + 8 m p_{y} w \\left(- E^{2} + m^{2} + {\\left ( p_{x} \\right )}^{2} + {\\left ( p_{y} \\right )}^{2} + {\\left ( p_{z} \\right )}^{2}\\right) \\boldsymbol{\\gamma }_{t}\\wedge \\boldsymbol{\\gamma }_{x}\\wedge \\boldsymbol{\\gamma }_{z} + 8 m p_{x} w \\left(E^{2} - m^{2} - {\\left ( p_{x} \\right )}^{2} - {\\left ( p_{y} \\right )}^{2} - {\\left ( p_{z} \\right )}^{2}\\right) \\boldsymbol{\\gamma }_{t}\\wedge \\boldsymbol{\\gamma }_{y}\\wedge \\boldsymbol{\\gamma }_{z} + 8 E m w \\left(- E^{2} + m^{2} + {\\left ( p_{x} \\right )}^{2} + {\\left ( p_{y} \\right )}^{2} + {\\left ( p_{z} \\right )}^{2}\\right) \\boldsymbol{\\gamma }_{x}\\wedge \\boldsymbol{\\gamma }_{y}\\wedge \\boldsymbol{\\gamma }_{z} \\end{equation*}$$"
      ],
      "text/plain": [
       "<IPython.core.display.Math object>"
      ]
     },
     "metadata": {},
     "output_type": "display_data"
    },
    {
     "data": {
      "text/latex": [
       "$$k_1k_2=\\begin{equation*} 0 \n",
       " \\end{equation*}$$"
      ],
      "text/plain": [
       "<IPython.core.display.Math object>"
      ]
     },
     "metadata": {},
     "output_type": "display_data"
    }
   ],
   "source": [
    "K={}\n",
    "\n",
    "K[1]=(ihquat*imag*E-imag*m+khquat*p)*(1+jhquat)\n",
    "K[1].texLabel='('+ihquat.texLabel+imag.texLabel+'E-'+imag.texLabel+'m+'+khquat.texLabel+p.texLabel+')(1+'+jhquat.texLabel+')'\n",
    "\n",
    "texLabel='('+ihquat.texLabel+imag.texLabel+'E+'+imag.texLabel+'m+'+khquat.texLabel+p.texLabel+')'+'(1-'+jhquat.texLabel+')'+imag.texLabel\n",
    "K[2]=(ihquat*imag*E+imag*m+khquat*p)*(1-jhquat)*imag\n",
    "K[2].texLabel=texLabel\n",
    "texLabel='-'+'('+ihquat.texLabel+imag.texLabel+'E+'+imag.texLabel+'m+'+khquat.texLabel+p.texLabel+')'+imag.texLabel\n",
    "KK={}\n",
    "KK[1]=K[1]-K[2]\n",
    "KK[1].texLabel='sub'\n",
    "\n",
    "def checkFirstDerivatives(f, i, k):\n",
    "    displayWithTitle(k, 'k_' + str(i) + '=' + k.texLabel)\n",
    "    displayWithTitle(k*k, 'k_' + str(i) + '^2')\n",
    "    phi_L=f*k\n",
    "    phi_R=k*f\n",
    "    rho=phi_L*phi_R\n",
    "    left=grad*rho\n",
    "    right=rho*rgrad\n",
    "    display(Latex('Combine regular and adjoint Dirac equations with difference'))\n",
    "    displayWithTitle(left-right, '0 = \\overrightarrow{D}\\\\rho-\\\\rho\\overleftarrow{D}')\n",
    "\n",
    "for i, k in K.iteritems():\n",
    "    checkFirstDerivatives(f, i, k)\n",
    "displayWithTitle(K[1]*K[2],'k_1k_2')"
   ]
  },
  {
   "cell_type": "code",
   "execution_count": 13,
   "metadata": {
    "collapsed": false
   },
   "outputs": [
    {
     "data": {
      "text/latex": [
       "$$idem=\\begin{equation*} \\frac{1}{4}  + \\frac{1}{4} \\boldsymbol{\\gamma }_{t} + \\frac{1}{4} \\boldsymbol{\\gamma }_{w} + \\frac{1}{4} \\boldsymbol{\\gamma }_{t}\\wedge \\boldsymbol{\\gamma }_{w} - \\frac{1}{4} \\boldsymbol{\\gamma }_{x}\\wedge \\boldsymbol{\\gamma }_{y}\\wedge \\boldsymbol{\\gamma }_{z} - \\frac{1}{4} \\boldsymbol{\\gamma }_{t}\\wedge \\boldsymbol{\\gamma }_{x}\\wedge \\boldsymbol{\\gamma }_{y}\\wedge \\boldsymbol{\\gamma }_{z} + \\frac{1}{4} \\boldsymbol{\\gamma }_{x}\\wedge \\boldsymbol{\\gamma }_{y}\\wedge \\boldsymbol{\\gamma }_{z}\\wedge \\boldsymbol{\\gamma }_{w} + \\frac{1}{4} \\boldsymbol{\\gamma }_{t}\\wedge \\boldsymbol{\\gamma }_{x}\\wedge \\boldsymbol{\\gamma }_{y}\\wedge \\boldsymbol{\\gamma }_{z}\\wedge \\boldsymbol{\\gamma }_{w} \\end{equation*}$$"
      ],
      "text/plain": [
       "<IPython.core.display.Math object>"
      ]
     },
     "metadata": {},
     "output_type": "display_data"
    },
    {
     "data": {
      "text/latex": [
       "$$idem^2=\\begin{equation*} \\frac{1}{4}  + \\frac{1}{4} \\boldsymbol{\\gamma }_{t} + \\frac{1}{4} \\boldsymbol{\\gamma }_{w} + \\frac{1}{4} \\boldsymbol{\\gamma }_{t}\\wedge \\boldsymbol{\\gamma }_{w} - \\frac{1}{4} \\boldsymbol{\\gamma }_{x}\\wedge \\boldsymbol{\\gamma }_{y}\\wedge \\boldsymbol{\\gamma }_{z} - \\frac{1}{4} \\boldsymbol{\\gamma }_{t}\\wedge \\boldsymbol{\\gamma }_{x}\\wedge \\boldsymbol{\\gamma }_{y}\\wedge \\boldsymbol{\\gamma }_{z} + \\frac{1}{4} \\boldsymbol{\\gamma }_{x}\\wedge \\boldsymbol{\\gamma }_{y}\\wedge \\boldsymbol{\\gamma }_{z}\\wedge \\boldsymbol{\\gamma }_{w} + \\frac{1}{4} \\boldsymbol{\\gamma }_{t}\\wedge \\boldsymbol{\\gamma }_{x}\\wedge \\boldsymbol{\\gamma }_{y}\\wedge \\boldsymbol{\\gamma }_{z}\\wedge \\boldsymbol{\\gamma }_{w} \\end{equation*}$$"
      ],
      "text/plain": [
       "<IPython.core.display.Math object>"
      ]
     },
     "metadata": {},
     "output_type": "display_data"
    },
    {
     "data": {
      "text/latex": [
       "$$0=\\begin{equation*} 0 \n",
       " \\end{equation*}$$"
      ],
      "text/plain": [
       "<IPython.core.display.Math object>"
      ]
     },
     "metadata": {},
     "output_type": "display_data"
    },
    {
     "data": {
      "text/latex": [
       "$$nil=\\begin{equation*} \\frac{1}{2} \\boldsymbol{\\gamma }_{t} + \\frac{1}{2} \\boldsymbol{\\gamma }_{w} - \\frac{1}{2} \\boldsymbol{\\gamma }_{t}\\wedge \\boldsymbol{\\gamma }_{x}\\wedge \\boldsymbol{\\gamma }_{y}\\wedge \\boldsymbol{\\gamma }_{z} + \\frac{1}{2} \\boldsymbol{\\gamma }_{x}\\wedge \\boldsymbol{\\gamma }_{y}\\wedge \\boldsymbol{\\gamma }_{z}\\wedge \\boldsymbol{\\gamma }_{w} \\end{equation*}$$"
      ],
      "text/plain": [
       "<IPython.core.display.Math object>"
      ]
     },
     "metadata": {},
     "output_type": "display_data"
    },
    {
     "data": {
      "text/latex": [
       "$$nil^2=\\begin{equation*} 0 \n",
       " \\end{equation*}$$"
      ],
      "text/plain": [
       "<IPython.core.display.Math object>"
      ]
     },
     "metadata": {},
     "output_type": "display_data"
    },
    {
     "data": {
      "text/latex": [
       "$$nil=\\begin{equation*} \\frac{1}{2} \\boldsymbol{\\gamma }_{t} + \\frac{1}{2} \\boldsymbol{\\gamma }_{w} - \\frac{1}{2} \\boldsymbol{\\gamma }_{t}\\wedge \\boldsymbol{\\gamma }_{x}\\wedge \\boldsymbol{\\gamma }_{y}\\wedge \\boldsymbol{\\gamma }_{z} + \\frac{1}{2} \\boldsymbol{\\gamma }_{x}\\wedge \\boldsymbol{\\gamma }_{y}\\wedge \\boldsymbol{\\gamma }_{z}\\wedge \\boldsymbol{\\gamma }_{w} \\end{equation*}$$"
      ],
      "text/plain": [
       "<IPython.core.display.Math object>"
      ]
     },
     "metadata": {},
     "output_type": "display_data"
    },
    {
     "data": {
      "text/latex": [
       "$$nil^2=\\begin{equation*} 0 \n",
       " \\end{equation*}$$"
      ],
      "text/plain": [
       "<IPython.core.display.Math object>"
      ]
     },
     "metadata": {},
     "output_type": "display_data"
    },
    {
     "data": {
      "text/latex": [
       "$$nil_1 - nil_2=\\begin{equation*} 0 \n",
       " \\end{equation*}$$"
      ],
      "text/plain": [
       "<IPython.core.display.Math object>"
      ]
     },
     "metadata": {},
     "output_type": "display_data"
    }
   ],
   "source": [
    "idempotent=(1+jhquat)/2*(1+ihquat*imag+imag+khquat)/2\n",
    "\n",
    "displayWithTitle(idempotent, 'idem')\n",
    "displayWithTitle(idempotent*idempotent, 'idem^2')\n",
    "displayWithTitle(idempotent*idempotent - idempotent, '0')\n",
    "\n",
    "nil_1=(1+jhquat*imag)*idempotent\n",
    "displayWithTitle(nil_1, 'nil')\n",
    "displayWithTitle(nil_1*nil_1, 'nil^2')\n",
    "\n",
    "nil_2=(1+imag)*idempotent\n",
    "displayWithTitle(nil_2, 'nil')\n",
    "displayWithTitle(nil_2*nil_2, 'nil^2')\n",
    "\n",
    "displayWithTitle(nil_1 - nil_2, 'nil_1 - nil_2')"
   ]
  },
  {
   "cell_type": "markdown",
   "metadata": {},
   "source": [
    "## Idempotents"
   ]
  },
  {
   "cell_type": "code",
   "execution_count": 14,
   "metadata": {
    "collapsed": false
   },
   "outputs": [
    {
     "data": {
      "text/latex": [
       "$$\\epsilon_1=(1+\\mathbf{i})/2 = \\begin{equation*} \\frac{1}{2}  + \\frac{1}{2} \\boldsymbol{\\gamma }_{t} \\end{equation*}$$"
      ],
      "text/plain": [
       "<IPython.core.display.Math object>"
      ]
     },
     "metadata": {},
     "output_type": "display_data"
    },
    {
     "data": {
      "text/latex": [
       "$$\\epsilon_1\\epsilon_1-\\epsilon_1=\\begin{equation*} 0 \n",
       " \\end{equation*}$$"
      ],
      "text/plain": [
       "<IPython.core.display.Math object>"
      ]
     },
     "metadata": {},
     "output_type": "display_data"
    },
    {
     "data": {
      "text/latex": [
       "$$\\epsilon_2=(1+\\mathbf{j})/2 = \\begin{equation*} \\frac{1}{2}  + \\frac{1}{2} \\boldsymbol{\\gamma }_{t}\\wedge \\boldsymbol{\\gamma }_{x}\\wedge \\boldsymbol{\\gamma }_{y}\\wedge \\boldsymbol{\\gamma }_{z}\\wedge \\boldsymbol{\\gamma }_{w} \\end{equation*}$$"
      ],
      "text/plain": [
       "<IPython.core.display.Math object>"
      ]
     },
     "metadata": {},
     "output_type": "display_data"
    },
    {
     "data": {
      "text/latex": [
       "$$\\epsilon_2\\epsilon_2-\\epsilon_2=\\begin{equation*} 0 \n",
       " \\end{equation*}$$"
      ],
      "text/plain": [
       "<IPython.core.display.Math object>"
      ]
     },
     "metadata": {},
     "output_type": "display_data"
    },
    {
     "data": {
      "text/latex": [
       "$$\\epsilon_3=(1+\\mathbf{k})/2 = \\begin{equation*} \\frac{1}{2}  + \\frac{1}{2} \\boldsymbol{\\gamma }_{x}\\wedge \\boldsymbol{\\gamma }_{y}\\wedge \\boldsymbol{\\gamma }_{z}\\wedge \\boldsymbol{\\gamma }_{w} \\end{equation*}$$"
      ],
      "text/plain": [
       "<IPython.core.display.Math object>"
      ]
     },
     "metadata": {},
     "output_type": "display_data"
    },
    {
     "data": {
      "text/latex": [
       "$$\\epsilon_3\\epsilon_3-\\epsilon_3=\\begin{equation*} 0 \n",
       " \\end{equation*}$$"
      ],
      "text/plain": [
       "<IPython.core.display.Math object>"
      ]
     },
     "metadata": {},
     "output_type": "display_data"
    }
   ],
   "source": [
    "epsilon=[(1+ihquat)/2, (1+jhquat)/2, (1+khquat)/2]\n",
    "index=1\n",
    "for base in [ihquat, jhquat, khquat]:\n",
    "    label='\\epsilon_'+str(index)\n",
    "    eps=(1+base)/2\n",
    "    display(Math(label+'='+'(1+'+base.texLabel+')/2 = '+eps._repr_latex_()))\n",
    "    displayWithTitle(eps*eps - eps, title=label+label+'-'+label)\n",
    "    index = index + 1"
   ]
  },
  {
   "cell_type": "code",
   "execution_count": 15,
   "metadata": {
    "collapsed": false
   },
   "outputs": [
    {
     "data": {
      "text/latex": [
       "$$U_{1} : \\frac{1}{2}(1+\\mathbf{j})\\frac{1}{2}(1-\\mathbf{i}i+i-\\mathbf{k})\\Rightarrow U_{1}U_{1} - U_{1} = 0$$"
      ],
      "text/plain": [
       "<IPython.core.display.Math object>"
      ]
     },
     "metadata": {},
     "output_type": "display_data"
    },
    {
     "data": {
      "text/latex": [
       "$$U_{2} : \\frac{1}{2}(1-\\mathbf{j})\\frac{1}{2}(1-\\mathbf{i}i+i-\\mathbf{k})\\Rightarrow U_{2}U_{2} - U_{2} = 0$$"
      ],
      "text/plain": [
       "<IPython.core.display.Math object>"
      ]
     },
     "metadata": {},
     "output_type": "display_data"
    },
    {
     "data": {
      "text/latex": [
       "$$U_{3} : \\frac{1}{2}(1+\\mathbf{j})\\frac{1}{2}(1-\\mathbf{i}i-i+\\mathbf{k})\\Rightarrow U_{3}U_{3} - U_{3} = 0$$"
      ],
      "text/plain": [
       "<IPython.core.display.Math object>"
      ]
     },
     "metadata": {},
     "output_type": "display_data"
    },
    {
     "data": {
      "text/latex": [
       "$$U_{4} : \\frac{1}{2}(1-\\mathbf{j})\\frac{1}{2}(1-\\mathbf{i}i-i+\\mathbf{k})\\Rightarrow U_{4}U_{4} - U_{4} = 0$$"
      ],
      "text/plain": [
       "<IPython.core.display.Math object>"
      ]
     },
     "metadata": {},
     "output_type": "display_data"
    },
    {
     "data": {
      "text/latex": [
       "$$U_{5} : \\frac{1}{2}(1+\\mathbf{j})\\frac{1}{2}(1+\\mathbf{i}i-i-\\mathbf{k})\\Rightarrow U_{5}U_{5} - U_{5} = 0$$"
      ],
      "text/plain": [
       "<IPython.core.display.Math object>"
      ]
     },
     "metadata": {},
     "output_type": "display_data"
    },
    {
     "data": {
      "text/latex": [
       "$$U_{6} : \\frac{1}{2}(1-\\mathbf{j})\\frac{1}{2}(1+\\mathbf{i}i-i-\\mathbf{k})\\Rightarrow U_{6}U_{6} - U_{6} = 0$$"
      ],
      "text/plain": [
       "<IPython.core.display.Math object>"
      ]
     },
     "metadata": {},
     "output_type": "display_data"
    },
    {
     "data": {
      "text/latex": [
       "$$U_{7} : \\frac{1}{2}(1+\\mathbf{j})\\frac{1}{2}(1+\\mathbf{i}i+i+\\mathbf{k})\\Rightarrow U_{7}U_{7} - U_{7} = 0$$"
      ],
      "text/plain": [
       "<IPython.core.display.Math object>"
      ]
     },
     "metadata": {},
     "output_type": "display_data"
    },
    {
     "data": {
      "text/latex": [
       "$$U_{8} : \\frac{1}{2}(1-\\mathbf{j})\\frac{1}{2}(1+\\mathbf{i}i+i+\\mathbf{k})\\Rightarrow U_{8}U_{8} - U_{8} = 0$$"
      ],
      "text/plain": [
       "<IPython.core.display.Math object>"
      ]
     },
     "metadata": {},
     "output_type": "display_data"
    },
    {
     "data": {
      "text/latex": [
       "$$U_{9} : \\frac{1}{2}(1+\\mathbf{j})\\frac{1}{2}(1+\\mathbf{i}i-i+\\mathbf{k})\\Rightarrow U_{9}U_{9} - U_{9} = 0$$"
      ],
      "text/plain": [
       "<IPython.core.display.Math object>"
      ]
     },
     "metadata": {},
     "output_type": "display_data"
    },
    {
     "data": {
      "text/latex": [
       "$$U_{10} : \\frac{1}{2}(1-\\mathbf{j})\\frac{1}{2}(1+\\mathbf{i}i-i+\\mathbf{k})\\Rightarrow U_{10}U_{10} - U_{10} = 0$$"
      ],
      "text/plain": [
       "<IPython.core.display.Math object>"
      ]
     },
     "metadata": {},
     "output_type": "display_data"
    },
    {
     "data": {
      "text/latex": [
       "$$U_{11} : \\frac{1}{2}(1+\\mathbf{j})\\frac{1}{2}(1+\\mathbf{i}i+i-\\mathbf{k})\\Rightarrow U_{11}U_{11} - U_{11} = 0$$"
      ],
      "text/plain": [
       "<IPython.core.display.Math object>"
      ]
     },
     "metadata": {},
     "output_type": "display_data"
    },
    {
     "data": {
      "text/latex": [
       "$$U_{12} : \\frac{1}{2}(1-\\mathbf{j})\\frac{1}{2}(1+\\mathbf{i}i+i-\\mathbf{k})\\Rightarrow U_{12}U_{12} - U_{12} = 0$$"
      ],
      "text/plain": [
       "<IPython.core.display.Math object>"
      ]
     },
     "metadata": {},
     "output_type": "display_data"
    },
    {
     "data": {
      "text/latex": [
       "$$U_{13} : \\frac{1}{2}(1+\\mathbf{j})\\frac{1}{2}(1-\\mathbf{i}i+i+\\mathbf{k})\\Rightarrow U_{13}U_{13} - U_{13} = 0$$"
      ],
      "text/plain": [
       "<IPython.core.display.Math object>"
      ]
     },
     "metadata": {},
     "output_type": "display_data"
    },
    {
     "data": {
      "text/latex": [
       "$$U_{14} : \\frac{1}{2}(1-\\mathbf{j})\\frac{1}{2}(1-\\mathbf{i}i+i+\\mathbf{k})\\Rightarrow U_{14}U_{14} - U_{14} = 0$$"
      ],
      "text/plain": [
       "<IPython.core.display.Math object>"
      ]
     },
     "metadata": {},
     "output_type": "display_data"
    },
    {
     "data": {
      "text/latex": [
       "$$U_{15} : \\frac{1}{2}(1+\\mathbf{j})\\frac{1}{2}(1-\\mathbf{i}i-i-\\mathbf{k})\\Rightarrow U_{15}U_{15} - U_{15} = 0$$"
      ],
      "text/plain": [
       "<IPython.core.display.Math object>"
      ]
     },
     "metadata": {},
     "output_type": "display_data"
    },
    {
     "data": {
      "text/latex": [
       "$$U_{16} : \\frac{1}{2}(1-\\mathbf{j})\\frac{1}{2}(1-\\mathbf{i}i-i-\\mathbf{k})\\Rightarrow U_{16}U_{16} - U_{16} = 0$$"
      ],
      "text/plain": [
       "<IPython.core.display.Math object>"
      ]
     },
     "metadata": {},
     "output_type": "display_data"
    }
   ],
   "source": [
    "i=1\n",
    "U={}\n",
    "for (signs, the_symbols) in zip([( -1, +1, -1),( -1, -1, +1),( +1, -1, -1),( +1, +1, +1), ( +1, -1, +1),( +1, +1, -1),( -1, +1, +1),( -1, -1, -1)],\n",
    "                            [('-','+','-'),('-','-','+'),('+','-','-'),('+','+','+'), ('+','-','+'),('+','+','-'),('-','+','+'),('-','-','-')]):\n",
    "    U[i]=(1+jhquat)*(1+signs[0]*ihquat*imag+signs[1]*imag+signs[2]*khquat)*(S(1)/4)\n",
    "    U[i].texLabel='\\\\frac{1}{2}(1+'+jhquat.texLabel+')\\\\frac{1}{2}(1'+the_symbols[0]+ihquat.texLabel+imag.texLabel+the_symbols[1]+imag.texLabel+the_symbols[2]+khquat.texLabel+')'\n",
    "    i+=1\n",
    "    U[i]=(1-jhquat)*(1+signs[0]*ihquat*imag+signs[1]*imag+signs[2]*khquat)*(S(1)/4)\n",
    "    U[i].texLabel='\\\\frac{1}{2}(1-'+jhquat.texLabel+')\\\\frac{1}{2}(1'+the_symbols[0]+ihquat.texLabel+imag.texLabel+the_symbols[1]+imag.texLabel+the_symbols[2]+khquat.texLabel+')'\n",
    "    i+=1\n",
    "\n",
    "def Idempotents():\n",
    "    for index in range(1,17):\n",
    "        display(Math('U_{'+str(index)+'} : '+U[index].texLabel+'\\Rightarrow '+'U_{'+str(index)+'}U_{'+str(index)+'} - U_{'+str(index)+'} = ' + str(U[index]*U[index]-U[index])))\n",
    "\n",
    "Idempotents()"
   ]
  },
  {
   "cell_type": "code",
   "execution_count": null,
   "metadata": {
    "collapsed": true
   },
   "outputs": [],
   "source": []
  }
 ],
 "metadata": {
  "celltoolbar": "Raw Cell Format",
  "kernelspec": {
   "display_name": "Python 2",
   "language": "python",
   "name": "python2"
  },
  "language_info": {
   "codemirror_mode": {
    "name": "ipython",
    "version": 2
   },
   "file_extension": ".py",
   "mimetype": "text/x-python",
   "name": "python",
   "nbconvert_exporter": "python",
   "pygments_lexer": "ipython2",
   "version": "2.7.13"
  }
 },
 "nbformat": 4,
 "nbformat_minor": 2
}
