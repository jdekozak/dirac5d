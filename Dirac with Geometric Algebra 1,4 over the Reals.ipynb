{
 "cells": [
  {
   "cell_type": "code",
   "execution_count": 30,
   "metadata": {},
   "outputs": [],
   "source": [
    "from IPython.display import Math, display\n",
    "def displayWithTitle(multivector, title):\n",
    "    display(Math(title + '=' + multivector._repr_latex_()))\n",
    "def CheckProperties(i,j,k, ilabel, jlabel, klabel):\n",
    "    displayWithTitle(i, title=ilabel)\n",
    "    displayWithTitle(j, title=jlabel)\n",
    "    displayWithTitle(k, title=klabel)\n",
    "    displayWithTitle((i*i), title=ilabel+'^2')\n",
    "    displayWithTitle((j*j), title=jlabel+'^2')\n",
    "    displayWithTitle((k*k), title=klabel+'^2')\n",
    "    displayWithTitle((i*j), title=ilabel + jlabel)\n",
    "    displayWithTitle((j*i), title=jlabel + ilabel)\n",
    "    displayWithTitle((j*k), title=jlabel + klabel)\n",
    "    displayWithTitle((k*j), title=klabel + jlabel)\n",
    "    displayWithTitle((k*i), title=klabel + ilabel)\n",
    "    displayWithTitle((i*k), title=ilabel + klabel)\n",
    "    displayWithTitle((i*j*k), title=ilabel + jlabel + klabel)"
   ]
  },
  {
   "cell_type": "code",
   "execution_count": 31,
   "metadata": {},
   "outputs": [],
   "source": [
    "from sympy.matrices import *\n",
    "from galgebra.ga import Ga\n",
    "from galgebra.printer import *"
   ]
  },
  {
   "cell_type": "markdown",
   "metadata": {
    "raw_mimetype": "text/latex"
   },
   "source": [
    "## ALGEBRA & DEFINITIONS\n",
    "\n",
    "Clifford algebra is $$Cl_{1,4}(\\mathbb{R})$$\n",
    "\n",
    "Flat space, no metric, just signature\n",
    "\n",
    "All constants are equal to 1"
   ]
  },
  {
   "cell_type": "code",
   "execution_count": 32,
   "metadata": {},
   "outputs": [
    {
     "name": "stdout",
     "output_type": "stream",
     "text": [
      "(t, x, y, z, w)\n"
     ]
    }
   ],
   "source": [
    "from sympy import *\n",
    "variables = (t, x, y, z, w) = symbols('t x y z w', real=True)\n",
    "print(variables)"
   ]
  },
  {
   "cell_type": "code",
   "execution_count": 33,
   "metadata": {},
   "outputs": [],
   "source": [
    "metric=[1\n",
    "        ,-1\n",
    "        ,-1\n",
    "        ,-1\n",
    "        ,-1]\n",
    "\n",
    "myBasis='gamma_t gamma_x gamma_y gamma_z gamma_w'\n",
    "\n",
    "sp5d = Ga(myBasis, g=metric, coords=variables,norm=True)\n",
    "(gamma_t, gamma_x, gamma_y, gamma_z, gamma_w) = sp5d.mv()\n",
    "(grad, rgrad) = sp5d.grads()"
   ]
  },
  {
   "cell_type": "markdown",
   "metadata": {},
   "source": [
    "## Quaternions\n",
    "http://en.wikipedia.org/wiki/Quaternion"
   ]
  },
  {
   "cell_type": "code",
   "execution_count": 34,
   "metadata": {},
   "outputs": [
    {
     "data": {
      "text/latex": [
       "$$(1,\\mathit{\\boldsymbol{i}},\\mathit{\\boldsymbol{j}},\\mathit{\\boldsymbol{k}})$$"
      ],
      "text/plain": [
       "<IPython.core.display.Math object>"
      ]
     },
     "metadata": {},
     "output_type": "display_data"
    },
    {
     "data": {
      "text/latex": [
       "$$\\mathit{\\boldsymbol{i}}=\\begin{equation*}  \\boldsymbol{\\gamma }_{y}\\wedge \\boldsymbol{\\gamma }_{z} \\end{equation*}$$"
      ],
      "text/plain": [
       "<IPython.core.display.Math object>"
      ]
     },
     "metadata": {},
     "output_type": "display_data"
    },
    {
     "data": {
      "text/latex": [
       "$$\\mathit{\\boldsymbol{j}}=\\begin{equation*} - \\boldsymbol{\\gamma }_{x}\\wedge \\boldsymbol{\\gamma }_{z} \\end{equation*}$$"
      ],
      "text/plain": [
       "<IPython.core.display.Math object>"
      ]
     },
     "metadata": {},
     "output_type": "display_data"
    },
    {
     "data": {
      "text/latex": [
       "$$\\mathit{\\boldsymbol{k}}=\\begin{equation*}  \\boldsymbol{\\gamma }_{x}\\wedge \\boldsymbol{\\gamma }_{y} \\end{equation*}$$"
      ],
      "text/plain": [
       "<IPython.core.display.Math object>"
      ]
     },
     "metadata": {},
     "output_type": "display_data"
    },
    {
     "data": {
      "text/latex": [
       "$$\\mathit{\\boldsymbol{i}}^2=\\begin{equation*} -1 \\end{equation*}$$"
      ],
      "text/plain": [
       "<IPython.core.display.Math object>"
      ]
     },
     "metadata": {},
     "output_type": "display_data"
    },
    {
     "data": {
      "text/latex": [
       "$$\\mathit{\\boldsymbol{j}}^2=\\begin{equation*} -1 \\end{equation*}$$"
      ],
      "text/plain": [
       "<IPython.core.display.Math object>"
      ]
     },
     "metadata": {},
     "output_type": "display_data"
    },
    {
     "data": {
      "text/latex": [
       "$$\\mathit{\\boldsymbol{k}}^2=\\begin{equation*} -1 \\end{equation*}$$"
      ],
      "text/plain": [
       "<IPython.core.display.Math object>"
      ]
     },
     "metadata": {},
     "output_type": "display_data"
    },
    {
     "data": {
      "text/latex": [
       "$$\\mathit{\\boldsymbol{i}}\\mathit{\\boldsymbol{j}}=\\begin{equation*}  \\boldsymbol{\\gamma }_{x}\\wedge \\boldsymbol{\\gamma }_{y} \\end{equation*}$$"
      ],
      "text/plain": [
       "<IPython.core.display.Math object>"
      ]
     },
     "metadata": {},
     "output_type": "display_data"
    },
    {
     "data": {
      "text/latex": [
       "$$\\mathit{\\boldsymbol{j}}\\mathit{\\boldsymbol{i}}=\\begin{equation*} - \\boldsymbol{\\gamma }_{x}\\wedge \\boldsymbol{\\gamma }_{y} \\end{equation*}$$"
      ],
      "text/plain": [
       "<IPython.core.display.Math object>"
      ]
     },
     "metadata": {},
     "output_type": "display_data"
    },
    {
     "data": {
      "text/latex": [
       "$$\\mathit{\\boldsymbol{j}}\\mathit{\\boldsymbol{k}}=\\begin{equation*}  \\boldsymbol{\\gamma }_{y}\\wedge \\boldsymbol{\\gamma }_{z} \\end{equation*}$$"
      ],
      "text/plain": [
       "<IPython.core.display.Math object>"
      ]
     },
     "metadata": {},
     "output_type": "display_data"
    },
    {
     "data": {
      "text/latex": [
       "$$\\mathit{\\boldsymbol{k}}\\mathit{\\boldsymbol{j}}=\\begin{equation*} - \\boldsymbol{\\gamma }_{y}\\wedge \\boldsymbol{\\gamma }_{z} \\end{equation*}$$"
      ],
      "text/plain": [
       "<IPython.core.display.Math object>"
      ]
     },
     "metadata": {},
     "output_type": "display_data"
    },
    {
     "data": {
      "text/latex": [
       "$$\\mathit{\\boldsymbol{k}}\\mathit{\\boldsymbol{i}}=\\begin{equation*} - \\boldsymbol{\\gamma }_{x}\\wedge \\boldsymbol{\\gamma }_{z} \\end{equation*}$$"
      ],
      "text/plain": [
       "<IPython.core.display.Math object>"
      ]
     },
     "metadata": {},
     "output_type": "display_data"
    },
    {
     "data": {
      "text/latex": [
       "$$\\mathit{\\boldsymbol{i}}\\mathit{\\boldsymbol{k}}=\\begin{equation*}  \\boldsymbol{\\gamma }_{x}\\wedge \\boldsymbol{\\gamma }_{z} \\end{equation*}$$"
      ],
      "text/plain": [
       "<IPython.core.display.Math object>"
      ]
     },
     "metadata": {},
     "output_type": "display_data"
    },
    {
     "data": {
      "text/latex": [
       "$$\\mathit{\\boldsymbol{i}}\\mathit{\\boldsymbol{j}}\\mathit{\\boldsymbol{k}}=\\begin{equation*} -1 \\end{equation*}$$"
      ],
      "text/plain": [
       "<IPython.core.display.Math object>"
      ]
     },
     "metadata": {},
     "output_type": "display_data"
    }
   ],
   "source": [
    "iquat=gamma_y*gamma_z\n",
    "jquat=gamma_z*gamma_x\n",
    "kquat=gamma_x*gamma_y\n",
    "iquat.texLabel='\\\\mathit{\\\\boldsymbol{i}}'\n",
    "jquat.texLabel='\\\\mathit{\\\\boldsymbol{j}}'\n",
    "kquat.texLabel='\\\\mathit{\\\\boldsymbol{k}}'\n",
    "\n",
    "display(Math('(1,'+iquat.texLabel+','+jquat.texLabel+','+kquat.texLabel+')'))\n",
    "CheckProperties(iquat,jquat,kquat,iquat.texLabel,jquat.texLabel,kquat.texLabel)"
   ]
  },
  {
   "cell_type": "markdown",
   "metadata": {},
   "source": [
    "## Imaginary unit"
   ]
  },
  {
   "cell_type": "code",
   "execution_count": 35,
   "metadata": {},
   "outputs": [
    {
     "data": {
      "text/latex": [
       "$$i=\\begin{equation*}  \\boldsymbol{\\gamma }_{w} \\end{equation*}$$"
      ],
      "text/plain": [
       "<IPython.core.display.Math object>"
      ]
     },
     "metadata": {},
     "output_type": "display_data"
    },
    {
     "data": {
      "text/latex": [
       "$$i^2=\\begin{equation*} -1 \\end{equation*}$$"
      ],
      "text/plain": [
       "<IPython.core.display.Math object>"
      ]
     },
     "metadata": {},
     "output_type": "display_data"
    }
   ],
   "source": [
    "imag=gamma_w\n",
    "imag.texLabel='i'\n",
    "\n",
    "displayWithTitle(imag, title=imag.texLabel)\n",
    "displayWithTitle((imag*imag), title=imag.texLabel+'^2')"
   ]
  },
  {
   "cell_type": "markdown",
   "metadata": {},
   "source": [
    "## Associative Hyperbolic Quaternions"
   ]
  },
  {
   "cell_type": "code",
   "execution_count": 36,
   "metadata": {},
   "outputs": [
    {
     "data": {
      "text/latex": [
       "$$(1,\\mathbf{i},\\mathbf{j},\\mathbf{k})$$"
      ],
      "text/plain": [
       "<IPython.core.display.Math object>"
      ]
     },
     "metadata": {},
     "output_type": "display_data"
    },
    {
     "data": {
      "text/latex": [
       "$$\\mathbf{i}=\\begin{equation*}  \\boldsymbol{\\gamma }_{t} \\end{equation*}$$"
      ],
      "text/plain": [
       "<IPython.core.display.Math object>"
      ]
     },
     "metadata": {},
     "output_type": "display_data"
    },
    {
     "data": {
      "text/latex": [
       "$$\\mathbf{j}=\\begin{equation*}  \\boldsymbol{\\gamma }_{t}\\wedge \\boldsymbol{\\gamma }_{x}\\wedge \\boldsymbol{\\gamma }_{y}\\wedge \\boldsymbol{\\gamma }_{z}\\wedge \\boldsymbol{\\gamma }_{w} \\end{equation*}$$"
      ],
      "text/plain": [
       "<IPython.core.display.Math object>"
      ]
     },
     "metadata": {},
     "output_type": "display_data"
    },
    {
     "data": {
      "text/latex": [
       "$$\\mathbf{k}=\\begin{equation*}  \\boldsymbol{\\gamma }_{x}\\wedge \\boldsymbol{\\gamma }_{y}\\wedge \\boldsymbol{\\gamma }_{z}\\wedge \\boldsymbol{\\gamma }_{w} \\end{equation*}$$"
      ],
      "text/plain": [
       "<IPython.core.display.Math object>"
      ]
     },
     "metadata": {},
     "output_type": "display_data"
    },
    {
     "data": {
      "text/latex": [
       "$$\\mathbf{i}^2=\\begin{equation*} 1 \\end{equation*}$$"
      ],
      "text/plain": [
       "<IPython.core.display.Math object>"
      ]
     },
     "metadata": {},
     "output_type": "display_data"
    },
    {
     "data": {
      "text/latex": [
       "$$\\mathbf{j}^2=\\begin{equation*} 1 \\end{equation*}$$"
      ],
      "text/plain": [
       "<IPython.core.display.Math object>"
      ]
     },
     "metadata": {},
     "output_type": "display_data"
    },
    {
     "data": {
      "text/latex": [
       "$$\\mathbf{k}^2=\\begin{equation*} 1 \\end{equation*}$$"
      ],
      "text/plain": [
       "<IPython.core.display.Math object>"
      ]
     },
     "metadata": {},
     "output_type": "display_data"
    },
    {
     "data": {
      "text/latex": [
       "$$\\mathbf{i}\\mathbf{j}=\\begin{equation*}  \\boldsymbol{\\gamma }_{x}\\wedge \\boldsymbol{\\gamma }_{y}\\wedge \\boldsymbol{\\gamma }_{z}\\wedge \\boldsymbol{\\gamma }_{w} \\end{equation*}$$"
      ],
      "text/plain": [
       "<IPython.core.display.Math object>"
      ]
     },
     "metadata": {},
     "output_type": "display_data"
    },
    {
     "data": {
      "text/latex": [
       "$$\\mathbf{j}\\mathbf{i}=\\begin{equation*}  \\boldsymbol{\\gamma }_{x}\\wedge \\boldsymbol{\\gamma }_{y}\\wedge \\boldsymbol{\\gamma }_{z}\\wedge \\boldsymbol{\\gamma }_{w} \\end{equation*}$$"
      ],
      "text/plain": [
       "<IPython.core.display.Math object>"
      ]
     },
     "metadata": {},
     "output_type": "display_data"
    },
    {
     "data": {
      "text/latex": [
       "$$\\mathbf{j}\\mathbf{k}=\\begin{equation*}  \\boldsymbol{\\gamma }_{t} \\end{equation*}$$"
      ],
      "text/plain": [
       "<IPython.core.display.Math object>"
      ]
     },
     "metadata": {},
     "output_type": "display_data"
    },
    {
     "data": {
      "text/latex": [
       "$$\\mathbf{k}\\mathbf{j}=\\begin{equation*}  \\boldsymbol{\\gamma }_{t} \\end{equation*}$$"
      ],
      "text/plain": [
       "<IPython.core.display.Math object>"
      ]
     },
     "metadata": {},
     "output_type": "display_data"
    },
    {
     "data": {
      "text/latex": [
       "$$\\mathbf{k}\\mathbf{i}=\\begin{equation*}  \\boldsymbol{\\gamma }_{t}\\wedge \\boldsymbol{\\gamma }_{x}\\wedge \\boldsymbol{\\gamma }_{y}\\wedge \\boldsymbol{\\gamma }_{z}\\wedge \\boldsymbol{\\gamma }_{w} \\end{equation*}$$"
      ],
      "text/plain": [
       "<IPython.core.display.Math object>"
      ]
     },
     "metadata": {},
     "output_type": "display_data"
    },
    {
     "data": {
      "text/latex": [
       "$$\\mathbf{i}\\mathbf{k}=\\begin{equation*}  \\boldsymbol{\\gamma }_{t}\\wedge \\boldsymbol{\\gamma }_{x}\\wedge \\boldsymbol{\\gamma }_{y}\\wedge \\boldsymbol{\\gamma }_{z}\\wedge \\boldsymbol{\\gamma }_{w} \\end{equation*}$$"
      ],
      "text/plain": [
       "<IPython.core.display.Math object>"
      ]
     },
     "metadata": {},
     "output_type": "display_data"
    },
    {
     "data": {
      "text/latex": [
       "$$\\mathbf{i}\\mathbf{j}\\mathbf{k}=\\begin{equation*} 1 \\end{equation*}$$"
      ],
      "text/plain": [
       "<IPython.core.display.Math object>"
      ]
     },
     "metadata": {},
     "output_type": "display_data"
    }
   ],
   "source": [
    "ihquat=gamma_t\n",
    "jhquat=gamma_t*gamma_x*gamma_y*gamma_z*gamma_w\n",
    "khquat=gamma_x*gamma_y*gamma_z*gamma_w\n",
    "ihquat.texLabel='\\\\mathbf{i}'\n",
    "jhquat.texLabel='\\\\mathbf{j}'\n",
    "khquat.texLabel='\\\\mathbf{k}'\n",
    "\n",
    "display(Math('(1,'+ihquat.texLabel+','+jhquat.texLabel+','+khquat.texLabel+')'))\n",
    "CheckProperties(ihquat,jhquat,khquat,ihquat.texLabel,jhquat.texLabel,khquat.texLabel)"
   ]
  },
  {
   "cell_type": "markdown",
   "metadata": {
    "collapsed": true
   },
   "source": [
    "## DIRAC\n",
    "http://en.wikipedia.org/wiki/Dirac_equation\n",
    "\n",
    "Regular\n",
    "$$0=({\\gamma}_0 \\frac{\\partial}{\\partial t}+{\\gamma}_1 \\frac{\\partial}{\\partial x}+{\\gamma}_2 \\frac{\\partial}{\\partial y}+{\\gamma}_3 \\frac{\\partial}{\\partial z}+im) {\\psi}$$\n",
    "\n",
    "Adjoint\n",
    "$$0={\\overline{\\psi}}(\\frac{\\partial}{\\partial t}{\\gamma}_0+\\frac{\\partial}{\\partial x}{\\gamma}_1+\\frac{\\partial}{\\partial y}{\\gamma}_2+\\frac{\\partial}{\\partial z}{\\gamma}_3+im)$$\n",
    "\n",
    "Gradient definition\n"
   ]
  },
  {
   "cell_type": "code",
   "execution_count": 37,
   "metadata": {
    "scrolled": true
   },
   "outputs": [
    {
     "data": {
      "text/latex": [
       "$$\\overrightarrow{D} = \\Sigma e_i \\partial x_i=\\begin{equation*} gamma_t D{t} -gamma_x D{x} -gamma_y D{y} -gamma_z D{z} -gamma_w D{w} \\end{equation*}$$"
      ],
      "text/plain": [
       "<IPython.core.display.Math object>"
      ]
     },
     "metadata": {},
     "output_type": "display_data"
    },
    {
     "data": {
      "text/latex": [
       "$$\\overleftarrow{D} = \\Sigma \\partial x_i e_i=\\begin{equation*} D{t} gamma_t -D{x}gamma_x -D{y}gamma_y -D{z}gamma_z -D{w}gamma_w \\end{equation*}$$"
      ],
      "text/plain": [
       "<IPython.core.display.Math object>"
      ]
     },
     "metadata": {},
     "output_type": "display_data"
    }
   ],
   "source": [
    "displayWithTitle(grad,title='\\overrightarrow{D} = \\Sigma e_i \\partial x_i')\n",
    "displayWithTitle(rgrad,title='\\overleftarrow{D} = \\Sigma \\partial x_i e_i')"
   ]
  },
  {
   "cell_type": "markdown",
   "metadata": {},
   "source": [
    "# PHYSICS\n",
    "\n",
    "The following symbols are defined :\n",
    "\n",
    "Energy $$E \\in \\mathbb{R}$$\n",
    "\n",
    "Mass $$m \\in \\mathbb{R}$$"
   ]
  },
  {
   "cell_type": "code",
   "execution_count": 38,
   "metadata": {},
   "outputs": [
    {
     "data": {
      "text/latex": [
       "Momentum $\\mathbf{p}$ is defined with $p_x, p_y, p_z \\in \\mathbb{R}$"
      ],
      "text/plain": [
       "<IPython.core.display.Latex object>"
      ]
     },
     "metadata": {},
     "output_type": "display_data"
    },
    {
     "data": {
      "text/latex": [
       "$$\\mathbf{p}=p_x\\mathit{\\boldsymbol{i}}+p_y\\mathit{\\boldsymbol{j}}+p_z\\mathit{\\boldsymbol{k}}$$"
      ],
      "text/plain": [
       "<IPython.core.display.Math object>"
      ]
     },
     "metadata": {},
     "output_type": "display_data"
    },
    {
     "data": {
      "text/latex": [
       "$$\\mathbf{p}=\\begin{equation*} p_{z} \\boldsymbol{\\gamma }_{x}\\wedge \\boldsymbol{\\gamma }_{y} - p_{y} \\boldsymbol{\\gamma }_{x}\\wedge \\boldsymbol{\\gamma }_{z} + p_{x} \\boldsymbol{\\gamma }_{y}\\wedge \\boldsymbol{\\gamma }_{z} \\end{equation*}$$"
      ],
      "text/plain": [
       "<IPython.core.display.Math object>"
      ]
     },
     "metadata": {},
     "output_type": "display_data"
    }
   ],
   "source": [
    "m, E, p_x, p_y, p_z = symbols('m E p_x p_y p_z', real=True)\n",
    "\n",
    "rquat = [iquat, jquat, kquat]\n",
    "pv =[p_x, p_y, p_z]\n",
    "p = S(0)\n",
    "for (dim, var) in zip(pv, rquat):\n",
    "    p += var * dim\n",
    "p.texLabel='\\\\mathbf{p}'\n",
    "\n",
    "display(Latex('Momentum $'+p.texLabel+'$ is defined with $p_x, p_y, p_z \\\\in \\\\mathbb{R}$'))\n",
    "display(Math(p.texLabel+'=p_x'+iquat.texLabel+'+p_y'+jquat.texLabel+'+p_z'+kquat.texLabel))\n",
    "displayWithTitle(p, title=p.texLabel)"
   ]
  },
  {
   "cell_type": "code",
   "execution_count": 39,
   "metadata": {
    "scrolled": true
   },
   "outputs": [
    {
     "data": {
      "text/latex": [
       "$$f=\\begin{equation*} m w  + \\left ( - E t - p_{x} x - p_{y} y - p_{z} z\\right ) \\boldsymbol{\\gamma }_{w} \\end{equation*}$$"
      ],
      "text/plain": [
       "<IPython.core.display.Math object>"
      ]
     },
     "metadata": {},
     "output_type": "display_data"
    },
    {
     "data": {
      "text/latex": [
       "$$\\overrightarrow{D}f=\\begin{equation*} - m \\boldsymbol{\\gamma }_{w} - E \\boldsymbol{\\gamma }_{t}\\wedge \\boldsymbol{\\gamma }_{w} + p_{x} \\boldsymbol{\\gamma }_{x}\\wedge \\boldsymbol{\\gamma }_{w} + p_{y} \\boldsymbol{\\gamma }_{y}\\wedge \\boldsymbol{\\gamma }_{w} + p_{z} \\boldsymbol{\\gamma }_{z}\\wedge \\boldsymbol{\\gamma }_{w} \\end{equation*}$$"
      ],
      "text/plain": [
       "<IPython.core.display.Math object>"
      ]
     },
     "metadata": {},
     "output_type": "display_data"
    },
    {
     "data": {
      "text/latex": [
       "$$f\\overleftarrow{D}=\\begin{equation*} - m \\boldsymbol{\\gamma }_{w} + E \\boldsymbol{\\gamma }_{t}\\wedge \\boldsymbol{\\gamma }_{w} - p_{x} \\boldsymbol{\\gamma }_{x}\\wedge \\boldsymbol{\\gamma }_{w} - p_{y} \\boldsymbol{\\gamma }_{y}\\wedge \\boldsymbol{\\gamma }_{w} - p_{z} \\boldsymbol{\\gamma }_{z}\\wedge \\boldsymbol{\\gamma }_{w} \\end{equation*}$$"
      ],
      "text/plain": [
       "<IPython.core.display.Math object>"
      ]
     },
     "metadata": {},
     "output_type": "display_data"
    },
    {
     "data": {
      "text/latex": [
       "$$\\overrightarrow{D}f\\overrightarrow{D}f=\\begin{equation*} E^{2} - m^{2} - {\\left ( p_{x} \\right )}^{2} - {\\left ( p_{y} \\right )}^{2} - {\\left ( p_{z} \\right )}^{2} \\end{equation*}$$"
      ],
      "text/plain": [
       "<IPython.core.display.Math object>"
      ]
     },
     "metadata": {},
     "output_type": "display_data"
    },
    {
     "data": {
      "text/latex": [
       "$$f\\overleftarrow{D}f\\overleftarrow{D}=\\begin{equation*} E^{2} - m^{2} - {\\left ( p_{x} \\right )}^{2} - {\\left ( p_{y} \\right )}^{2} - {\\left ( p_{z} \\right )}^{2} \\end{equation*}$$"
      ],
      "text/plain": [
       "<IPython.core.display.Math object>"
      ]
     },
     "metadata": {},
     "output_type": "display_data"
    },
    {
     "data": {
      "text/latex": [
       "$$1/2 (\\overrightarrow{D}f-f\\overleftarrow{D})=\\begin{equation*} - E \\boldsymbol{\\gamma }_{t}\\wedge \\boldsymbol{\\gamma }_{w} + p_{x} \\boldsymbol{\\gamma }_{x}\\wedge \\boldsymbol{\\gamma }_{w} + p_{y} \\boldsymbol{\\gamma }_{y}\\wedge \\boldsymbol{\\gamma }_{w} + p_{z} \\boldsymbol{\\gamma }_{z}\\wedge \\boldsymbol{\\gamma }_{w} \\end{equation*}$$"
      ],
      "text/plain": [
       "<IPython.core.display.Math object>"
      ]
     },
     "metadata": {},
     "output_type": "display_data"
    },
    {
     "data": {
      "text/latex": [
       "$$1/2 (\\overrightarrow{D}f+f\\overleftarrow{D})=\\begin{equation*} - m \\boldsymbol{\\gamma }_{w} \\end{equation*}$$"
      ],
      "text/plain": [
       "<IPython.core.display.Math object>"
      ]
     },
     "metadata": {},
     "output_type": "display_data"
    }
   ],
   "source": [
    "f=m*w-imag*(E*t+p_x*x+p_y*y+p_z*z)\n",
    "\n",
    "displayWithTitle(f, title='f')\n",
    "displayWithTitle(grad*f, title='\\overrightarrow{D}f')\n",
    "displayWithTitle(f*rgrad, title='f\\overleftarrow{D}')\n",
    "displayWithTitle(grad*f*grad*f, title='\\overrightarrow{D}f\\overrightarrow{D}f')\n",
    "displayWithTitle(f*rgrad*f*rgrad, title='f\\overleftarrow{D}f\\overleftarrow{D}')\n",
    "displayWithTitle((grad*f - f*rgrad)/2, title='1/2 (\\overrightarrow{D}f-f\\overleftarrow{D})')\n",
    "displayWithTitle((grad*f + f*rgrad)/2, title='1/2 (\\overrightarrow{D}f+f\\overleftarrow{D})')\n"
   ]
  },
  {
   "cell_type": "markdown",
   "metadata": {},
   "source": [
    "### Density element combined derivatives\n",
    "\n",
    "See here http://www.bbk.ac.uk/tpru/BasilHiley/Bohm-Vienna.pdf"
   ]
  },
  {
   "cell_type": "code",
   "execution_count": 40,
   "metadata": {},
   "outputs": [],
   "source": [
    "K={}\n",
    "\n",
    "K[1]=(ihquat*imag*E-imag*m+khquat*p)*(1+jhquat)\n",
    "K[1].texLabel='('+ihquat.texLabel+imag.texLabel+'E-'+imag.texLabel+'m+'+khquat.texLabel+p.texLabel+')(1+'+jhquat.texLabel+')'\n",
    "\n",
    "texLabel='('+ihquat.texLabel+imag.texLabel+'E+'+imag.texLabel+'m+'+khquat.texLabel+p.texLabel+')'+'(1-'+jhquat.texLabel+')'+imag.texLabel\n",
    "K[2]=(ihquat*imag*E+imag*m+khquat*p)*(1-jhquat)*imag\n",
    "K[2].texLabel=texLabel\n",
    "texLabel='-'+'('+ihquat.texLabel+imag.texLabel+'E+'+imag.texLabel+'m+'+khquat.texLabel+p.texLabel+')'+imag.texLabel\n",
    "\n",
    "\n",
    "def showDerivatives(f, i, k):\n",
    "    displayWithTitle(k, 'k_' + str(i) + '=' + k.texLabel)\n",
    "    displayWithTitle(k*k, 'k_' + str(i) + '^2')\n",
    "    rho=(f*k)*(k*f)\n",
    "    displayWithTitle(rho, title='\\\\rho')\n",
    "    left=grad*rho\n",
    "    right=rho*rgrad\n",
    "    display(Latex('Combine regular and adjoint Dirac equations with difference'))\n",
    "    displayWithTitle((left-right)/2, '1/2 (\\overrightarrow{D}\\\\rho-\\\\rho\\overleftarrow{D})')\n",
    "    display(Latex('Combine regular and adjoint Dirac equations with addition'))\n",
    "    displayWithTitle((left+right)/2, '1/2 (\\overrightarrow{D}\\\\rho+\\\\rho\\overleftarrow{D})')"
   ]
  },
  {
   "cell_type": "markdown",
   "metadata": {},
   "source": [
    "$$k_1$$ but density element seems null"
   ]
  },
  {
   "cell_type": "code",
   "execution_count": 41,
   "metadata": {},
   "outputs": [
    {
     "data": {
      "text/latex": [
       "$$k_1=(\\mathbf{i}iE-im+\\mathbf{k}\\mathbf{p})(1+\\mathbf{j})=\\begin{equation*} - m \\boldsymbol{\\gamma }_{w} + E \\boldsymbol{\\gamma }_{t}\\wedge \\boldsymbol{\\gamma }_{w} - p_{x} \\boldsymbol{\\gamma }_{x}\\wedge \\boldsymbol{\\gamma }_{w} - p_{y} \\boldsymbol{\\gamma }_{y}\\wedge \\boldsymbol{\\gamma }_{w} - p_{z} \\boldsymbol{\\gamma }_{z}\\wedge \\boldsymbol{\\gamma }_{w} + p_{z} \\boldsymbol{\\gamma }_{t}\\wedge \\boldsymbol{\\gamma }_{x}\\wedge \\boldsymbol{\\gamma }_{y} - p_{y} \\boldsymbol{\\gamma }_{t}\\wedge \\boldsymbol{\\gamma }_{x}\\wedge \\boldsymbol{\\gamma }_{z} + p_{x} \\boldsymbol{\\gamma }_{t}\\wedge \\boldsymbol{\\gamma }_{y}\\wedge \\boldsymbol{\\gamma }_{z} - E \\boldsymbol{\\gamma }_{x}\\wedge \\boldsymbol{\\gamma }_{y}\\wedge \\boldsymbol{\\gamma }_{z} + m \\boldsymbol{\\gamma }_{t}\\wedge \\boldsymbol{\\gamma }_{x}\\wedge \\boldsymbol{\\gamma }_{y}\\wedge \\boldsymbol{\\gamma }_{z} \\end{equation*}$$"
      ],
      "text/plain": [
       "<IPython.core.display.Math object>"
      ]
     },
     "metadata": {},
     "output_type": "display_data"
    },
    {
     "data": {
      "text/latex": [
       "$$k_1^2=\\begin{equation*} \\left ( 2 E^{2} - 2 m^{2} - 2 {\\left ( p_{x} \\right )}^{2} - 2 {\\left ( p_{y} \\right )}^{2} - 2 {\\left ( p_{z} \\right )}^{2}\\right )  + \\left ( 2 E^{2} - 2 m^{2} - 2 {\\left ( p_{x} \\right )}^{2} - 2 {\\left ( p_{y} \\right )}^{2} - 2 {\\left ( p_{z} \\right )}^{2}\\right ) \\boldsymbol{\\gamma }_{t}\\wedge \\boldsymbol{\\gamma }_{x}\\wedge \\boldsymbol{\\gamma }_{y}\\wedge \\boldsymbol{\\gamma }_{z}\\wedge \\boldsymbol{\\gamma }_{w} \\end{equation*}$$"
      ],
      "text/plain": [
       "<IPython.core.display.Math object>"
      ]
     },
     "metadata": {},
     "output_type": "display_data"
    },
    {
     "data": {
      "text/latex": [
       "$$\\rho=\\begin{equation*} \\left ( - 2 E^{4} t^{2} - 4 E^{3} p_{x} t x - 4 E^{3} p_{y} t y - 4 E^{3} p_{z} t z + 2 E^{2} m^{2} t^{2} + 2 E^{2} m^{2} w^{2} + 2 E^{2} {\\left ( p_{x} \\right )}^{2} t^{2} - 2 E^{2} {\\left ( p_{x} \\right )}^{2} x^{2} - 4 E^{2} p_{x} p_{y} x y - 4 E^{2} p_{x} p_{z} x z + 2 E^{2} {\\left ( p_{y} \\right )}^{2} t^{2} - 2 E^{2} {\\left ( p_{y} \\right )}^{2} y^{2} - 4 E^{2} p_{y} p_{z} y z + 2 E^{2} {\\left ( p_{z} \\right )}^{2} t^{2} - 2 E^{2} {\\left ( p_{z} \\right )}^{2} z^{2} + 4 E m^{2} p_{x} t x + 4 E m^{2} p_{y} t y + 4 E m^{2} p_{z} t z + 4 E {\\left ( p_{x} \\right )}^{3} t x + 4 E {\\left ( p_{x} \\right )}^{2} p_{y} t y + 4 E {\\left ( p_{x} \\right )}^{2} p_{z} t z + 4 E p_{x} {\\left ( p_{y} \\right )}^{2} t x + 4 E p_{x} {\\left ( p_{z} \\right )}^{2} t x + 4 E {\\left ( p_{y} \\right )}^{3} t y + 4 E {\\left ( p_{y} \\right )}^{2} p_{z} t z + 4 E p_{y} {\\left ( p_{z} \\right )}^{2} t y + 4 E {\\left ( p_{z} \\right )}^{3} t z - 2 m^{4} w^{2} - 2 m^{2} {\\left ( p_{x} \\right )}^{2} w^{2} + 2 m^{2} {\\left ( p_{x} \\right )}^{2} x^{2} + 4 m^{2} p_{x} p_{y} x y + 4 m^{2} p_{x} p_{z} x z - 2 m^{2} {\\left ( p_{y} \\right )}^{2} w^{2} + 2 m^{2} {\\left ( p_{y} \\right )}^{2} y^{2} + 4 m^{2} p_{y} p_{z} y z - 2 m^{2} {\\left ( p_{z} \\right )}^{2} w^{2} + 2 m^{2} {\\left ( p_{z} \\right )}^{2} z^{2} + 2 {\\left ( p_{x} \\right )}^{4} x^{2} + 4 {\\left ( p_{x} \\right )}^{3} p_{y} x y + 4 {\\left ( p_{x} \\right )}^{3} p_{z} x z + 2 {\\left ( p_{x} \\right )}^{2} {\\left ( p_{y} \\right )}^{2} x^{2} + 2 {\\left ( p_{x} \\right )}^{2} {\\left ( p_{y} \\right )}^{2} y^{2} + 4 {\\left ( p_{x} \\right )}^{2} p_{y} p_{z} y z + 2 {\\left ( p_{x} \\right )}^{2} {\\left ( p_{z} \\right )}^{2} x^{2} + 2 {\\left ( p_{x} \\right )}^{2} {\\left ( p_{z} \\right )}^{2} z^{2} + 4 p_{x} {\\left ( p_{y} \\right )}^{3} x y + 4 p_{x} {\\left ( p_{y} \\right )}^{2} p_{z} x z + 4 p_{x} p_{y} {\\left ( p_{z} \\right )}^{2} x y + 4 p_{x} {\\left ( p_{z} \\right )}^{3} x z + 2 {\\left ( p_{y} \\right )}^{4} y^{2} + 4 {\\left ( p_{y} \\right )}^{3} p_{z} y z + 2 {\\left ( p_{y} \\right )}^{2} {\\left ( p_{z} \\right )}^{2} y^{2} + 2 {\\left ( p_{y} \\right )}^{2} {\\left ( p_{z} \\right )}^{2} z^{2} + 4 p_{y} {\\left ( p_{z} \\right )}^{3} y z + 2 {\\left ( p_{z} \\right )}^{4} z^{2}\\right )  + 4 m w \\left(- E^{3} t - E^{2} p_{x} x - E^{2} p_{y} y - E^{2} p_{z} z + E m^{2} t + E {\\left ( p_{x} \\right )}^{2} t + E {\\left ( p_{y} \\right )}^{2} t + E {\\left ( p_{z} \\right )}^{2} t + m^{2} p_{x} x + m^{2} p_{y} y + m^{2} p_{z} z + {\\left ( p_{x} \\right )}^{3} x + {\\left ( p_{x} \\right )}^{2} p_{y} y + {\\left ( p_{x} \\right )}^{2} p_{z} z + p_{x} {\\left ( p_{y} \\right )}^{2} x + p_{x} {\\left ( p_{z} \\right )}^{2} x + {\\left ( p_{y} \\right )}^{3} y + {\\left ( p_{y} \\right )}^{2} p_{z} z + p_{y} {\\left ( p_{z} \\right )}^{2} y + {\\left ( p_{z} \\right )}^{3} z\\right) \\boldsymbol{\\gamma }_{w} + 4 m w \\left(E^{3} t + E^{2} p_{x} x + E^{2} p_{y} y + E^{2} p_{z} z - E m^{2} t - E {\\left ( p_{x} \\right )}^{2} t - E {\\left ( p_{y} \\right )}^{2} t - E {\\left ( p_{z} \\right )}^{2} t - m^{2} p_{x} x - m^{2} p_{y} y - m^{2} p_{z} z - {\\left ( p_{x} \\right )}^{3} x - {\\left ( p_{x} \\right )}^{2} p_{y} y - {\\left ( p_{x} \\right )}^{2} p_{z} z - p_{x} {\\left ( p_{y} \\right )}^{2} x - p_{x} {\\left ( p_{z} \\right )}^{2} x - {\\left ( p_{y} \\right )}^{3} y - {\\left ( p_{y} \\right )}^{2} p_{z} z - p_{y} {\\left ( p_{z} \\right )}^{2} y - {\\left ( p_{z} \\right )}^{3} z\\right) \\boldsymbol{\\gamma }_{t}\\wedge \\boldsymbol{\\gamma }_{x}\\wedge \\boldsymbol{\\gamma }_{y}\\wedge \\boldsymbol{\\gamma }_{z} + \\left ( - 2 E^{4} t^{2} - 4 E^{3} p_{x} t x - 4 E^{3} p_{y} t y - 4 E^{3} p_{z} t z + 2 E^{2} m^{2} t^{2} + 2 E^{2} m^{2} w^{2} + 2 E^{2} {\\left ( p_{x} \\right )}^{2} t^{2} - 2 E^{2} {\\left ( p_{x} \\right )}^{2} x^{2} - 4 E^{2} p_{x} p_{y} x y - 4 E^{2} p_{x} p_{z} x z + 2 E^{2} {\\left ( p_{y} \\right )}^{2} t^{2} - 2 E^{2} {\\left ( p_{y} \\right )}^{2} y^{2} - 4 E^{2} p_{y} p_{z} y z + 2 E^{2} {\\left ( p_{z} \\right )}^{2} t^{2} - 2 E^{2} {\\left ( p_{z} \\right )}^{2} z^{2} + 4 E m^{2} p_{x} t x + 4 E m^{2} p_{y} t y + 4 E m^{2} p_{z} t z + 4 E {\\left ( p_{x} \\right )}^{3} t x + 4 E {\\left ( p_{x} \\right )}^{2} p_{y} t y + 4 E {\\left ( p_{x} \\right )}^{2} p_{z} t z + 4 E p_{x} {\\left ( p_{y} \\right )}^{2} t x + 4 E p_{x} {\\left ( p_{z} \\right )}^{2} t x + 4 E {\\left ( p_{y} \\right )}^{3} t y + 4 E {\\left ( p_{y} \\right )}^{2} p_{z} t z + 4 E p_{y} {\\left ( p_{z} \\right )}^{2} t y + 4 E {\\left ( p_{z} \\right )}^{3} t z - 2 m^{4} w^{2} - 2 m^{2} {\\left ( p_{x} \\right )}^{2} w^{2} + 2 m^{2} {\\left ( p_{x} \\right )}^{2} x^{2} + 4 m^{2} p_{x} p_{y} x y + 4 m^{2} p_{x} p_{z} x z - 2 m^{2} {\\left ( p_{y} \\right )}^{2} w^{2} + 2 m^{2} {\\left ( p_{y} \\right )}^{2} y^{2} + 4 m^{2} p_{y} p_{z} y z - 2 m^{2} {\\left ( p_{z} \\right )}^{2} w^{2} + 2 m^{2} {\\left ( p_{z} \\right )}^{2} z^{2} + 2 {\\left ( p_{x} \\right )}^{4} x^{2} + 4 {\\left ( p_{x} \\right )}^{3} p_{y} x y + 4 {\\left ( p_{x} \\right )}^{3} p_{z} x z + 2 {\\left ( p_{x} \\right )}^{2} {\\left ( p_{y} \\right )}^{2} x^{2} + 2 {\\left ( p_{x} \\right )}^{2} {\\left ( p_{y} \\right )}^{2} y^{2} + 4 {\\left ( p_{x} \\right )}^{2} p_{y} p_{z} y z + 2 {\\left ( p_{x} \\right )}^{2} {\\left ( p_{z} \\right )}^{2} x^{2} + 2 {\\left ( p_{x} \\right )}^{2} {\\left ( p_{z} \\right )}^{2} z^{2} + 4 p_{x} {\\left ( p_{y} \\right )}^{3} x y + 4 p_{x} {\\left ( p_{y} \\right )}^{2} p_{z} x z + 4 p_{x} p_{y} {\\left ( p_{z} \\right )}^{2} x y + 4 p_{x} {\\left ( p_{z} \\right )}^{3} x z + 2 {\\left ( p_{y} \\right )}^{4} y^{2} + 4 {\\left ( p_{y} \\right )}^{3} p_{z} y z + 2 {\\left ( p_{y} \\right )}^{2} {\\left ( p_{z} \\right )}^{2} y^{2} + 2 {\\left ( p_{y} \\right )}^{2} {\\left ( p_{z} \\right )}^{2} z^{2} + 4 p_{y} {\\left ( p_{z} \\right )}^{3} y z + 2 {\\left ( p_{z} \\right )}^{4} z^{2}\\right ) \\boldsymbol{\\gamma }_{t}\\wedge \\boldsymbol{\\gamma }_{x}\\wedge \\boldsymbol{\\gamma }_{y}\\wedge \\boldsymbol{\\gamma }_{z}\\wedge \\boldsymbol{\\gamma }_{w} \\end{equation*}$$"
      ],
      "text/plain": [
       "<IPython.core.display.Math object>"
      ]
     },
     "metadata": {},
     "output_type": "display_data"
    },
    {
     "data": {
      "text/latex": [
       "Combine regular and adjoint Dirac equations with difference"
      ],
      "text/plain": [
       "<IPython.core.display.Latex object>"
      ]
     },
     "metadata": {},
     "output_type": "display_data"
    },
    {
     "data": {
      "text/latex": [
       "$$1/2 (\\overrightarrow{D}\\rho-\\rho\\overleftarrow{D})=\\begin{equation*} 4 E m w \\left(- E^{2} + m^{2} + {\\left ( p_{x} \\right )}^{2} + {\\left ( p_{y} \\right )}^{2} + {\\left ( p_{z} \\right )}^{2}\\right) \\boldsymbol{\\gamma }_{t}\\wedge \\boldsymbol{\\gamma }_{w} + 4 m p_{x} w \\left(E^{2} - m^{2} - {\\left ( p_{x} \\right )}^{2} - {\\left ( p_{y} \\right )}^{2} - {\\left ( p_{z} \\right )}^{2}\\right) \\boldsymbol{\\gamma }_{x}\\wedge \\boldsymbol{\\gamma }_{w} + 4 m p_{y} w \\left(E^{2} - m^{2} - {\\left ( p_{x} \\right )}^{2} - {\\left ( p_{y} \\right )}^{2} - {\\left ( p_{z} \\right )}^{2}\\right) \\boldsymbol{\\gamma }_{y}\\wedge \\boldsymbol{\\gamma }_{w} + 4 m p_{z} w \\left(E^{2} - m^{2} - {\\left ( p_{x} \\right )}^{2} - {\\left ( p_{y} \\right )}^{2} - {\\left ( p_{z} \\right )}^{2}\\right) \\boldsymbol{\\gamma }_{z}\\wedge \\boldsymbol{\\gamma }_{w} + 4 m p_{z} w \\left(- E^{2} + m^{2} + {\\left ( p_{x} \\right )}^{2} + {\\left ( p_{y} \\right )}^{2} + {\\left ( p_{z} \\right )}^{2}\\right) \\boldsymbol{\\gamma }_{t}\\wedge \\boldsymbol{\\gamma }_{x}\\wedge \\boldsymbol{\\gamma }_{y} + 4 m p_{y} w \\left(E^{2} - m^{2} - {\\left ( p_{x} \\right )}^{2} - {\\left ( p_{y} \\right )}^{2} - {\\left ( p_{z} \\right )}^{2}\\right) \\boldsymbol{\\gamma }_{t}\\wedge \\boldsymbol{\\gamma }_{x}\\wedge \\boldsymbol{\\gamma }_{z} + 4 m p_{x} w \\left(- E^{2} + m^{2} + {\\left ( p_{x} \\right )}^{2} + {\\left ( p_{y} \\right )}^{2} + {\\left ( p_{z} \\right )}^{2}\\right) \\boldsymbol{\\gamma }_{t}\\wedge \\boldsymbol{\\gamma }_{y}\\wedge \\boldsymbol{\\gamma }_{z} + 4 E m w \\left(E^{2} - m^{2} - {\\left ( p_{x} \\right )}^{2} - {\\left ( p_{y} \\right )}^{2} - {\\left ( p_{z} \\right )}^{2}\\right) \\boldsymbol{\\gamma }_{x}\\wedge \\boldsymbol{\\gamma }_{y}\\wedge \\boldsymbol{\\gamma }_{z} \\end{equation*}$$"
      ],
      "text/plain": [
       "<IPython.core.display.Math object>"
      ]
     },
     "metadata": {},
     "output_type": "display_data"
    },
    {
     "data": {
      "text/latex": [
       "Combine regular and adjoint Dirac equations with addition"
      ],
      "text/plain": [
       "<IPython.core.display.Latex object>"
      ]
     },
     "metadata": {},
     "output_type": "display_data"
    },
    {
     "data": {
      "text/latex": [
       "$$1/2 (\\overrightarrow{D}\\rho+\\rho\\overleftarrow{D})=\\begin{equation*} 4 m \\left(- E^{3} t - E^{2} p_{x} x - E^{2} p_{y} y - E^{2} p_{z} z + E m^{2} t + E {\\left ( p_{x} \\right )}^{2} t + E {\\left ( p_{y} \\right )}^{2} t + E {\\left ( p_{z} \\right )}^{2} t + m^{2} p_{x} x + m^{2} p_{y} y + m^{2} p_{z} z + {\\left ( p_{x} \\right )}^{3} x + {\\left ( p_{x} \\right )}^{2} p_{y} y + {\\left ( p_{x} \\right )}^{2} p_{z} z + p_{x} {\\left ( p_{y} \\right )}^{2} x + p_{x} {\\left ( p_{z} \\right )}^{2} x + {\\left ( p_{y} \\right )}^{3} y + {\\left ( p_{y} \\right )}^{2} p_{z} z + p_{y} {\\left ( p_{z} \\right )}^{2} y + {\\left ( p_{z} \\right )}^{3} z\\right)  + 4 E \\left(- E^{3} t - E^{2} p_{x} x - E^{2} p_{y} y - E^{2} p_{z} z + E m^{2} t + E {\\left ( p_{x} \\right )}^{2} t + E {\\left ( p_{y} \\right )}^{2} t + E {\\left ( p_{z} \\right )}^{2} t + m^{2} p_{x} x + m^{2} p_{y} y + m^{2} p_{z} z + {\\left ( p_{x} \\right )}^{3} x + {\\left ( p_{x} \\right )}^{2} p_{y} y + {\\left ( p_{x} \\right )}^{2} p_{z} z + p_{x} {\\left ( p_{y} \\right )}^{2} x + p_{x} {\\left ( p_{z} \\right )}^{2} x + {\\left ( p_{y} \\right )}^{3} y + {\\left ( p_{y} \\right )}^{2} p_{z} z + p_{y} {\\left ( p_{z} \\right )}^{2} y + {\\left ( p_{z} \\right )}^{3} z\\right) \\boldsymbol{\\gamma }_{t} + 4 p_{x} \\left(E^{3} t + E^{2} p_{x} x + E^{2} p_{y} y + E^{2} p_{z} z - E m^{2} t - E {\\left ( p_{x} \\right )}^{2} t - E {\\left ( p_{y} \\right )}^{2} t - E {\\left ( p_{z} \\right )}^{2} t - m^{2} p_{x} x - m^{2} p_{y} y - m^{2} p_{z} z - {\\left ( p_{x} \\right )}^{3} x - {\\left ( p_{x} \\right )}^{2} p_{y} y - {\\left ( p_{x} \\right )}^{2} p_{z} z - p_{x} {\\left ( p_{y} \\right )}^{2} x - p_{x} {\\left ( p_{z} \\right )}^{2} x - {\\left ( p_{y} \\right )}^{3} y - {\\left ( p_{y} \\right )}^{2} p_{z} z - p_{y} {\\left ( p_{z} \\right )}^{2} y - {\\left ( p_{z} \\right )}^{3} z\\right) \\boldsymbol{\\gamma }_{x} + 4 p_{y} \\left(E^{3} t + E^{2} p_{x} x + E^{2} p_{y} y + E^{2} p_{z} z - E m^{2} t - E {\\left ( p_{x} \\right )}^{2} t - E {\\left ( p_{y} \\right )}^{2} t - E {\\left ( p_{z} \\right )}^{2} t - m^{2} p_{x} x - m^{2} p_{y} y - m^{2} p_{z} z - {\\left ( p_{x} \\right )}^{3} x - {\\left ( p_{x} \\right )}^{2} p_{y} y - {\\left ( p_{x} \\right )}^{2} p_{z} z - p_{x} {\\left ( p_{y} \\right )}^{2} x - p_{x} {\\left ( p_{z} \\right )}^{2} x - {\\left ( p_{y} \\right )}^{3} y - {\\left ( p_{y} \\right )}^{2} p_{z} z - p_{y} {\\left ( p_{z} \\right )}^{2} y - {\\left ( p_{z} \\right )}^{3} z\\right) \\boldsymbol{\\gamma }_{y} + 4 p_{z} \\left(E^{3} t + E^{2} p_{x} x + E^{2} p_{y} y + E^{2} p_{z} z - E m^{2} t - E {\\left ( p_{x} \\right )}^{2} t - E {\\left ( p_{y} \\right )}^{2} t - E {\\left ( p_{z} \\right )}^{2} t - m^{2} p_{x} x - m^{2} p_{y} y - m^{2} p_{z} z - {\\left ( p_{x} \\right )}^{3} x - {\\left ( p_{x} \\right )}^{2} p_{y} y - {\\left ( p_{x} \\right )}^{2} p_{z} z - p_{x} {\\left ( p_{y} \\right )}^{2} x - p_{x} {\\left ( p_{z} \\right )}^{2} x - {\\left ( p_{y} \\right )}^{3} y - {\\left ( p_{y} \\right )}^{2} p_{z} z - p_{y} {\\left ( p_{z} \\right )}^{2} y - {\\left ( p_{z} \\right )}^{3} z\\right) \\boldsymbol{\\gamma }_{z} + 4 m^{2} w \\left(- E^{2} + m^{2} + {\\left ( p_{x} \\right )}^{2} + {\\left ( p_{y} \\right )}^{2} + {\\left ( p_{z} \\right )}^{2}\\right) \\boldsymbol{\\gamma }_{w} + 4 m^{2} w \\left(E^{2} - m^{2} - {\\left ( p_{x} \\right )}^{2} - {\\left ( p_{y} \\right )}^{2} - {\\left ( p_{z} \\right )}^{2}\\right) \\boldsymbol{\\gamma }_{t}\\wedge \\boldsymbol{\\gamma }_{x}\\wedge \\boldsymbol{\\gamma }_{y}\\wedge \\boldsymbol{\\gamma }_{z} + 4 p_{z} \\left(E^{3} t + E^{2} p_{x} x + E^{2} p_{y} y + E^{2} p_{z} z - E m^{2} t - E {\\left ( p_{x} \\right )}^{2} t - E {\\left ( p_{y} \\right )}^{2} t - E {\\left ( p_{z} \\right )}^{2} t - m^{2} p_{x} x - m^{2} p_{y} y - m^{2} p_{z} z - {\\left ( p_{x} \\right )}^{3} x - {\\left ( p_{x} \\right )}^{2} p_{y} y - {\\left ( p_{x} \\right )}^{2} p_{z} z - p_{x} {\\left ( p_{y} \\right )}^{2} x - p_{x} {\\left ( p_{z} \\right )}^{2} x - {\\left ( p_{y} \\right )}^{3} y - {\\left ( p_{y} \\right )}^{2} p_{z} z - p_{y} {\\left ( p_{z} \\right )}^{2} y - {\\left ( p_{z} \\right )}^{3} z\\right) \\boldsymbol{\\gamma }_{t}\\wedge \\boldsymbol{\\gamma }_{x}\\wedge \\boldsymbol{\\gamma }_{y}\\wedge \\boldsymbol{\\gamma }_{w} + 4 p_{y} \\left(- E^{3} t - E^{2} p_{x} x - E^{2} p_{y} y - E^{2} p_{z} z + E m^{2} t + E {\\left ( p_{x} \\right )}^{2} t + E {\\left ( p_{y} \\right )}^{2} t + E {\\left ( p_{z} \\right )}^{2} t + m^{2} p_{x} x + m^{2} p_{y} y + m^{2} p_{z} z + {\\left ( p_{x} \\right )}^{3} x + {\\left ( p_{x} \\right )}^{2} p_{y} y + {\\left ( p_{x} \\right )}^{2} p_{z} z + p_{x} {\\left ( p_{y} \\right )}^{2} x + p_{x} {\\left ( p_{z} \\right )}^{2} x + {\\left ( p_{y} \\right )}^{3} y + {\\left ( p_{y} \\right )}^{2} p_{z} z + p_{y} {\\left ( p_{z} \\right )}^{2} y + {\\left ( p_{z} \\right )}^{3} z\\right) \\boldsymbol{\\gamma }_{t}\\wedge \\boldsymbol{\\gamma }_{x}\\wedge \\boldsymbol{\\gamma }_{z}\\wedge \\boldsymbol{\\gamma }_{w} + 4 p_{x} \\left(E^{3} t + E^{2} p_{x} x + E^{2} p_{y} y + E^{2} p_{z} z - E m^{2} t - E {\\left ( p_{x} \\right )}^{2} t - E {\\left ( p_{y} \\right )}^{2} t - E {\\left ( p_{z} \\right )}^{2} t - m^{2} p_{x} x - m^{2} p_{y} y - m^{2} p_{z} z - {\\left ( p_{x} \\right )}^{3} x - {\\left ( p_{x} \\right )}^{2} p_{y} y - {\\left ( p_{x} \\right )}^{2} p_{z} z - p_{x} {\\left ( p_{y} \\right )}^{2} x - p_{x} {\\left ( p_{z} \\right )}^{2} x - {\\left ( p_{y} \\right )}^{3} y - {\\left ( p_{y} \\right )}^{2} p_{z} z - p_{y} {\\left ( p_{z} \\right )}^{2} y - {\\left ( p_{z} \\right )}^{3} z\\right) \\boldsymbol{\\gamma }_{t}\\wedge \\boldsymbol{\\gamma }_{y}\\wedge \\boldsymbol{\\gamma }_{z}\\wedge \\boldsymbol{\\gamma }_{w} + 4 E \\left(- E^{3} t - E^{2} p_{x} x - E^{2} p_{y} y - E^{2} p_{z} z + E m^{2} t + E {\\left ( p_{x} \\right )}^{2} t + E {\\left ( p_{y} \\right )}^{2} t + E {\\left ( p_{z} \\right )}^{2} t + m^{2} p_{x} x + m^{2} p_{y} y + m^{2} p_{z} z + {\\left ( p_{x} \\right )}^{3} x + {\\left ( p_{x} \\right )}^{2} p_{y} y + {\\left ( p_{x} \\right )}^{2} p_{z} z + p_{x} {\\left ( p_{y} \\right )}^{2} x + p_{x} {\\left ( p_{z} \\right )}^{2} x + {\\left ( p_{y} \\right )}^{3} y + {\\left ( p_{y} \\right )}^{2} p_{z} z + p_{y} {\\left ( p_{z} \\right )}^{2} y + {\\left ( p_{z} \\right )}^{3} z\\right) \\boldsymbol{\\gamma }_{x}\\wedge \\boldsymbol{\\gamma }_{y}\\wedge \\boldsymbol{\\gamma }_{z}\\wedge \\boldsymbol{\\gamma }_{w} + 4 m \\left(- E^{3} t - E^{2} p_{x} x - E^{2} p_{y} y - E^{2} p_{z} z + E m^{2} t + E {\\left ( p_{x} \\right )}^{2} t + E {\\left ( p_{y} \\right )}^{2} t + E {\\left ( p_{z} \\right )}^{2} t + m^{2} p_{x} x + m^{2} p_{y} y + m^{2} p_{z} z + {\\left ( p_{x} \\right )}^{3} x + {\\left ( p_{x} \\right )}^{2} p_{y} y + {\\left ( p_{x} \\right )}^{2} p_{z} z + p_{x} {\\left ( p_{y} \\right )}^{2} x + p_{x} {\\left ( p_{z} \\right )}^{2} x + {\\left ( p_{y} \\right )}^{3} y + {\\left ( p_{y} \\right )}^{2} p_{z} z + p_{y} {\\left ( p_{z} \\right )}^{2} y + {\\left ( p_{z} \\right )}^{3} z\\right) \\boldsymbol{\\gamma }_{t}\\wedge \\boldsymbol{\\gamma }_{x}\\wedge \\boldsymbol{\\gamma }_{y}\\wedge \\boldsymbol{\\gamma }_{z}\\wedge \\boldsymbol{\\gamma }_{w} \\end{equation*}$$"
      ],
      "text/plain": [
       "<IPython.core.display.Math object>"
      ]
     },
     "metadata": {},
     "output_type": "display_data"
    }
   ],
   "source": [
    "showDerivatives(f, 1, K[1])"
   ]
  },
  {
   "cell_type": "markdown",
   "metadata": {},
   "source": [
    "$$k_2$$ but density element seems null"
   ]
  },
  {
   "cell_type": "code",
   "execution_count": 42,
   "metadata": {},
   "outputs": [
    {
     "data": {
      "text/latex": [
       "$$k_2=(\\mathbf{i}iE+im+\\mathbf{k}\\mathbf{p})(1-\\mathbf{j})i=\\begin{equation*} - m  - E \\boldsymbol{\\gamma }_{t} + p_{x} \\boldsymbol{\\gamma }_{x} + p_{y} \\boldsymbol{\\gamma }_{y} + p_{z} \\boldsymbol{\\gamma }_{z} - p_{z} \\boldsymbol{\\gamma }_{t}\\wedge \\boldsymbol{\\gamma }_{x}\\wedge \\boldsymbol{\\gamma }_{y}\\wedge \\boldsymbol{\\gamma }_{w} + p_{y} \\boldsymbol{\\gamma }_{t}\\wedge \\boldsymbol{\\gamma }_{x}\\wedge \\boldsymbol{\\gamma }_{z}\\wedge \\boldsymbol{\\gamma }_{w} - p_{x} \\boldsymbol{\\gamma }_{t}\\wedge \\boldsymbol{\\gamma }_{y}\\wedge \\boldsymbol{\\gamma }_{z}\\wedge \\boldsymbol{\\gamma }_{w} + E \\boldsymbol{\\gamma }_{x}\\wedge \\boldsymbol{\\gamma }_{y}\\wedge \\boldsymbol{\\gamma }_{z}\\wedge \\boldsymbol{\\gamma }_{w} + m \\boldsymbol{\\gamma }_{t}\\wedge \\boldsymbol{\\gamma }_{x}\\wedge \\boldsymbol{\\gamma }_{y}\\wedge \\boldsymbol{\\gamma }_{z}\\wedge \\boldsymbol{\\gamma }_{w} \\end{equation*}$$"
      ],
      "text/plain": [
       "<IPython.core.display.Math object>"
      ]
     },
     "metadata": {},
     "output_type": "display_data"
    },
    {
     "data": {
      "text/latex": [
       "$$k_2^2=\\begin{equation*} \\left ( 2 E^{2} + 2 m^{2} - 2 {\\left ( p_{x} \\right )}^{2} - 2 {\\left ( p_{y} \\right )}^{2} - 2 {\\left ( p_{z} \\right )}^{2}\\right )  + 4 E m \\boldsymbol{\\gamma }_{t} - 4 m p_{x} \\boldsymbol{\\gamma }_{x} - 4 m p_{y} \\boldsymbol{\\gamma }_{y} - 4 m p_{z} \\boldsymbol{\\gamma }_{z} + 4 m p_{z} \\boldsymbol{\\gamma }_{t}\\wedge \\boldsymbol{\\gamma }_{x}\\wedge \\boldsymbol{\\gamma }_{y}\\wedge \\boldsymbol{\\gamma }_{w} - 4 m p_{y} \\boldsymbol{\\gamma }_{t}\\wedge \\boldsymbol{\\gamma }_{x}\\wedge \\boldsymbol{\\gamma }_{z}\\wedge \\boldsymbol{\\gamma }_{w} + 4 m p_{x} \\boldsymbol{\\gamma }_{t}\\wedge \\boldsymbol{\\gamma }_{y}\\wedge \\boldsymbol{\\gamma }_{z}\\wedge \\boldsymbol{\\gamma }_{w} - 4 E m \\boldsymbol{\\gamma }_{x}\\wedge \\boldsymbol{\\gamma }_{y}\\wedge \\boldsymbol{\\gamma }_{z}\\wedge \\boldsymbol{\\gamma }_{w} + \\left ( - 2 E^{2} - 2 m^{2} + 2 {\\left ( p_{x} \\right )}^{2} + 2 {\\left ( p_{y} \\right )}^{2} + 2 {\\left ( p_{z} \\right )}^{2}\\right ) \\boldsymbol{\\gamma }_{t}\\wedge \\boldsymbol{\\gamma }_{x}\\wedge \\boldsymbol{\\gamma }_{y}\\wedge \\boldsymbol{\\gamma }_{z}\\wedge \\boldsymbol{\\gamma }_{w} \\end{equation*}$$"
      ],
      "text/plain": [
       "<IPython.core.display.Math object>"
      ]
     },
     "metadata": {},
     "output_type": "display_data"
    },
    {
     "data": {
      "text/latex": [
       "$$\\rho=\\begin{equation*} \\left ( - 2 E^{4} t^{2} - 4 E^{3} p_{x} t x - 4 E^{3} p_{y} t y - 4 E^{3} p_{z} t z - 2 E^{2} m^{2} t^{2} + 2 E^{2} m^{2} w^{2} + 2 E^{2} {\\left ( p_{x} \\right )}^{2} t^{2} - 2 E^{2} {\\left ( p_{x} \\right )}^{2} x^{2} - 4 E^{2} p_{x} p_{y} x y - 4 E^{2} p_{x} p_{z} x z + 2 E^{2} {\\left ( p_{y} \\right )}^{2} t^{2} - 2 E^{2} {\\left ( p_{y} \\right )}^{2} y^{2} - 4 E^{2} p_{y} p_{z} y z + 2 E^{2} {\\left ( p_{z} \\right )}^{2} t^{2} - 2 E^{2} {\\left ( p_{z} \\right )}^{2} z^{2} - 4 E m^{2} p_{x} t x - 4 E m^{2} p_{y} t y - 4 E m^{2} p_{z} t z + 4 E {\\left ( p_{x} \\right )}^{3} t x + 4 E {\\left ( p_{x} \\right )}^{2} p_{y} t y + 4 E {\\left ( p_{x} \\right )}^{2} p_{z} t z + 4 E p_{x} {\\left ( p_{y} \\right )}^{2} t x + 4 E p_{x} {\\left ( p_{z} \\right )}^{2} t x + 4 E {\\left ( p_{y} \\right )}^{3} t y + 4 E {\\left ( p_{y} \\right )}^{2} p_{z} t z + 4 E p_{y} {\\left ( p_{z} \\right )}^{2} t y + 4 E {\\left ( p_{z} \\right )}^{3} t z + 2 m^{4} w^{2} - 2 m^{2} {\\left ( p_{x} \\right )}^{2} w^{2} - 2 m^{2} {\\left ( p_{x} \\right )}^{2} x^{2} - 4 m^{2} p_{x} p_{y} x y - 4 m^{2} p_{x} p_{z} x z - 2 m^{2} {\\left ( p_{y} \\right )}^{2} w^{2} - 2 m^{2} {\\left ( p_{y} \\right )}^{2} y^{2} - 4 m^{2} p_{y} p_{z} y z - 2 m^{2} {\\left ( p_{z} \\right )}^{2} w^{2} - 2 m^{2} {\\left ( p_{z} \\right )}^{2} z^{2} + 2 {\\left ( p_{x} \\right )}^{4} x^{2} + 4 {\\left ( p_{x} \\right )}^{3} p_{y} x y + 4 {\\left ( p_{x} \\right )}^{3} p_{z} x z + 2 {\\left ( p_{x} \\right )}^{2} {\\left ( p_{y} \\right )}^{2} x^{2} + 2 {\\left ( p_{x} \\right )}^{2} {\\left ( p_{y} \\right )}^{2} y^{2} + 4 {\\left ( p_{x} \\right )}^{2} p_{y} p_{z} y z + 2 {\\left ( p_{x} \\right )}^{2} {\\left ( p_{z} \\right )}^{2} x^{2} + 2 {\\left ( p_{x} \\right )}^{2} {\\left ( p_{z} \\right )}^{2} z^{2} + 4 p_{x} {\\left ( p_{y} \\right )}^{3} x y + 4 p_{x} {\\left ( p_{y} \\right )}^{2} p_{z} x z + 4 p_{x} p_{y} {\\left ( p_{z} \\right )}^{2} x y + 4 p_{x} {\\left ( p_{z} \\right )}^{3} x z + 2 {\\left ( p_{y} \\right )}^{4} y^{2} + 4 {\\left ( p_{y} \\right )}^{3} p_{z} y z + 2 {\\left ( p_{y} \\right )}^{2} {\\left ( p_{z} \\right )}^{2} y^{2} + 2 {\\left ( p_{y} \\right )}^{2} {\\left ( p_{z} \\right )}^{2} z^{2} + 4 p_{y} {\\left ( p_{z} \\right )}^{3} y z + 2 {\\left ( p_{z} \\right )}^{4} z^{2}\\right )  + 4 E m \\left(E^{2} t^{2} + 2 E p_{x} t x + 2 E p_{y} t y + 2 E p_{z} t z + m^{2} w^{2} + {\\left ( p_{x} \\right )}^{2} x^{2} + 2 p_{x} p_{y} x y + 2 p_{x} p_{z} x z + {\\left ( p_{y} \\right )}^{2} y^{2} + 2 p_{y} p_{z} y z + {\\left ( p_{z} \\right )}^{2} z^{2}\\right) \\boldsymbol{\\gamma }_{t} - 4 m p_{x} \\left(E^{2} t^{2} + 2 E p_{x} t x + 2 E p_{y} t y + 2 E p_{z} t z + m^{2} w^{2} + {\\left ( p_{x} \\right )}^{2} x^{2} + 2 p_{x} p_{y} x y + 2 p_{x} p_{z} x z + {\\left ( p_{y} \\right )}^{2} y^{2} + 2 p_{y} p_{z} y z + {\\left ( p_{z} \\right )}^{2} z^{2}\\right) \\boldsymbol{\\gamma }_{x} - 4 m p_{y} \\left(E^{2} t^{2} + 2 E p_{x} t x + 2 E p_{y} t y + 2 E p_{z} t z + m^{2} w^{2} + {\\left ( p_{x} \\right )}^{2} x^{2} + 2 p_{x} p_{y} x y + 2 p_{x} p_{z} x z + {\\left ( p_{y} \\right )}^{2} y^{2} + 2 p_{y} p_{z} y z + {\\left ( p_{z} \\right )}^{2} z^{2}\\right) \\boldsymbol{\\gamma }_{y} - 4 m p_{z} \\left(E^{2} t^{2} + 2 E p_{x} t x + 2 E p_{y} t y + 2 E p_{z} t z + m^{2} w^{2} + {\\left ( p_{x} \\right )}^{2} x^{2} + 2 p_{x} p_{y} x y + 2 p_{x} p_{z} x z + {\\left ( p_{y} \\right )}^{2} y^{2} + 2 p_{y} p_{z} y z + {\\left ( p_{z} \\right )}^{2} z^{2}\\right) \\boldsymbol{\\gamma }_{z} + 4 m w \\left(- E^{3} t - E^{2} p_{x} x - E^{2} p_{y} y - E^{2} p_{z} z - E m^{2} t + E {\\left ( p_{x} \\right )}^{2} t + E {\\left ( p_{y} \\right )}^{2} t + E {\\left ( p_{z} \\right )}^{2} t - m^{2} p_{x} x - m^{2} p_{y} y - m^{2} p_{z} z + {\\left ( p_{x} \\right )}^{3} x + {\\left ( p_{x} \\right )}^{2} p_{y} y + {\\left ( p_{x} \\right )}^{2} p_{z} z + p_{x} {\\left ( p_{y} \\right )}^{2} x + p_{x} {\\left ( p_{z} \\right )}^{2} x + {\\left ( p_{y} \\right )}^{3} y + {\\left ( p_{y} \\right )}^{2} p_{z} z + p_{y} {\\left ( p_{z} \\right )}^{2} y + {\\left ( p_{z} \\right )}^{3} z\\right) \\boldsymbol{\\gamma }_{w} + 4 m w \\left(- E^{3} t - E^{2} p_{x} x - E^{2} p_{y} y - E^{2} p_{z} z - E m^{2} t + E {\\left ( p_{x} \\right )}^{2} t + E {\\left ( p_{y} \\right )}^{2} t + E {\\left ( p_{z} \\right )}^{2} t - m^{2} p_{x} x - m^{2} p_{y} y - m^{2} p_{z} z + {\\left ( p_{x} \\right )}^{3} x + {\\left ( p_{x} \\right )}^{2} p_{y} y + {\\left ( p_{x} \\right )}^{2} p_{z} z + p_{x} {\\left ( p_{y} \\right )}^{2} x + p_{x} {\\left ( p_{z} \\right )}^{2} x + {\\left ( p_{y} \\right )}^{3} y + {\\left ( p_{y} \\right )}^{2} p_{z} z + p_{y} {\\left ( p_{z} \\right )}^{2} y + {\\left ( p_{z} \\right )}^{3} z\\right) \\boldsymbol{\\gamma }_{t}\\wedge \\boldsymbol{\\gamma }_{x}\\wedge \\boldsymbol{\\gamma }_{y}\\wedge \\boldsymbol{\\gamma }_{z} + 4 m p_{z} \\left(E^{2} t^{2} + 2 E p_{x} t x + 2 E p_{y} t y + 2 E p_{z} t z + m^{2} w^{2} + {\\left ( p_{x} \\right )}^{2} x^{2} + 2 p_{x} p_{y} x y + 2 p_{x} p_{z} x z + {\\left ( p_{y} \\right )}^{2} y^{2} + 2 p_{y} p_{z} y z + {\\left ( p_{z} \\right )}^{2} z^{2}\\right) \\boldsymbol{\\gamma }_{t}\\wedge \\boldsymbol{\\gamma }_{x}\\wedge \\boldsymbol{\\gamma }_{y}\\wedge \\boldsymbol{\\gamma }_{w} - 4 m p_{y} \\left(E^{2} t^{2} + 2 E p_{x} t x + 2 E p_{y} t y + 2 E p_{z} t z + m^{2} w^{2} + {\\left ( p_{x} \\right )}^{2} x^{2} + 2 p_{x} p_{y} x y + 2 p_{x} p_{z} x z + {\\left ( p_{y} \\right )}^{2} y^{2} + 2 p_{y} p_{z} y z + {\\left ( p_{z} \\right )}^{2} z^{2}\\right) \\boldsymbol{\\gamma }_{t}\\wedge \\boldsymbol{\\gamma }_{x}\\wedge \\boldsymbol{\\gamma }_{z}\\wedge \\boldsymbol{\\gamma }_{w} + 4 m p_{x} \\left(E^{2} t^{2} + 2 E p_{x} t x + 2 E p_{y} t y + 2 E p_{z} t z + m^{2} w^{2} + {\\left ( p_{x} \\right )}^{2} x^{2} + 2 p_{x} p_{y} x y + 2 p_{x} p_{z} x z + {\\left ( p_{y} \\right )}^{2} y^{2} + 2 p_{y} p_{z} y z + {\\left ( p_{z} \\right )}^{2} z^{2}\\right) \\boldsymbol{\\gamma }_{t}\\wedge \\boldsymbol{\\gamma }_{y}\\wedge \\boldsymbol{\\gamma }_{z}\\wedge \\boldsymbol{\\gamma }_{w} - 4 E m \\left(E^{2} t^{2} + 2 E p_{x} t x + 2 E p_{y} t y + 2 E p_{z} t z + m^{2} w^{2} + {\\left ( p_{x} \\right )}^{2} x^{2} + 2 p_{x} p_{y} x y + 2 p_{x} p_{z} x z + {\\left ( p_{y} \\right )}^{2} y^{2} + 2 p_{y} p_{z} y z + {\\left ( p_{z} \\right )}^{2} z^{2}\\right) \\boldsymbol{\\gamma }_{x}\\wedge \\boldsymbol{\\gamma }_{y}\\wedge \\boldsymbol{\\gamma }_{z}\\wedge \\boldsymbol{\\gamma }_{w} + \\left ( 2 E^{4} t^{2} + 4 E^{3} p_{x} t x + 4 E^{3} p_{y} t y + 4 E^{3} p_{z} t z + 2 E^{2} m^{2} t^{2} - 2 E^{2} m^{2} w^{2} - 2 E^{2} {\\left ( p_{x} \\right )}^{2} t^{2} + 2 E^{2} {\\left ( p_{x} \\right )}^{2} x^{2} + 4 E^{2} p_{x} p_{y} x y + 4 E^{2} p_{x} p_{z} x z - 2 E^{2} {\\left ( p_{y} \\right )}^{2} t^{2} + 2 E^{2} {\\left ( p_{y} \\right )}^{2} y^{2} + 4 E^{2} p_{y} p_{z} y z - 2 E^{2} {\\left ( p_{z} \\right )}^{2} t^{2} + 2 E^{2} {\\left ( p_{z} \\right )}^{2} z^{2} + 4 E m^{2} p_{x} t x + 4 E m^{2} p_{y} t y + 4 E m^{2} p_{z} t z - 4 E {\\left ( p_{x} \\right )}^{3} t x - 4 E {\\left ( p_{x} \\right )}^{2} p_{y} t y - 4 E {\\left ( p_{x} \\right )}^{2} p_{z} t z - 4 E p_{x} {\\left ( p_{y} \\right )}^{2} t x - 4 E p_{x} {\\left ( p_{z} \\right )}^{2} t x - 4 E {\\left ( p_{y} \\right )}^{3} t y - 4 E {\\left ( p_{y} \\right )}^{2} p_{z} t z - 4 E p_{y} {\\left ( p_{z} \\right )}^{2} t y - 4 E {\\left ( p_{z} \\right )}^{3} t z - 2 m^{4} w^{2} + 2 m^{2} {\\left ( p_{x} \\right )}^{2} w^{2} + 2 m^{2} {\\left ( p_{x} \\right )}^{2} x^{2} + 4 m^{2} p_{x} p_{y} x y + 4 m^{2} p_{x} p_{z} x z + 2 m^{2} {\\left ( p_{y} \\right )}^{2} w^{2} + 2 m^{2} {\\left ( p_{y} \\right )}^{2} y^{2} + 4 m^{2} p_{y} p_{z} y z + 2 m^{2} {\\left ( p_{z} \\right )}^{2} w^{2} + 2 m^{2} {\\left ( p_{z} \\right )}^{2} z^{2} - 2 {\\left ( p_{x} \\right )}^{4} x^{2} - 4 {\\left ( p_{x} \\right )}^{3} p_{y} x y - 4 {\\left ( p_{x} \\right )}^{3} p_{z} x z - 2 {\\left ( p_{x} \\right )}^{2} {\\left ( p_{y} \\right )}^{2} x^{2} - 2 {\\left ( p_{x} \\right )}^{2} {\\left ( p_{y} \\right )}^{2} y^{2} - 4 {\\left ( p_{x} \\right )}^{2} p_{y} p_{z} y z - 2 {\\left ( p_{x} \\right )}^{2} {\\left ( p_{z} \\right )}^{2} x^{2} - 2 {\\left ( p_{x} \\right )}^{2} {\\left ( p_{z} \\right )}^{2} z^{2} - 4 p_{x} {\\left ( p_{y} \\right )}^{3} x y - 4 p_{x} {\\left ( p_{y} \\right )}^{2} p_{z} x z - 4 p_{x} p_{y} {\\left ( p_{z} \\right )}^{2} x y - 4 p_{x} {\\left ( p_{z} \\right )}^{3} x z - 2 {\\left ( p_{y} \\right )}^{4} y^{2} - 4 {\\left ( p_{y} \\right )}^{3} p_{z} y z - 2 {\\left ( p_{y} \\right )}^{2} {\\left ( p_{z} \\right )}^{2} y^{2} - 2 {\\left ( p_{y} \\right )}^{2} {\\left ( p_{z} \\right )}^{2} z^{2} - 4 p_{y} {\\left ( p_{z} \\right )}^{3} y z - 2 {\\left ( p_{z} \\right )}^{4} z^{2}\\right ) \\boldsymbol{\\gamma }_{t}\\wedge \\boldsymbol{\\gamma }_{x}\\wedge \\boldsymbol{\\gamma }_{y}\\wedge \\boldsymbol{\\gamma }_{z}\\wedge \\boldsymbol{\\gamma }_{w} \\end{equation*}$$"
      ],
      "text/plain": [
       "<IPython.core.display.Math object>"
      ]
     },
     "metadata": {},
     "output_type": "display_data"
    },
    {
     "data": {
      "text/latex": [
       "Combine regular and adjoint Dirac equations with difference"
      ],
      "text/plain": [
       "<IPython.core.display.Latex object>"
      ]
     },
     "metadata": {},
     "output_type": "display_data"
    },
    {
     "data": {
      "text/latex": [
       "$$1/2 (\\overrightarrow{D}\\rho-\\rho\\overleftarrow{D})=\\begin{equation*} 4 E m w \\left(- E^{2} + m^{2} + {\\left ( p_{x} \\right )}^{2} + {\\left ( p_{y} \\right )}^{2} + {\\left ( p_{z} \\right )}^{2}\\right) \\boldsymbol{\\gamma }_{t}\\wedge \\boldsymbol{\\gamma }_{w} + 4 m p_{x} w \\left(E^{2} - m^{2} - {\\left ( p_{x} \\right )}^{2} - {\\left ( p_{y} \\right )}^{2} - {\\left ( p_{z} \\right )}^{2}\\right) \\boldsymbol{\\gamma }_{x}\\wedge \\boldsymbol{\\gamma }_{w} + 4 m p_{y} w \\left(E^{2} - m^{2} - {\\left ( p_{x} \\right )}^{2} - {\\left ( p_{y} \\right )}^{2} - {\\left ( p_{z} \\right )}^{2}\\right) \\boldsymbol{\\gamma }_{y}\\wedge \\boldsymbol{\\gamma }_{w} + 4 m p_{z} w \\left(E^{2} - m^{2} - {\\left ( p_{x} \\right )}^{2} - {\\left ( p_{y} \\right )}^{2} - {\\left ( p_{z} \\right )}^{2}\\right) \\boldsymbol{\\gamma }_{z}\\wedge \\boldsymbol{\\gamma }_{w} + 4 m p_{z} w \\left(E^{2} - m^{2} - {\\left ( p_{x} \\right )}^{2} - {\\left ( p_{y} \\right )}^{2} - {\\left ( p_{z} \\right )}^{2}\\right) \\boldsymbol{\\gamma }_{t}\\wedge \\boldsymbol{\\gamma }_{x}\\wedge \\boldsymbol{\\gamma }_{y} + 4 m p_{y} w \\left(- E^{2} + m^{2} + {\\left ( p_{x} \\right )}^{2} + {\\left ( p_{y} \\right )}^{2} + {\\left ( p_{z} \\right )}^{2}\\right) \\boldsymbol{\\gamma }_{t}\\wedge \\boldsymbol{\\gamma }_{x}\\wedge \\boldsymbol{\\gamma }_{z} + 4 m p_{x} w \\left(E^{2} - m^{2} - {\\left ( p_{x} \\right )}^{2} - {\\left ( p_{y} \\right )}^{2} - {\\left ( p_{z} \\right )}^{2}\\right) \\boldsymbol{\\gamma }_{t}\\wedge \\boldsymbol{\\gamma }_{y}\\wedge \\boldsymbol{\\gamma }_{z} + 4 E m w \\left(- E^{2} + m^{2} + {\\left ( p_{x} \\right )}^{2} + {\\left ( p_{y} \\right )}^{2} + {\\left ( p_{z} \\right )}^{2}\\right) \\boldsymbol{\\gamma }_{x}\\wedge \\boldsymbol{\\gamma }_{y}\\wedge \\boldsymbol{\\gamma }_{z} \\end{equation*}$$"
      ],
      "text/plain": [
       "<IPython.core.display.Math object>"
      ]
     },
     "metadata": {},
     "output_type": "display_data"
    },
    {
     "data": {
      "text/latex": [
       "Combine regular and adjoint Dirac equations with addition"
      ],
      "text/plain": [
       "<IPython.core.display.Latex object>"
      ]
     },
     "metadata": {},
     "output_type": "display_data"
    },
    {
     "data": {
      "text/latex": [
       "$$1/2 (\\overrightarrow{D}\\rho+\\rho\\overleftarrow{D})=\\begin{equation*} 4 m \\left(E^{3} t + E^{2} p_{x} x + E^{2} p_{y} y + E^{2} p_{z} z - E m^{2} t - E {\\left ( p_{x} \\right )}^{2} t - E {\\left ( p_{y} \\right )}^{2} t - E {\\left ( p_{z} \\right )}^{2} t - m^{2} p_{x} x - m^{2} p_{y} y - m^{2} p_{z} z - {\\left ( p_{x} \\right )}^{3} x - {\\left ( p_{x} \\right )}^{2} p_{y} y - {\\left ( p_{x} \\right )}^{2} p_{z} z - p_{x} {\\left ( p_{y} \\right )}^{2} x - p_{x} {\\left ( p_{z} \\right )}^{2} x - {\\left ( p_{y} \\right )}^{3} y - {\\left ( p_{y} \\right )}^{2} p_{z} z - p_{y} {\\left ( p_{z} \\right )}^{2} y - {\\left ( p_{z} \\right )}^{3} z\\right)  + 4 E \\left(- E^{3} t - E^{2} p_{x} x - E^{2} p_{y} y - E^{2} p_{z} z - E m^{2} t + E {\\left ( p_{x} \\right )}^{2} t + E {\\left ( p_{y} \\right )}^{2} t + E {\\left ( p_{z} \\right )}^{2} t - m^{2} p_{x} x - m^{2} p_{y} y - m^{2} p_{z} z + {\\left ( p_{x} \\right )}^{3} x + {\\left ( p_{x} \\right )}^{2} p_{y} y + {\\left ( p_{x} \\right )}^{2} p_{z} z + p_{x} {\\left ( p_{y} \\right )}^{2} x + p_{x} {\\left ( p_{z} \\right )}^{2} x + {\\left ( p_{y} \\right )}^{3} y + {\\left ( p_{y} \\right )}^{2} p_{z} z + p_{y} {\\left ( p_{z} \\right )}^{2} y + {\\left ( p_{z} \\right )}^{3} z\\right) \\boldsymbol{\\gamma }_{t} + 4 p_{x} \\left(E^{3} t + E^{2} p_{x} x + E^{2} p_{y} y + E^{2} p_{z} z + E m^{2} t - E {\\left ( p_{x} \\right )}^{2} t - E {\\left ( p_{y} \\right )}^{2} t - E {\\left ( p_{z} \\right )}^{2} t + m^{2} p_{x} x + m^{2} p_{y} y + m^{2} p_{z} z - {\\left ( p_{x} \\right )}^{3} x - {\\left ( p_{x} \\right )}^{2} p_{y} y - {\\left ( p_{x} \\right )}^{2} p_{z} z - p_{x} {\\left ( p_{y} \\right )}^{2} x - p_{x} {\\left ( p_{z} \\right )}^{2} x - {\\left ( p_{y} \\right )}^{3} y - {\\left ( p_{y} \\right )}^{2} p_{z} z - p_{y} {\\left ( p_{z} \\right )}^{2} y - {\\left ( p_{z} \\right )}^{3} z\\right) \\boldsymbol{\\gamma }_{x} + 4 p_{y} \\left(E^{3} t + E^{2} p_{x} x + E^{2} p_{y} y + E^{2} p_{z} z + E m^{2} t - E {\\left ( p_{x} \\right )}^{2} t - E {\\left ( p_{y} \\right )}^{2} t - E {\\left ( p_{z} \\right )}^{2} t + m^{2} p_{x} x + m^{2} p_{y} y + m^{2} p_{z} z - {\\left ( p_{x} \\right )}^{3} x - {\\left ( p_{x} \\right )}^{2} p_{y} y - {\\left ( p_{x} \\right )}^{2} p_{z} z - p_{x} {\\left ( p_{y} \\right )}^{2} x - p_{x} {\\left ( p_{z} \\right )}^{2} x - {\\left ( p_{y} \\right )}^{3} y - {\\left ( p_{y} \\right )}^{2} p_{z} z - p_{y} {\\left ( p_{z} \\right )}^{2} y - {\\left ( p_{z} \\right )}^{3} z\\right) \\boldsymbol{\\gamma }_{y} + 4 p_{z} \\left(E^{3} t + E^{2} p_{x} x + E^{2} p_{y} y + E^{2} p_{z} z + E m^{2} t - E {\\left ( p_{x} \\right )}^{2} t - E {\\left ( p_{y} \\right )}^{2} t - E {\\left ( p_{z} \\right )}^{2} t + m^{2} p_{x} x + m^{2} p_{y} y + m^{2} p_{z} z - {\\left ( p_{x} \\right )}^{3} x - {\\left ( p_{x} \\right )}^{2} p_{y} y - {\\left ( p_{x} \\right )}^{2} p_{z} z - p_{x} {\\left ( p_{y} \\right )}^{2} x - p_{x} {\\left ( p_{z} \\right )}^{2} x - {\\left ( p_{y} \\right )}^{3} y - {\\left ( p_{y} \\right )}^{2} p_{z} z - p_{y} {\\left ( p_{z} \\right )}^{2} y - {\\left ( p_{z} \\right )}^{3} z\\right) \\boldsymbol{\\gamma }_{z} + 4 m^{2} w \\left(- E^{2} - m^{2} + {\\left ( p_{x} \\right )}^{2} + {\\left ( p_{y} \\right )}^{2} + {\\left ( p_{z} \\right )}^{2}\\right) \\boldsymbol{\\gamma }_{w} + 4 m^{2} w \\left(- E^{2} - m^{2} + {\\left ( p_{x} \\right )}^{2} + {\\left ( p_{y} \\right )}^{2} + {\\left ( p_{z} \\right )}^{2}\\right) \\boldsymbol{\\gamma }_{t}\\wedge \\boldsymbol{\\gamma }_{x}\\wedge \\boldsymbol{\\gamma }_{y}\\wedge \\boldsymbol{\\gamma }_{z} + 4 p_{z} \\left(- E^{3} t - E^{2} p_{x} x - E^{2} p_{y} y - E^{2} p_{z} z - E m^{2} t + E {\\left ( p_{x} \\right )}^{2} t + E {\\left ( p_{y} \\right )}^{2} t + E {\\left ( p_{z} \\right )}^{2} t - m^{2} p_{x} x - m^{2} p_{y} y - m^{2} p_{z} z + {\\left ( p_{x} \\right )}^{3} x + {\\left ( p_{x} \\right )}^{2} p_{y} y + {\\left ( p_{x} \\right )}^{2} p_{z} z + p_{x} {\\left ( p_{y} \\right )}^{2} x + p_{x} {\\left ( p_{z} \\right )}^{2} x + {\\left ( p_{y} \\right )}^{3} y + {\\left ( p_{y} \\right )}^{2} p_{z} z + p_{y} {\\left ( p_{z} \\right )}^{2} y + {\\left ( p_{z} \\right )}^{3} z\\right) \\boldsymbol{\\gamma }_{t}\\wedge \\boldsymbol{\\gamma }_{x}\\wedge \\boldsymbol{\\gamma }_{y}\\wedge \\boldsymbol{\\gamma }_{w} + 4 p_{y} \\left(E^{3} t + E^{2} p_{x} x + E^{2} p_{y} y + E^{2} p_{z} z + E m^{2} t - E {\\left ( p_{x} \\right )}^{2} t - E {\\left ( p_{y} \\right )}^{2} t - E {\\left ( p_{z} \\right )}^{2} t + m^{2} p_{x} x + m^{2} p_{y} y + m^{2} p_{z} z - {\\left ( p_{x} \\right )}^{3} x - {\\left ( p_{x} \\right )}^{2} p_{y} y - {\\left ( p_{x} \\right )}^{2} p_{z} z - p_{x} {\\left ( p_{y} \\right )}^{2} x - p_{x} {\\left ( p_{z} \\right )}^{2} x - {\\left ( p_{y} \\right )}^{3} y - {\\left ( p_{y} \\right )}^{2} p_{z} z - p_{y} {\\left ( p_{z} \\right )}^{2} y - {\\left ( p_{z} \\right )}^{3} z\\right) \\boldsymbol{\\gamma }_{t}\\wedge \\boldsymbol{\\gamma }_{x}\\wedge \\boldsymbol{\\gamma }_{z}\\wedge \\boldsymbol{\\gamma }_{w} + 4 p_{x} \\left(- E^{3} t - E^{2} p_{x} x - E^{2} p_{y} y - E^{2} p_{z} z - E m^{2} t + E {\\left ( p_{x} \\right )}^{2} t + E {\\left ( p_{y} \\right )}^{2} t + E {\\left ( p_{z} \\right )}^{2} t - m^{2} p_{x} x - m^{2} p_{y} y - m^{2} p_{z} z + {\\left ( p_{x} \\right )}^{3} x + {\\left ( p_{x} \\right )}^{2} p_{y} y + {\\left ( p_{x} \\right )}^{2} p_{z} z + p_{x} {\\left ( p_{y} \\right )}^{2} x + p_{x} {\\left ( p_{z} \\right )}^{2} x + {\\left ( p_{y} \\right )}^{3} y + {\\left ( p_{y} \\right )}^{2} p_{z} z + p_{y} {\\left ( p_{z} \\right )}^{2} y + {\\left ( p_{z} \\right )}^{3} z\\right) \\boldsymbol{\\gamma }_{t}\\wedge \\boldsymbol{\\gamma }_{y}\\wedge \\boldsymbol{\\gamma }_{z}\\wedge \\boldsymbol{\\gamma }_{w} + 4 E \\left(E^{3} t + E^{2} p_{x} x + E^{2} p_{y} y + E^{2} p_{z} z + E m^{2} t - E {\\left ( p_{x} \\right )}^{2} t - E {\\left ( p_{y} \\right )}^{2} t - E {\\left ( p_{z} \\right )}^{2} t + m^{2} p_{x} x + m^{2} p_{y} y + m^{2} p_{z} z - {\\left ( p_{x} \\right )}^{3} x - {\\left ( p_{x} \\right )}^{2} p_{y} y - {\\left ( p_{x} \\right )}^{2} p_{z} z - p_{x} {\\left ( p_{y} \\right )}^{2} x - p_{x} {\\left ( p_{z} \\right )}^{2} x - {\\left ( p_{y} \\right )}^{3} y - {\\left ( p_{y} \\right )}^{2} p_{z} z - p_{y} {\\left ( p_{z} \\right )}^{2} y - {\\left ( p_{z} \\right )}^{3} z\\right) \\boldsymbol{\\gamma }_{x}\\wedge \\boldsymbol{\\gamma }_{y}\\wedge \\boldsymbol{\\gamma }_{z}\\wedge \\boldsymbol{\\gamma }_{w} + 4 m \\left(- E^{3} t - E^{2} p_{x} x - E^{2} p_{y} y - E^{2} p_{z} z + E m^{2} t + E {\\left ( p_{x} \\right )}^{2} t + E {\\left ( p_{y} \\right )}^{2} t + E {\\left ( p_{z} \\right )}^{2} t + m^{2} p_{x} x + m^{2} p_{y} y + m^{2} p_{z} z + {\\left ( p_{x} \\right )}^{3} x + {\\left ( p_{x} \\right )}^{2} p_{y} y + {\\left ( p_{x} \\right )}^{2} p_{z} z + p_{x} {\\left ( p_{y} \\right )}^{2} x + p_{x} {\\left ( p_{z} \\right )}^{2} x + {\\left ( p_{y} \\right )}^{3} y + {\\left ( p_{y} \\right )}^{2} p_{z} z + p_{y} {\\left ( p_{z} \\right )}^{2} y + {\\left ( p_{z} \\right )}^{3} z\\right) \\boldsymbol{\\gamma }_{t}\\wedge \\boldsymbol{\\gamma }_{x}\\wedge \\boldsymbol{\\gamma }_{y}\\wedge \\boldsymbol{\\gamma }_{z}\\wedge \\boldsymbol{\\gamma }_{w} \\end{equation*}$$"
      ],
      "text/plain": [
       "<IPython.core.display.Math object>"
      ]
     },
     "metadata": {},
     "output_type": "display_data"
    }
   ],
   "source": [
    "showDerivatives(f, 2, K[2])"
   ]
  },
  {
   "cell_type": "markdown",
   "metadata": {},
   "source": [
    "$$k_1 + k_2$$ density element is not null"
   ]
  },
  {
   "cell_type": "code",
   "execution_count": 43,
   "metadata": {},
   "outputs": [
    {
     "data": {
      "text/latex": [
       "$$k_3=k_1+k_2=\\begin{equation*} - m  - E \\boldsymbol{\\gamma }_{t} + p_{x} \\boldsymbol{\\gamma }_{x} + p_{y} \\boldsymbol{\\gamma }_{y} + p_{z} \\boldsymbol{\\gamma }_{z} - m \\boldsymbol{\\gamma }_{w} + E \\boldsymbol{\\gamma }_{t}\\wedge \\boldsymbol{\\gamma }_{w} - p_{x} \\boldsymbol{\\gamma }_{x}\\wedge \\boldsymbol{\\gamma }_{w} - p_{y} \\boldsymbol{\\gamma }_{y}\\wedge \\boldsymbol{\\gamma }_{w} - p_{z} \\boldsymbol{\\gamma }_{z}\\wedge \\boldsymbol{\\gamma }_{w} + p_{z} \\boldsymbol{\\gamma }_{t}\\wedge \\boldsymbol{\\gamma }_{x}\\wedge \\boldsymbol{\\gamma }_{y} - p_{y} \\boldsymbol{\\gamma }_{t}\\wedge \\boldsymbol{\\gamma }_{x}\\wedge \\boldsymbol{\\gamma }_{z} + p_{x} \\boldsymbol{\\gamma }_{t}\\wedge \\boldsymbol{\\gamma }_{y}\\wedge \\boldsymbol{\\gamma }_{z} - E \\boldsymbol{\\gamma }_{x}\\wedge \\boldsymbol{\\gamma }_{y}\\wedge \\boldsymbol{\\gamma }_{z} + m \\boldsymbol{\\gamma }_{t}\\wedge \\boldsymbol{\\gamma }_{x}\\wedge \\boldsymbol{\\gamma }_{y}\\wedge \\boldsymbol{\\gamma }_{z} - p_{z} \\boldsymbol{\\gamma }_{t}\\wedge \\boldsymbol{\\gamma }_{x}\\wedge \\boldsymbol{\\gamma }_{y}\\wedge \\boldsymbol{\\gamma }_{w} + p_{y} \\boldsymbol{\\gamma }_{t}\\wedge \\boldsymbol{\\gamma }_{x}\\wedge \\boldsymbol{\\gamma }_{z}\\wedge \\boldsymbol{\\gamma }_{w} - p_{x} \\boldsymbol{\\gamma }_{t}\\wedge \\boldsymbol{\\gamma }_{y}\\wedge \\boldsymbol{\\gamma }_{z}\\wedge \\boldsymbol{\\gamma }_{w} + E \\boldsymbol{\\gamma }_{x}\\wedge \\boldsymbol{\\gamma }_{y}\\wedge \\boldsymbol{\\gamma }_{z}\\wedge \\boldsymbol{\\gamma }_{w} + m \\boldsymbol{\\gamma }_{t}\\wedge \\boldsymbol{\\gamma }_{x}\\wedge \\boldsymbol{\\gamma }_{y}\\wedge \\boldsymbol{\\gamma }_{z}\\wedge \\boldsymbol{\\gamma }_{w} \\end{equation*}$$"
      ],
      "text/plain": [
       "<IPython.core.display.Math object>"
      ]
     },
     "metadata": {},
     "output_type": "display_data"
    },
    {
     "data": {
      "text/latex": [
       "$$k_3^2=\\begin{equation*} \\left ( 4 E^{2} - 4 {\\left ( p_{x} \\right )}^{2} - 4 {\\left ( p_{y} \\right )}^{2} - 4 {\\left ( p_{z} \\right )}^{2}\\right )  + 4 E m \\boldsymbol{\\gamma }_{t} - 4 m p_{x} \\boldsymbol{\\gamma }_{x} - 4 m p_{y} \\boldsymbol{\\gamma }_{y} - 4 m p_{z} \\boldsymbol{\\gamma }_{z} + 4 m p_{z} \\boldsymbol{\\gamma }_{t}\\wedge \\boldsymbol{\\gamma }_{x}\\wedge \\boldsymbol{\\gamma }_{y}\\wedge \\boldsymbol{\\gamma }_{w} - 4 m p_{y} \\boldsymbol{\\gamma }_{t}\\wedge \\boldsymbol{\\gamma }_{x}\\wedge \\boldsymbol{\\gamma }_{z}\\wedge \\boldsymbol{\\gamma }_{w} + 4 m p_{x} \\boldsymbol{\\gamma }_{t}\\wedge \\boldsymbol{\\gamma }_{y}\\wedge \\boldsymbol{\\gamma }_{z}\\wedge \\boldsymbol{\\gamma }_{w} - 4 E m \\boldsymbol{\\gamma }_{x}\\wedge \\boldsymbol{\\gamma }_{y}\\wedge \\boldsymbol{\\gamma }_{z}\\wedge \\boldsymbol{\\gamma }_{w} - 4 m^{2} \\boldsymbol{\\gamma }_{t}\\wedge \\boldsymbol{\\gamma }_{x}\\wedge \\boldsymbol{\\gamma }_{y}\\wedge \\boldsymbol{\\gamma }_{z}\\wedge \\boldsymbol{\\gamma }_{w} \\end{equation*}$$"
      ],
      "text/plain": [
       "<IPython.core.display.Math object>"
      ]
     },
     "metadata": {},
     "output_type": "display_data"
    },
    {
     "data": {
      "text/latex": [
       "$$\\rho=\\begin{equation*} \\left ( - 4 E^{4} t^{2} - 8 E^{3} p_{x} t x - 8 E^{3} p_{y} t y - 8 E^{3} p_{z} t z + 4 E^{2} m^{2} w^{2} + 4 E^{2} {\\left ( p_{x} \\right )}^{2} t^{2} - 4 E^{2} {\\left ( p_{x} \\right )}^{2} x^{2} - 8 E^{2} p_{x} p_{y} x y - 8 E^{2} p_{x} p_{z} x z + 4 E^{2} {\\left ( p_{y} \\right )}^{2} t^{2} - 4 E^{2} {\\left ( p_{y} \\right )}^{2} y^{2} - 8 E^{2} p_{y} p_{z} y z + 4 E^{2} {\\left ( p_{z} \\right )}^{2} t^{2} - 4 E^{2} {\\left ( p_{z} \\right )}^{2} z^{2} + 8 E {\\left ( p_{x} \\right )}^{3} t x + 8 E {\\left ( p_{x} \\right )}^{2} p_{y} t y + 8 E {\\left ( p_{x} \\right )}^{2} p_{z} t z + 8 E p_{x} {\\left ( p_{y} \\right )}^{2} t x + 8 E p_{x} {\\left ( p_{z} \\right )}^{2} t x + 8 E {\\left ( p_{y} \\right )}^{3} t y + 8 E {\\left ( p_{y} \\right )}^{2} p_{z} t z + 8 E p_{y} {\\left ( p_{z} \\right )}^{2} t y + 8 E {\\left ( p_{z} \\right )}^{3} t z - 4 m^{2} {\\left ( p_{x} \\right )}^{2} w^{2} - 4 m^{2} {\\left ( p_{y} \\right )}^{2} w^{2} - 4 m^{2} {\\left ( p_{z} \\right )}^{2} w^{2} + 4 {\\left ( p_{x} \\right )}^{4} x^{2} + 8 {\\left ( p_{x} \\right )}^{3} p_{y} x y + 8 {\\left ( p_{x} \\right )}^{3} p_{z} x z + 4 {\\left ( p_{x} \\right )}^{2} {\\left ( p_{y} \\right )}^{2} x^{2} + 4 {\\left ( p_{x} \\right )}^{2} {\\left ( p_{y} \\right )}^{2} y^{2} + 8 {\\left ( p_{x} \\right )}^{2} p_{y} p_{z} y z + 4 {\\left ( p_{x} \\right )}^{2} {\\left ( p_{z} \\right )}^{2} x^{2} + 4 {\\left ( p_{x} \\right )}^{2} {\\left ( p_{z} \\right )}^{2} z^{2} + 8 p_{x} {\\left ( p_{y} \\right )}^{3} x y + 8 p_{x} {\\left ( p_{y} \\right )}^{2} p_{z} x z + 8 p_{x} p_{y} {\\left ( p_{z} \\right )}^{2} x y + 8 p_{x} {\\left ( p_{z} \\right )}^{3} x z + 4 {\\left ( p_{y} \\right )}^{4} y^{2} + 8 {\\left ( p_{y} \\right )}^{3} p_{z} y z + 4 {\\left ( p_{y} \\right )}^{2} {\\left ( p_{z} \\right )}^{2} y^{2} + 4 {\\left ( p_{y} \\right )}^{2} {\\left ( p_{z} \\right )}^{2} z^{2} + 8 p_{y} {\\left ( p_{z} \\right )}^{3} y z + 4 {\\left ( p_{z} \\right )}^{4} z^{2}\\right )  + 4 E m \\left(E^{2} t^{2} + 2 E p_{x} t x + 2 E p_{y} t y + 2 E p_{z} t z + m^{2} w^{2} + {\\left ( p_{x} \\right )}^{2} x^{2} + 2 p_{x} p_{y} x y + 2 p_{x} p_{z} x z + {\\left ( p_{y} \\right )}^{2} y^{2} + 2 p_{y} p_{z} y z + {\\left ( p_{z} \\right )}^{2} z^{2}\\right) \\boldsymbol{\\gamma }_{t} - 4 m p_{x} \\left(E^{2} t^{2} + 2 E p_{x} t x + 2 E p_{y} t y + 2 E p_{z} t z + m^{2} w^{2} + {\\left ( p_{x} \\right )}^{2} x^{2} + 2 p_{x} p_{y} x y + 2 p_{x} p_{z} x z + {\\left ( p_{y} \\right )}^{2} y^{2} + 2 p_{y} p_{z} y z + {\\left ( p_{z} \\right )}^{2} z^{2}\\right) \\boldsymbol{\\gamma }_{x} - 4 m p_{y} \\left(E^{2} t^{2} + 2 E p_{x} t x + 2 E p_{y} t y + 2 E p_{z} t z + m^{2} w^{2} + {\\left ( p_{x} \\right )}^{2} x^{2} + 2 p_{x} p_{y} x y + 2 p_{x} p_{z} x z + {\\left ( p_{y} \\right )}^{2} y^{2} + 2 p_{y} p_{z} y z + {\\left ( p_{z} \\right )}^{2} z^{2}\\right) \\boldsymbol{\\gamma }_{y} - 4 m p_{z} \\left(E^{2} t^{2} + 2 E p_{x} t x + 2 E p_{y} t y + 2 E p_{z} t z + m^{2} w^{2} + {\\left ( p_{x} \\right )}^{2} x^{2} + 2 p_{x} p_{y} x y + 2 p_{x} p_{z} x z + {\\left ( p_{y} \\right )}^{2} y^{2} + 2 p_{y} p_{z} y z + {\\left ( p_{z} \\right )}^{2} z^{2}\\right) \\boldsymbol{\\gamma }_{z} + 8 m w \\left(- E^{3} t - E^{2} p_{x} x - E^{2} p_{y} y - E^{2} p_{z} z + E {\\left ( p_{x} \\right )}^{2} t + E {\\left ( p_{y} \\right )}^{2} t + E {\\left ( p_{z} \\right )}^{2} t + {\\left ( p_{x} \\right )}^{3} x + {\\left ( p_{x} \\right )}^{2} p_{y} y + {\\left ( p_{x} \\right )}^{2} p_{z} z + p_{x} {\\left ( p_{y} \\right )}^{2} x + p_{x} {\\left ( p_{z} \\right )}^{2} x + {\\left ( p_{y} \\right )}^{3} y + {\\left ( p_{y} \\right )}^{2} p_{z} z + p_{y} {\\left ( p_{z} \\right )}^{2} y + {\\left ( p_{z} \\right )}^{3} z\\right) \\boldsymbol{\\gamma }_{w} - 8 m^{3} w \\left(E t + p_{x} x + p_{y} y + p_{z} z\\right) \\boldsymbol{\\gamma }_{t}\\wedge \\boldsymbol{\\gamma }_{x}\\wedge \\boldsymbol{\\gamma }_{y}\\wedge \\boldsymbol{\\gamma }_{z} + 4 m p_{z} \\left(E^{2} t^{2} + 2 E p_{x} t x + 2 E p_{y} t y + 2 E p_{z} t z + m^{2} w^{2} + {\\left ( p_{x} \\right )}^{2} x^{2} + 2 p_{x} p_{y} x y + 2 p_{x} p_{z} x z + {\\left ( p_{y} \\right )}^{2} y^{2} + 2 p_{y} p_{z} y z + {\\left ( p_{z} \\right )}^{2} z^{2}\\right) \\boldsymbol{\\gamma }_{t}\\wedge \\boldsymbol{\\gamma }_{x}\\wedge \\boldsymbol{\\gamma }_{y}\\wedge \\boldsymbol{\\gamma }_{w} - 4 m p_{y} \\left(E^{2} t^{2} + 2 E p_{x} t x + 2 E p_{y} t y + 2 E p_{z} t z + m^{2} w^{2} + {\\left ( p_{x} \\right )}^{2} x^{2} + 2 p_{x} p_{y} x y + 2 p_{x} p_{z} x z + {\\left ( p_{y} \\right )}^{2} y^{2} + 2 p_{y} p_{z} y z + {\\left ( p_{z} \\right )}^{2} z^{2}\\right) \\boldsymbol{\\gamma }_{t}\\wedge \\boldsymbol{\\gamma }_{x}\\wedge \\boldsymbol{\\gamma }_{z}\\wedge \\boldsymbol{\\gamma }_{w} + 4 m p_{x} \\left(E^{2} t^{2} + 2 E p_{x} t x + 2 E p_{y} t y + 2 E p_{z} t z + m^{2} w^{2} + {\\left ( p_{x} \\right )}^{2} x^{2} + 2 p_{x} p_{y} x y + 2 p_{x} p_{z} x z + {\\left ( p_{y} \\right )}^{2} y^{2} + 2 p_{y} p_{z} y z + {\\left ( p_{z} \\right )}^{2} z^{2}\\right) \\boldsymbol{\\gamma }_{t}\\wedge \\boldsymbol{\\gamma }_{y}\\wedge \\boldsymbol{\\gamma }_{z}\\wedge \\boldsymbol{\\gamma }_{w} - 4 E m \\left(E^{2} t^{2} + 2 E p_{x} t x + 2 E p_{y} t y + 2 E p_{z} t z + m^{2} w^{2} + {\\left ( p_{x} \\right )}^{2} x^{2} + 2 p_{x} p_{y} x y + 2 p_{x} p_{z} x z + {\\left ( p_{y} \\right )}^{2} y^{2} + 2 p_{y} p_{z} y z + {\\left ( p_{z} \\right )}^{2} z^{2}\\right) \\boldsymbol{\\gamma }_{x}\\wedge \\boldsymbol{\\gamma }_{y}\\wedge \\boldsymbol{\\gamma }_{z}\\wedge \\boldsymbol{\\gamma }_{w} + 4 m^{2} \\left(E^{2} t^{2} + 2 E p_{x} t x + 2 E p_{y} t y + 2 E p_{z} t z - m^{2} w^{2} + {\\left ( p_{x} \\right )}^{2} x^{2} + 2 p_{x} p_{y} x y + 2 p_{x} p_{z} x z + {\\left ( p_{y} \\right )}^{2} y^{2} + 2 p_{y} p_{z} y z + {\\left ( p_{z} \\right )}^{2} z^{2}\\right) \\boldsymbol{\\gamma }_{t}\\wedge \\boldsymbol{\\gamma }_{x}\\wedge \\boldsymbol{\\gamma }_{y}\\wedge \\boldsymbol{\\gamma }_{z}\\wedge \\boldsymbol{\\gamma }_{w} \\end{equation*}$$"
      ],
      "text/plain": [
       "<IPython.core.display.Math object>"
      ]
     },
     "metadata": {},
     "output_type": "display_data"
    },
    {
     "data": {
      "text/latex": [
       "Combine regular and adjoint Dirac equations with difference"
      ],
      "text/plain": [
       "<IPython.core.display.Latex object>"
      ]
     },
     "metadata": {},
     "output_type": "display_data"
    },
    {
     "data": {
      "text/latex": [
       "$$1/2 (\\overrightarrow{D}\\rho-\\rho\\overleftarrow{D})=\\begin{equation*} 8 E m w \\left(- E^{2} + m^{2} + {\\left ( p_{x} \\right )}^{2} + {\\left ( p_{y} \\right )}^{2} + {\\left ( p_{z} \\right )}^{2}\\right) \\boldsymbol{\\gamma }_{t}\\wedge \\boldsymbol{\\gamma }_{w} + 8 m p_{x} w \\left(E^{2} - m^{2} - {\\left ( p_{x} \\right )}^{2} - {\\left ( p_{y} \\right )}^{2} - {\\left ( p_{z} \\right )}^{2}\\right) \\boldsymbol{\\gamma }_{x}\\wedge \\boldsymbol{\\gamma }_{w} + 8 m p_{y} w \\left(E^{2} - m^{2} - {\\left ( p_{x} \\right )}^{2} - {\\left ( p_{y} \\right )}^{2} - {\\left ( p_{z} \\right )}^{2}\\right) \\boldsymbol{\\gamma }_{y}\\wedge \\boldsymbol{\\gamma }_{w} + 8 m p_{z} w \\left(E^{2} - m^{2} - {\\left ( p_{x} \\right )}^{2} - {\\left ( p_{y} \\right )}^{2} - {\\left ( p_{z} \\right )}^{2}\\right) \\boldsymbol{\\gamma }_{z}\\wedge \\boldsymbol{\\gamma }_{w} \\end{equation*}$$"
      ],
      "text/plain": [
       "<IPython.core.display.Math object>"
      ]
     },
     "metadata": {},
     "output_type": "display_data"
    },
    {
     "data": {
      "text/latex": [
       "Combine regular and adjoint Dirac equations with addition"
      ],
      "text/plain": [
       "<IPython.core.display.Latex object>"
      ]
     },
     "metadata": {},
     "output_type": "display_data"
    },
    {
     "data": {
      "text/latex": [
       "$$1/2 (\\overrightarrow{D}\\rho+\\rho\\overleftarrow{D})=\\begin{equation*} 8 E \\left(- E^{3} t - E^{2} p_{x} x - E^{2} p_{y} y - E^{2} p_{z} z + E {\\left ( p_{x} \\right )}^{2} t + E {\\left ( p_{y} \\right )}^{2} t + E {\\left ( p_{z} \\right )}^{2} t + {\\left ( p_{x} \\right )}^{3} x + {\\left ( p_{x} \\right )}^{2} p_{y} y + {\\left ( p_{x} \\right )}^{2} p_{z} z + p_{x} {\\left ( p_{y} \\right )}^{2} x + p_{x} {\\left ( p_{z} \\right )}^{2} x + {\\left ( p_{y} \\right )}^{3} y + {\\left ( p_{y} \\right )}^{2} p_{z} z + p_{y} {\\left ( p_{z} \\right )}^{2} y + {\\left ( p_{z} \\right )}^{3} z\\right) \\boldsymbol{\\gamma }_{t} + 8 p_{x} \\left(E^{3} t + E^{2} p_{x} x + E^{2} p_{y} y + E^{2} p_{z} z - E {\\left ( p_{x} \\right )}^{2} t - E {\\left ( p_{y} \\right )}^{2} t - E {\\left ( p_{z} \\right )}^{2} t - {\\left ( p_{x} \\right )}^{3} x - {\\left ( p_{x} \\right )}^{2} p_{y} y - {\\left ( p_{x} \\right )}^{2} p_{z} z - p_{x} {\\left ( p_{y} \\right )}^{2} x - p_{x} {\\left ( p_{z} \\right )}^{2} x - {\\left ( p_{y} \\right )}^{3} y - {\\left ( p_{y} \\right )}^{2} p_{z} z - p_{y} {\\left ( p_{z} \\right )}^{2} y - {\\left ( p_{z} \\right )}^{3} z\\right) \\boldsymbol{\\gamma }_{x} + 8 p_{y} \\left(E^{3} t + E^{2} p_{x} x + E^{2} p_{y} y + E^{2} p_{z} z - E {\\left ( p_{x} \\right )}^{2} t - E {\\left ( p_{y} \\right )}^{2} t - E {\\left ( p_{z} \\right )}^{2} t - {\\left ( p_{x} \\right )}^{3} x - {\\left ( p_{x} \\right )}^{2} p_{y} y - {\\left ( p_{x} \\right )}^{2} p_{z} z - p_{x} {\\left ( p_{y} \\right )}^{2} x - p_{x} {\\left ( p_{z} \\right )}^{2} x - {\\left ( p_{y} \\right )}^{3} y - {\\left ( p_{y} \\right )}^{2} p_{z} z - p_{y} {\\left ( p_{z} \\right )}^{2} y - {\\left ( p_{z} \\right )}^{3} z\\right) \\boldsymbol{\\gamma }_{y} + 8 p_{z} \\left(E^{3} t + E^{2} p_{x} x + E^{2} p_{y} y + E^{2} p_{z} z - E {\\left ( p_{x} \\right )}^{2} t - E {\\left ( p_{y} \\right )}^{2} t - E {\\left ( p_{z} \\right )}^{2} t - {\\left ( p_{x} \\right )}^{3} x - {\\left ( p_{x} \\right )}^{2} p_{y} y - {\\left ( p_{x} \\right )}^{2} p_{z} z - p_{x} {\\left ( p_{y} \\right )}^{2} x - p_{x} {\\left ( p_{z} \\right )}^{2} x - {\\left ( p_{y} \\right )}^{3} y - {\\left ( p_{y} \\right )}^{2} p_{z} z - p_{y} {\\left ( p_{z} \\right )}^{2} y - {\\left ( p_{z} \\right )}^{3} z\\right) \\boldsymbol{\\gamma }_{z} + 8 m^{2} w \\left(- E^{2} + {\\left ( p_{x} \\right )}^{2} + {\\left ( p_{y} \\right )}^{2} + {\\left ( p_{z} \\right )}^{2}\\right) \\boldsymbol{\\gamma }_{w} - 8 m^{4} w \\boldsymbol{\\gamma }_{t}\\wedge \\boldsymbol{\\gamma }_{x}\\wedge \\boldsymbol{\\gamma }_{y}\\wedge \\boldsymbol{\\gamma }_{z} - 8 m^{2} p_{z} \\left(E t + p_{x} x + p_{y} y + p_{z} z\\right) \\boldsymbol{\\gamma }_{t}\\wedge \\boldsymbol{\\gamma }_{x}\\wedge \\boldsymbol{\\gamma }_{y}\\wedge \\boldsymbol{\\gamma }_{w} + 8 m^{2} p_{y} \\left(E t + p_{x} x + p_{y} y + p_{z} z\\right) \\boldsymbol{\\gamma }_{t}\\wedge \\boldsymbol{\\gamma }_{x}\\wedge \\boldsymbol{\\gamma }_{z}\\wedge \\boldsymbol{\\gamma }_{w} - 8 m^{2} p_{x} \\left(E t + p_{x} x + p_{y} y + p_{z} z\\right) \\boldsymbol{\\gamma }_{t}\\wedge \\boldsymbol{\\gamma }_{y}\\wedge \\boldsymbol{\\gamma }_{z}\\wedge \\boldsymbol{\\gamma }_{w} + 8 E m^{2} \\left(E t + p_{x} x + p_{y} y + p_{z} z\\right) \\boldsymbol{\\gamma }_{x}\\wedge \\boldsymbol{\\gamma }_{y}\\wedge \\boldsymbol{\\gamma }_{z}\\wedge \\boldsymbol{\\gamma }_{w} + 8 m \\left(- E^{3} t - E^{2} p_{x} x - E^{2} p_{y} y - E^{2} p_{z} z + E m^{2} t + E {\\left ( p_{x} \\right )}^{2} t + E {\\left ( p_{y} \\right )}^{2} t + E {\\left ( p_{z} \\right )}^{2} t + m^{2} p_{x} x + m^{2} p_{y} y + m^{2} p_{z} z + {\\left ( p_{x} \\right )}^{3} x + {\\left ( p_{x} \\right )}^{2} p_{y} y + {\\left ( p_{x} \\right )}^{2} p_{z} z + p_{x} {\\left ( p_{y} \\right )}^{2} x + p_{x} {\\left ( p_{z} \\right )}^{2} x + {\\left ( p_{y} \\right )}^{3} y + {\\left ( p_{y} \\right )}^{2} p_{z} z + p_{y} {\\left ( p_{z} \\right )}^{2} y + {\\left ( p_{z} \\right )}^{3} z\\right) \\boldsymbol{\\gamma }_{t}\\wedge \\boldsymbol{\\gamma }_{x}\\wedge \\boldsymbol{\\gamma }_{y}\\wedge \\boldsymbol{\\gamma }_{z}\\wedge \\boldsymbol{\\gamma }_{w} \\end{equation*}$$"
      ],
      "text/plain": [
       "<IPython.core.display.Math object>"
      ]
     },
     "metadata": {},
     "output_type": "display_data"
    }
   ],
   "source": [
    "sum=K[1]+K[2]\n",
    "sum.texLabel='k_1+k_2'\n",
    "showDerivatives(f, 3, sum)"
   ]
  },
  {
   "cell_type": "code",
   "execution_count": null,
   "metadata": {},
   "outputs": [],
   "source": []
  }
 ],
 "metadata": {
  "celltoolbar": "Raw Cell Format",
  "kernelspec": {
   "display_name": "Python 2",
   "language": "python",
   "name": "python2"
  },
  "language_info": {
   "codemirror_mode": {
    "name": "ipython",
    "version": 2
   },
   "file_extension": ".py",
   "mimetype": "text/x-python",
   "name": "python",
   "nbconvert_exporter": "python",
   "pygments_lexer": "ipython2",
   "version": "2.7.15"
  }
 },
 "nbformat": 4,
 "nbformat_minor": 2
}
