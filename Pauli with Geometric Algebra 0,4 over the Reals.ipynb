{
 "cells": [
  {
   "cell_type": "code",
   "execution_count": 1,
   "metadata": {},
   "outputs": [],
   "source": [
    "from IPython.display import Math, display\n",
    "def displayWithTitle(multivector, title):\n",
    "    display(Math(title + '=' + multivector._repr_latex_()))\n",
    "def CheckProperties(i,j,k, ilabel, jlabel, klabel):\n",
    "    displayWithTitle(i, title=ilabel)\n",
    "    displayWithTitle(j, title=jlabel)\n",
    "    displayWithTitle(k, title=klabel)\n",
    "    displayWithTitle((i*i), title=ilabel+'^2')\n",
    "    displayWithTitle((j*j), title=jlabel+'^2')\n",
    "    displayWithTitle((k*k), title=klabel+'^2')\n",
    "    displayWithTitle((i*j), title=ilabel + jlabel)\n",
    "    displayWithTitle((j*i), title=jlabel + ilabel)\n",
    "    displayWithTitle((j*k), title=jlabel + klabel)\n",
    "    displayWithTitle((k*j), title=klabel + jlabel)\n",
    "    displayWithTitle((k*i), title=klabel + ilabel)\n",
    "    displayWithTitle((i*k), title=ilabel + klabel)\n",
    "    displayWithTitle((i*j*k), title=ilabel + jlabel + klabel)"
   ]
  },
  {
   "cell_type": "code",
   "execution_count": 2,
   "metadata": {},
   "outputs": [],
   "source": [
    "from sympy.matrices import *\n",
    "from galgebra.ga import Ga\n",
    "from galgebra.printer import *"
   ]
  },
  {
   "cell_type": "markdown",
   "metadata": {
    "raw_mimetype": "text/latex"
   },
   "source": [
    "## ALGEBRA & DEFINITIONS\n",
    "\n",
    "Clifford algebra is $$Cl_{0,4}(\\mathbb{R})$$\n",
    "\n",
    "Flat space, no metric, just signature\n",
    "\n",
    "All constants are equal to 1"
   ]
  },
  {
   "cell_type": "code",
   "execution_count": 3,
   "metadata": {},
   "outputs": [
    {
     "name": "stdout",
     "output_type": "stream",
     "text": [
      "(x, y, z, w)\n"
     ]
    }
   ],
   "source": [
    "from sympy import *\n",
    "variables = (x, y, z, w) = symbols('x y z w', real=True)\n",
    "print(variables)"
   ]
  },
  {
   "cell_type": "code",
   "execution_count": 4,
   "metadata": {},
   "outputs": [],
   "source": [
    "metric=[ 1\n",
    "        ,1\n",
    "        ,1\n",
    "        ,1]\n",
    "\n",
    "myBasis='gamma_x gamma_y gamma_z gamma_w'\n",
    "\n",
    "sp4d = Ga(myBasis, g=metric, coords=variables,norm=True)\n",
    "(gamma_x, gamma_y, gamma_z, gamma_w) = sp4d.mv()\n",
    "(grad, rgrad) = sp4d.grads()"
   ]
  },
  {
   "cell_type": "markdown",
   "metadata": {},
   "source": [
    "## Quaternions\n",
    "http://en.wikipedia.org/wiki/Quaternion"
   ]
  },
  {
   "cell_type": "code",
   "execution_count": 5,
   "metadata": {},
   "outputs": [
    {
     "data": {
      "text/latex": [
       "$\\displaystyle (1,\\mathit{\\boldsymbol{i}},\\mathit{\\boldsymbol{j}},\\mathit{\\boldsymbol{k}})$"
      ],
      "text/plain": [
       "<IPython.core.display.Math object>"
      ]
     },
     "metadata": {},
     "output_type": "display_data"
    },
    {
     "data": {
      "text/latex": [
       "$\\displaystyle \\mathit{\\boldsymbol{i}}=\\begin{equation*}  \\boldsymbol{\\gamma }_{y}\\wedge \\boldsymbol{\\gamma }_{z} \\end{equation*}$"
      ],
      "text/plain": [
       "<IPython.core.display.Math object>"
      ]
     },
     "metadata": {},
     "output_type": "display_data"
    },
    {
     "data": {
      "text/latex": [
       "$\\displaystyle \\mathit{\\boldsymbol{j}}=\\begin{equation*} - \\boldsymbol{\\gamma }_{x}\\wedge \\boldsymbol{\\gamma }_{z} \\end{equation*}$"
      ],
      "text/plain": [
       "<IPython.core.display.Math object>"
      ]
     },
     "metadata": {},
     "output_type": "display_data"
    },
    {
     "data": {
      "text/latex": [
       "$\\displaystyle \\mathit{\\boldsymbol{k}}=\\begin{equation*}  \\boldsymbol{\\gamma }_{x}\\wedge \\boldsymbol{\\gamma }_{y} \\end{equation*}$"
      ],
      "text/plain": [
       "<IPython.core.display.Math object>"
      ]
     },
     "metadata": {},
     "output_type": "display_data"
    },
    {
     "data": {
      "text/latex": [
       "$\\displaystyle \\mathit{\\boldsymbol{i}}^2=\\begin{equation*} -1 \\end{equation*}$"
      ],
      "text/plain": [
       "<IPython.core.display.Math object>"
      ]
     },
     "metadata": {},
     "output_type": "display_data"
    },
    {
     "data": {
      "text/latex": [
       "$\\displaystyle \\mathit{\\boldsymbol{j}}^2=\\begin{equation*} -1 \\end{equation*}$"
      ],
      "text/plain": [
       "<IPython.core.display.Math object>"
      ]
     },
     "metadata": {},
     "output_type": "display_data"
    },
    {
     "data": {
      "text/latex": [
       "$\\displaystyle \\mathit{\\boldsymbol{k}}^2=\\begin{equation*} -1 \\end{equation*}$"
      ],
      "text/plain": [
       "<IPython.core.display.Math object>"
      ]
     },
     "metadata": {},
     "output_type": "display_data"
    },
    {
     "data": {
      "text/latex": [
       "$\\displaystyle \\mathit{\\boldsymbol{i}}\\mathit{\\boldsymbol{j}}=\\begin{equation*} - \\boldsymbol{\\gamma }_{x}\\wedge \\boldsymbol{\\gamma }_{y} \\end{equation*}$"
      ],
      "text/plain": [
       "<IPython.core.display.Math object>"
      ]
     },
     "metadata": {},
     "output_type": "display_data"
    },
    {
     "data": {
      "text/latex": [
       "$\\displaystyle \\mathit{\\boldsymbol{j}}\\mathit{\\boldsymbol{i}}=\\begin{equation*}  \\boldsymbol{\\gamma }_{x}\\wedge \\boldsymbol{\\gamma }_{y} \\end{equation*}$"
      ],
      "text/plain": [
       "<IPython.core.display.Math object>"
      ]
     },
     "metadata": {},
     "output_type": "display_data"
    },
    {
     "data": {
      "text/latex": [
       "$\\displaystyle \\mathit{\\boldsymbol{j}}\\mathit{\\boldsymbol{k}}=\\begin{equation*} - \\boldsymbol{\\gamma }_{y}\\wedge \\boldsymbol{\\gamma }_{z} \\end{equation*}$"
      ],
      "text/plain": [
       "<IPython.core.display.Math object>"
      ]
     },
     "metadata": {},
     "output_type": "display_data"
    },
    {
     "data": {
      "text/latex": [
       "$\\displaystyle \\mathit{\\boldsymbol{k}}\\mathit{\\boldsymbol{j}}=\\begin{equation*}  \\boldsymbol{\\gamma }_{y}\\wedge \\boldsymbol{\\gamma }_{z} \\end{equation*}$"
      ],
      "text/plain": [
       "<IPython.core.display.Math object>"
      ]
     },
     "metadata": {},
     "output_type": "display_data"
    },
    {
     "data": {
      "text/latex": [
       "$\\displaystyle \\mathit{\\boldsymbol{k}}\\mathit{\\boldsymbol{i}}=\\begin{equation*}  \\boldsymbol{\\gamma }_{x}\\wedge \\boldsymbol{\\gamma }_{z} \\end{equation*}$"
      ],
      "text/plain": [
       "<IPython.core.display.Math object>"
      ]
     },
     "metadata": {},
     "output_type": "display_data"
    },
    {
     "data": {
      "text/latex": [
       "$\\displaystyle \\mathit{\\boldsymbol{i}}\\mathit{\\boldsymbol{k}}=\\begin{equation*} - \\boldsymbol{\\gamma }_{x}\\wedge \\boldsymbol{\\gamma }_{z} \\end{equation*}$"
      ],
      "text/plain": [
       "<IPython.core.display.Math object>"
      ]
     },
     "metadata": {},
     "output_type": "display_data"
    },
    {
     "data": {
      "text/latex": [
       "$\\displaystyle \\mathit{\\boldsymbol{i}}\\mathit{\\boldsymbol{j}}\\mathit{\\boldsymbol{k}}=\\begin{equation*} 1 \\end{equation*}$"
      ],
      "text/plain": [
       "<IPython.core.display.Math object>"
      ]
     },
     "metadata": {},
     "output_type": "display_data"
    }
   ],
   "source": [
    "iquat=gamma_y*gamma_z\n",
    "jquat=gamma_z*gamma_x\n",
    "kquat=gamma_x*gamma_y\n",
    "iquat.texLabel='\\\\mathit{\\\\boldsymbol{i}}'\n",
    "jquat.texLabel='\\\\mathit{\\\\boldsymbol{j}}'\n",
    "kquat.texLabel='\\\\mathit{\\\\boldsymbol{k}}'\n",
    "\n",
    "display(Math('(1,'+iquat.texLabel+','+jquat.texLabel+','+kquat.texLabel+')'))\n",
    "CheckProperties(iquat,jquat,kquat,iquat.texLabel,jquat.texLabel,kquat.texLabel)"
   ]
  },
  {
   "cell_type": "code",
   "execution_count": 6,
   "metadata": {},
   "outputs": [
    {
     "data": {
      "text/latex": [
       "$\\displaystyle \\overrightarrow{D} = \\Sigma e_i \\partial x_i=\\begin{equation*} \\boldsymbol{\\gamma }_{x} \\frac{\\partial}{\\partial x} + \\boldsymbol{\\gamma }_{y} \\frac{\\partial}{\\partial y} + \\boldsymbol{\\gamma }_{z} \\frac{\\partial}{\\partial z} + \\boldsymbol{\\gamma }_{w} \\frac{\\partial}{\\partial w} \\end{equation*}$"
      ],
      "text/plain": [
       "<IPython.core.display.Math object>"
      ]
     },
     "metadata": {},
     "output_type": "display_data"
    },
    {
     "data": {
      "text/latex": [
       "$\\displaystyle \\overleftarrow{D} = \\Sigma \\partial x_i e_i=\\begin{equation*} \\frac{\\partial}{\\partial x} \\boldsymbol{\\gamma }_{x} + \\frac{\\partial}{\\partial y} \\boldsymbol{\\gamma }_{y} + \\frac{\\partial}{\\partial z} \\boldsymbol{\\gamma }_{z} + \\frac{\\partial}{\\partial w} \\boldsymbol{\\gamma }_{w} \\end{equation*}$"
      ],
      "text/plain": [
       "<IPython.core.display.Math object>"
      ]
     },
     "metadata": {},
     "output_type": "display_data"
    }
   ],
   "source": [
    "displayWithTitle(grad,title='\\overrightarrow{D} = \\Sigma e_i \\partial x_i')\n",
    "displayWithTitle(rgrad,title='\\overleftarrow{D} = \\Sigma \\partial x_i e_i')"
   ]
  },
  {
   "cell_type": "markdown",
   "metadata": {},
   "source": [
    "# PHYSICS\n",
    "\n",
    "The following symbols are defined :\n",
    "\n",
    "Mass $$m \\in \\mathbb{R}$$"
   ]
  },
  {
   "cell_type": "code",
   "execution_count": 7,
   "metadata": {},
   "outputs": [
    {
     "data": {
      "text/latex": [
       "Momentum $\\mathbf{p}$ is defined with $p_x, p_y, p_z \\in \\mathbb{R}$"
      ],
      "text/plain": [
       "<IPython.core.display.Latex object>"
      ]
     },
     "metadata": {},
     "output_type": "display_data"
    },
    {
     "data": {
      "text/latex": [
       "$\\displaystyle \\mathbf{p}=p_x\\mathit{\\boldsymbol{i}}+p_y\\mathit{\\boldsymbol{j}}+p_z\\mathit{\\boldsymbol{k}}$"
      ],
      "text/plain": [
       "<IPython.core.display.Math object>"
      ]
     },
     "metadata": {},
     "output_type": "display_data"
    },
    {
     "data": {
      "text/latex": [
       "$\\displaystyle \\mathbf{p}=\\begin{equation*} p_{z} \\boldsymbol{\\gamma }_{x}\\wedge \\boldsymbol{\\gamma }_{y} - p_{y} \\boldsymbol{\\gamma }_{x}\\wedge \\boldsymbol{\\gamma }_{z} + p_{x} \\boldsymbol{\\gamma }_{y}\\wedge \\boldsymbol{\\gamma }_{z} \\end{equation*}$"
      ],
      "text/plain": [
       "<IPython.core.display.Math object>"
      ]
     },
     "metadata": {},
     "output_type": "display_data"
    }
   ],
   "source": [
    "m, p_x, p_y, p_z = symbols('m p_x p_y p_z', real=True)\n",
    "\n",
    "rquat = [iquat, jquat, kquat]\n",
    "pv =[p_x, p_y, p_z]\n",
    "p = S(0)\n",
    "for (dim, var) in zip(pv, rquat):\n",
    "    p += var * dim\n",
    "p.texLabel='\\\\mathbf{p}'\n",
    "\n",
    "display(Latex('Momentum $'+p.texLabel+'$ is defined with $p_x, p_y, p_z \\\\in \\\\mathbb{R}$'))\n",
    "display(Math(p.texLabel+'=p_x'+iquat.texLabel+'+p_y'+jquat.texLabel+'+p_z'+kquat.texLabel))\n",
    "displayWithTitle(p, title=p.texLabel)"
   ]
  },
  {
   "cell_type": "code",
   "execution_count": 8,
   "metadata": {
    "scrolled": true
   },
   "outputs": [
    {
     "data": {
      "text/latex": [
       "$\\displaystyle f=\\begin{equation*} m w  + \\left ( - p_{x} x - p_{y} y - p_{z} z\\right ) \\boldsymbol{\\gamma }_{x}\\wedge \\boldsymbol{\\gamma }_{y}\\wedge \\boldsymbol{\\gamma }_{z} \\end{equation*}$"
      ],
      "text/plain": [
       "<IPython.core.display.Math object>"
      ]
     },
     "metadata": {},
     "output_type": "display_data"
    },
    {
     "data": {
      "text/latex": [
       "$\\displaystyle \\overrightarrow{D}f=\\begin{equation*} m \\boldsymbol{\\gamma }_{w} - p_{z} \\boldsymbol{\\gamma }_{x}\\wedge \\boldsymbol{\\gamma }_{y} + p_{y} \\boldsymbol{\\gamma }_{x}\\wedge \\boldsymbol{\\gamma }_{z} - p_{x} \\boldsymbol{\\gamma }_{y}\\wedge \\boldsymbol{\\gamma }_{z} \\end{equation*}$"
      ],
      "text/plain": [
       "<IPython.core.display.Math object>"
      ]
     },
     "metadata": {},
     "output_type": "display_data"
    },
    {
     "data": {
      "text/latex": [
       "$\\displaystyle f\\overleftarrow{D}=\\begin{equation*} m \\boldsymbol{\\gamma }_{w} - p_{z} \\boldsymbol{\\gamma }_{x}\\wedge \\boldsymbol{\\gamma }_{y} + p_{y} \\boldsymbol{\\gamma }_{x}\\wedge \\boldsymbol{\\gamma }_{z} - p_{x} \\boldsymbol{\\gamma }_{y}\\wedge \\boldsymbol{\\gamma }_{z} \\end{equation*}$"
      ],
      "text/plain": [
       "<IPython.core.display.Math object>"
      ]
     },
     "metadata": {},
     "output_type": "display_data"
    },
    {
     "data": {
      "text/latex": [
       "$\\displaystyle \\overrightarrow{D}f\\overrightarrow{D}f=\\begin{equation*} \\left ( m^{2} - {\\left ( p_{x} \\right )}^{2} - {\\left ( p_{y} \\right )}^{2} - {\\left ( p_{z} \\right )}^{2}\\right )  - 2 m p_{z} \\boldsymbol{\\gamma }_{x}\\wedge \\boldsymbol{\\gamma }_{y}\\wedge \\boldsymbol{\\gamma }_{w} + 2 m p_{y} \\boldsymbol{\\gamma }_{x}\\wedge \\boldsymbol{\\gamma }_{z}\\wedge \\boldsymbol{\\gamma }_{w} - 2 m p_{x} \\boldsymbol{\\gamma }_{y}\\wedge \\boldsymbol{\\gamma }_{z}\\wedge \\boldsymbol{\\gamma }_{w} \\end{equation*}$"
      ],
      "text/plain": [
       "<IPython.core.display.Math object>"
      ]
     },
     "metadata": {},
     "output_type": "display_data"
    },
    {
     "data": {
      "text/latex": [
       "$\\displaystyle f\\overleftarrow{D}f\\overleftarrow{D}=\\begin{equation*} \\left ( m^{2} - {\\left ( p_{x} \\right )}^{2} - {\\left ( p_{y} \\right )}^{2} - {\\left ( p_{z} \\right )}^{2}\\right )  - 2 m p_{z} \\boldsymbol{\\gamma }_{x}\\wedge \\boldsymbol{\\gamma }_{y}\\wedge \\boldsymbol{\\gamma }_{w} + 2 m p_{y} \\boldsymbol{\\gamma }_{x}\\wedge \\boldsymbol{\\gamma }_{z}\\wedge \\boldsymbol{\\gamma }_{w} - 2 m p_{x} \\boldsymbol{\\gamma }_{y}\\wedge \\boldsymbol{\\gamma }_{z}\\wedge \\boldsymbol{\\gamma }_{w} \\end{equation*}$"
      ],
      "text/plain": [
       "<IPython.core.display.Math object>"
      ]
     },
     "metadata": {},
     "output_type": "display_data"
    },
    {
     "data": {
      "text/latex": [
       "$\\displaystyle 1/2 (\\overrightarrow{D}f-f\\overleftarrow{D})=\\begin{equation*}  0  \\end{equation*}$"
      ],
      "text/plain": [
       "<IPython.core.display.Math object>"
      ]
     },
     "metadata": {},
     "output_type": "display_data"
    },
    {
     "data": {
      "text/latex": [
       "$\\displaystyle 1/2 (\\overrightarrow{D}f+f\\overleftarrow{D})=\\begin{equation*} m \\boldsymbol{\\gamma }_{w} - p_{z} \\boldsymbol{\\gamma }_{x}\\wedge \\boldsymbol{\\gamma }_{y} + p_{y} \\boldsymbol{\\gamma }_{x}\\wedge \\boldsymbol{\\gamma }_{z} - p_{x} \\boldsymbol{\\gamma }_{y}\\wedge \\boldsymbol{\\gamma }_{z} \\end{equation*}$"
      ],
      "text/plain": [
       "<IPython.core.display.Math object>"
      ]
     },
     "metadata": {},
     "output_type": "display_data"
    }
   ],
   "source": [
    "f=m*w-gamma_x*gamma_y*gamma_z*(p_x*x+p_y*y+p_z*z)\n",
    "\n",
    "displayWithTitle(f, title='f')\n",
    "displayWithTitle(grad*f, title='\\overrightarrow{D}f')\n",
    "displayWithTitle(f*rgrad, title='f\\overleftarrow{D}')\n",
    "displayWithTitle(grad*f*grad*f, title='\\overrightarrow{D}f\\overrightarrow{D}f')\n",
    "displayWithTitle(f*rgrad*f*rgrad, title='f\\overleftarrow{D}f\\overleftarrow{D}')\n",
    "displayWithTitle((grad*f - f*rgrad)/2, title='1/2 (\\overrightarrow{D}f-f\\overleftarrow{D})')\n",
    "displayWithTitle((grad*f + f*rgrad)/2, title='1/2 (\\overrightarrow{D}f+f\\overleftarrow{D})')\n"
   ]
  },
  {
   "cell_type": "code",
   "execution_count": null,
   "metadata": {},
   "outputs": [],
   "source": []
  }
 ],
 "metadata": {
  "celltoolbar": "Raw Cell Format",
  "kernelspec": {
   "display_name": "Python 3",
   "language": "python",
   "name": "python3"
  },
  "language_info": {
   "codemirror_mode": {
    "name": "ipython",
    "version": 3
   },
   "file_extension": ".py",
   "mimetype": "text/x-python",
   "name": "python",
   "nbconvert_exporter": "python",
   "pygments_lexer": "ipython3",
   "version": "3.7.3"
  }
 },
 "nbformat": 4,
 "nbformat_minor": 2
}
