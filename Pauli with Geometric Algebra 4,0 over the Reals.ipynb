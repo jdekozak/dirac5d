{
 "cells": [
  {
   "cell_type": "code",
   "execution_count": 1,
   "metadata": {},
   "outputs": [],
   "source": [
    "from IPython.display import Math, display\n",
    "def displayWithTitle(multivector, title):\n",
    "    display(Math(title + '=' + multivector._repr_latex_()))\n",
    "def CheckProperties(i,j,k, ilabel, jlabel, klabel):\n",
    "    displayWithTitle(i, title=ilabel)\n",
    "    displayWithTitle(j, title=jlabel)\n",
    "    displayWithTitle(k, title=klabel)\n",
    "    displayWithTitle((i*i), title=ilabel+'^2')\n",
    "    displayWithTitle((j*j), title=jlabel+'^2')\n",
    "    displayWithTitle((k*k), title=klabel+'^2')\n",
    "    displayWithTitle((i*j), title=ilabel + jlabel)\n",
    "    displayWithTitle((j*i), title=jlabel + ilabel)\n",
    "    displayWithTitle((j*k), title=jlabel + klabel)\n",
    "    displayWithTitle((k*j), title=klabel + jlabel)\n",
    "    displayWithTitle((k*i), title=klabel + ilabel)\n",
    "    displayWithTitle((i*k), title=ilabel + klabel)\n",
    "    displayWithTitle((i*j*k), title=ilabel + jlabel + klabel)"
   ]
  },
  {
   "cell_type": "code",
   "execution_count": 2,
   "metadata": {},
   "outputs": [],
   "source": [
    "from sympy.matrices import *\n",
    "from galgebra.ga import Ga\n",
    "from galgebra.printer import *"
   ]
  },
  {
   "cell_type": "markdown",
   "metadata": {
    "raw_mimetype": "text/latex"
   },
   "source": [
    "## ALGEBRA & DEFINITIONS\n",
    "\n",
    "Clifford algebra is $$Cl_{4,0}(\\mathbb{R})$$\n",
    "\n",
    "Flat space, no metric, just signature\n",
    "\n",
    "All constants are equal to 1"
   ]
  },
  {
   "cell_type": "code",
   "execution_count": 3,
   "metadata": {},
   "outputs": [
    {
     "name": "stdout",
     "output_type": "stream",
     "text": [
      "(x, y, z, w)\n"
     ]
    }
   ],
   "source": [
    "from sympy import *\n",
    "variables = (x, y, z, w) = symbols('x y z w', real=True)\n",
    "print(variables)"
   ]
  },
  {
   "cell_type": "code",
   "execution_count": 4,
   "metadata": {},
   "outputs": [],
   "source": [
    "metric=[ 1\n",
    "        ,1\n",
    "        ,1\n",
    "        ,1]\n",
    "\n",
    "myBasis='gamma_x gamma_y gamma_z gamma_w'\n",
    "\n",
    "sp4d = Ga(myBasis, g=metric, coords=variables,norm=True)\n",
    "(gamma_x, gamma_y, gamma_z, gamma_w) = sp4d.mv()\n",
    "(grad, rgrad) = sp4d.grads()"
   ]
  },
  {
   "cell_type": "markdown",
   "metadata": {},
   "source": [
    "## Quaternions\n",
    "http://en.wikipedia.org/wiki/Quaternion"
   ]
  },
  {
   "cell_type": "code",
   "execution_count": 5,
   "metadata": {},
   "outputs": [
    {
     "data": {
      "text/latex": [
       "$\\displaystyle (1,\\mathit{\\boldsymbol{i_w}},\\mathit{\\boldsymbol{j_w}},\\mathit{\\boldsymbol{k_w}})$"
      ],
      "text/plain": [
       "<IPython.core.display.Math object>"
      ]
     },
     "metadata": {},
     "output_type": "display_data"
    },
    {
     "data": {
      "text/latex": [
       "$\\displaystyle \\mathit{\\boldsymbol{i_w}}=\\begin{equation*}  \\boldsymbol{\\gamma }_{y}\\wedge \\boldsymbol{\\gamma }_{z} \\end{equation*}$"
      ],
      "text/plain": [
       "<IPython.core.display.Math object>"
      ]
     },
     "metadata": {},
     "output_type": "display_data"
    },
    {
     "data": {
      "text/latex": [
       "$\\displaystyle \\mathit{\\boldsymbol{j_w}}=\\begin{equation*} - \\boldsymbol{\\gamma }_{x}\\wedge \\boldsymbol{\\gamma }_{z} \\end{equation*}$"
      ],
      "text/plain": [
       "<IPython.core.display.Math object>"
      ]
     },
     "metadata": {},
     "output_type": "display_data"
    },
    {
     "data": {
      "text/latex": [
       "$\\displaystyle \\mathit{\\boldsymbol{k_w}}=\\begin{equation*} - \\boldsymbol{\\gamma }_{x}\\wedge \\boldsymbol{\\gamma }_{y} \\end{equation*}$"
      ],
      "text/plain": [
       "<IPython.core.display.Math object>"
      ]
     },
     "metadata": {},
     "output_type": "display_data"
    },
    {
     "data": {
      "text/latex": [
       "$\\displaystyle \\mathit{\\boldsymbol{i_w}}^2=\\begin{equation*} -1 \\end{equation*}$"
      ],
      "text/plain": [
       "<IPython.core.display.Math object>"
      ]
     },
     "metadata": {},
     "output_type": "display_data"
    },
    {
     "data": {
      "text/latex": [
       "$\\displaystyle \\mathit{\\boldsymbol{j_w}}^2=\\begin{equation*} -1 \\end{equation*}$"
      ],
      "text/plain": [
       "<IPython.core.display.Math object>"
      ]
     },
     "metadata": {},
     "output_type": "display_data"
    },
    {
     "data": {
      "text/latex": [
       "$\\displaystyle \\mathit{\\boldsymbol{k_w}}^2=\\begin{equation*} -1 \\end{equation*}$"
      ],
      "text/plain": [
       "<IPython.core.display.Math object>"
      ]
     },
     "metadata": {},
     "output_type": "display_data"
    },
    {
     "data": {
      "text/latex": [
       "$\\displaystyle \\mathit{\\boldsymbol{i_w}}\\mathit{\\boldsymbol{j_w}}=\\begin{equation*} - \\boldsymbol{\\gamma }_{x}\\wedge \\boldsymbol{\\gamma }_{y} \\end{equation*}$"
      ],
      "text/plain": [
       "<IPython.core.display.Math object>"
      ]
     },
     "metadata": {},
     "output_type": "display_data"
    },
    {
     "data": {
      "text/latex": [
       "$\\displaystyle \\mathit{\\boldsymbol{j_w}}\\mathit{\\boldsymbol{i_w}}=\\begin{equation*}  \\boldsymbol{\\gamma }_{x}\\wedge \\boldsymbol{\\gamma }_{y} \\end{equation*}$"
      ],
      "text/plain": [
       "<IPython.core.display.Math object>"
      ]
     },
     "metadata": {},
     "output_type": "display_data"
    },
    {
     "data": {
      "text/latex": [
       "$\\displaystyle \\mathit{\\boldsymbol{j_w}}\\mathit{\\boldsymbol{k_w}}=\\begin{equation*}  \\boldsymbol{\\gamma }_{y}\\wedge \\boldsymbol{\\gamma }_{z} \\end{equation*}$"
      ],
      "text/plain": [
       "<IPython.core.display.Math object>"
      ]
     },
     "metadata": {},
     "output_type": "display_data"
    },
    {
     "data": {
      "text/latex": [
       "$\\displaystyle \\mathit{\\boldsymbol{k_w}}\\mathit{\\boldsymbol{j_w}}=\\begin{equation*} - \\boldsymbol{\\gamma }_{y}\\wedge \\boldsymbol{\\gamma }_{z} \\end{equation*}$"
      ],
      "text/plain": [
       "<IPython.core.display.Math object>"
      ]
     },
     "metadata": {},
     "output_type": "display_data"
    },
    {
     "data": {
      "text/latex": [
       "$\\displaystyle \\mathit{\\boldsymbol{k_w}}\\mathit{\\boldsymbol{i_w}}=\\begin{equation*} - \\boldsymbol{\\gamma }_{x}\\wedge \\boldsymbol{\\gamma }_{z} \\end{equation*}$"
      ],
      "text/plain": [
       "<IPython.core.display.Math object>"
      ]
     },
     "metadata": {},
     "output_type": "display_data"
    },
    {
     "data": {
      "text/latex": [
       "$\\displaystyle \\mathit{\\boldsymbol{i_w}}\\mathit{\\boldsymbol{k_w}}=\\begin{equation*}  \\boldsymbol{\\gamma }_{x}\\wedge \\boldsymbol{\\gamma }_{z} \\end{equation*}$"
      ],
      "text/plain": [
       "<IPython.core.display.Math object>"
      ]
     },
     "metadata": {},
     "output_type": "display_data"
    },
    {
     "data": {
      "text/latex": [
       "$\\displaystyle \\mathit{\\boldsymbol{i_w}}\\mathit{\\boldsymbol{j_w}}\\mathit{\\boldsymbol{k_w}}=\\begin{equation*} -1 \\end{equation*}$"
      ],
      "text/plain": [
       "<IPython.core.display.Math object>"
      ]
     },
     "metadata": {},
     "output_type": "display_data"
    }
   ],
   "source": [
    "iwquat=gamma_y*gamma_z\n",
    "jwquat=gamma_z*gamma_x\n",
    "kwquat=-gamma_x*gamma_y\n",
    "iwquat.texLabel='\\\\mathit{\\\\boldsymbol{i_w}}'\n",
    "jwquat.texLabel='\\\\mathit{\\\\boldsymbol{j_w}}'\n",
    "kwquat.texLabel='\\\\mathit{\\\\boldsymbol{k_w}}'\n",
    "\n",
    "display(Math('(1,'+iwquat.texLabel+','+jwquat.texLabel+','+kwquat.texLabel+')'))\n",
    "CheckProperties(iwquat,jwquat,kwquat,iwquat.texLabel,jwquat.texLabel,kwquat.texLabel)"
   ]
  },
  {
   "cell_type": "code",
   "execution_count": 6,
   "metadata": {},
   "outputs": [
    {
     "data": {
      "text/latex": [
       "$\\displaystyle (1,\\mathit{\\boldsymbol{i_x}},\\mathit{\\boldsymbol{j_x}},\\mathit{\\boldsymbol{k_x}})$"
      ],
      "text/plain": [
       "<IPython.core.display.Math object>"
      ]
     },
     "metadata": {},
     "output_type": "display_data"
    },
    {
     "data": {
      "text/latex": [
       "$\\displaystyle \\mathit{\\boldsymbol{i_x}}=\\begin{equation*}  \\boldsymbol{\\gamma }_{y}\\wedge \\boldsymbol{\\gamma }_{z} \\end{equation*}$"
      ],
      "text/plain": [
       "<IPython.core.display.Math object>"
      ]
     },
     "metadata": {},
     "output_type": "display_data"
    },
    {
     "data": {
      "text/latex": [
       "$\\displaystyle \\mathit{\\boldsymbol{j_x}}=\\begin{equation*}  \\boldsymbol{\\gamma }_{z}\\wedge \\boldsymbol{\\gamma }_{w} \\end{equation*}$"
      ],
      "text/plain": [
       "<IPython.core.display.Math object>"
      ]
     },
     "metadata": {},
     "output_type": "display_data"
    },
    {
     "data": {
      "text/latex": [
       "$\\displaystyle \\mathit{\\boldsymbol{k_x}}=\\begin{equation*}  \\boldsymbol{\\gamma }_{y}\\wedge \\boldsymbol{\\gamma }_{w} \\end{equation*}$"
      ],
      "text/plain": [
       "<IPython.core.display.Math object>"
      ]
     },
     "metadata": {},
     "output_type": "display_data"
    },
    {
     "data": {
      "text/latex": [
       "$\\displaystyle \\mathit{\\boldsymbol{i_x}}^2=\\begin{equation*} -1 \\end{equation*}$"
      ],
      "text/plain": [
       "<IPython.core.display.Math object>"
      ]
     },
     "metadata": {},
     "output_type": "display_data"
    },
    {
     "data": {
      "text/latex": [
       "$\\displaystyle \\mathit{\\boldsymbol{j_x}}^2=\\begin{equation*} -1 \\end{equation*}$"
      ],
      "text/plain": [
       "<IPython.core.display.Math object>"
      ]
     },
     "metadata": {},
     "output_type": "display_data"
    },
    {
     "data": {
      "text/latex": [
       "$\\displaystyle \\mathit{\\boldsymbol{k_x}}^2=\\begin{equation*} -1 \\end{equation*}$"
      ],
      "text/plain": [
       "<IPython.core.display.Math object>"
      ]
     },
     "metadata": {},
     "output_type": "display_data"
    },
    {
     "data": {
      "text/latex": [
       "$\\displaystyle \\mathit{\\boldsymbol{i_x}}\\mathit{\\boldsymbol{j_x}}=\\begin{equation*}  \\boldsymbol{\\gamma }_{y}\\wedge \\boldsymbol{\\gamma }_{w} \\end{equation*}$"
      ],
      "text/plain": [
       "<IPython.core.display.Math object>"
      ]
     },
     "metadata": {},
     "output_type": "display_data"
    },
    {
     "data": {
      "text/latex": [
       "$\\displaystyle \\mathit{\\boldsymbol{j_x}}\\mathit{\\boldsymbol{i_x}}=\\begin{equation*} - \\boldsymbol{\\gamma }_{y}\\wedge \\boldsymbol{\\gamma }_{w} \\end{equation*}$"
      ],
      "text/plain": [
       "<IPython.core.display.Math object>"
      ]
     },
     "metadata": {},
     "output_type": "display_data"
    },
    {
     "data": {
      "text/latex": [
       "$\\displaystyle \\mathit{\\boldsymbol{j_x}}\\mathit{\\boldsymbol{k_x}}=\\begin{equation*}  \\boldsymbol{\\gamma }_{y}\\wedge \\boldsymbol{\\gamma }_{z} \\end{equation*}$"
      ],
      "text/plain": [
       "<IPython.core.display.Math object>"
      ]
     },
     "metadata": {},
     "output_type": "display_data"
    },
    {
     "data": {
      "text/latex": [
       "$\\displaystyle \\mathit{\\boldsymbol{k_x}}\\mathit{\\boldsymbol{j_x}}=\\begin{equation*} - \\boldsymbol{\\gamma }_{y}\\wedge \\boldsymbol{\\gamma }_{z} \\end{equation*}$"
      ],
      "text/plain": [
       "<IPython.core.display.Math object>"
      ]
     },
     "metadata": {},
     "output_type": "display_data"
    },
    {
     "data": {
      "text/latex": [
       "$\\displaystyle \\mathit{\\boldsymbol{k_x}}\\mathit{\\boldsymbol{i_x}}=\\begin{equation*}  \\boldsymbol{\\gamma }_{z}\\wedge \\boldsymbol{\\gamma }_{w} \\end{equation*}$"
      ],
      "text/plain": [
       "<IPython.core.display.Math object>"
      ]
     },
     "metadata": {},
     "output_type": "display_data"
    },
    {
     "data": {
      "text/latex": [
       "$\\displaystyle \\mathit{\\boldsymbol{i_x}}\\mathit{\\boldsymbol{k_x}}=\\begin{equation*} - \\boldsymbol{\\gamma }_{z}\\wedge \\boldsymbol{\\gamma }_{w} \\end{equation*}$"
      ],
      "text/plain": [
       "<IPython.core.display.Math object>"
      ]
     },
     "metadata": {},
     "output_type": "display_data"
    },
    {
     "data": {
      "text/latex": [
       "$\\displaystyle \\mathit{\\boldsymbol{i_x}}\\mathit{\\boldsymbol{j_x}}\\mathit{\\boldsymbol{k_x}}=\\begin{equation*} -1 \\end{equation*}$"
      ],
      "text/plain": [
       "<IPython.core.display.Math object>"
      ]
     },
     "metadata": {},
     "output_type": "display_data"
    }
   ],
   "source": [
    "ixquat=gamma_y*gamma_z\n",
    "jxquat=gamma_z*gamma_w\n",
    "kxquat=-gamma_w*gamma_y\n",
    "ixquat.texLabel='\\\\mathit{\\\\boldsymbol{i_x}}'\n",
    "jxquat.texLabel='\\\\mathit{\\\\boldsymbol{j_x}}'\n",
    "kxquat.texLabel='\\\\mathit{\\\\boldsymbol{k_x}}'\n",
    "\n",
    "display(Math('(1,'+ixquat.texLabel+','+jxquat.texLabel+','+kxquat.texLabel+')'))\n",
    "CheckProperties(ixquat,jxquat,kxquat,ixquat.texLabel,jxquat.texLabel,kxquat.texLabel)"
   ]
  },
  {
   "cell_type": "code",
   "execution_count": 7,
   "metadata": {},
   "outputs": [
    {
     "data": {
      "text/latex": [
       "$\\displaystyle (1,\\mathit{\\boldsymbol{i_y}},\\mathit{\\boldsymbol{j_y}},\\mathit{\\boldsymbol{k_y}})$"
      ],
      "text/plain": [
       "<IPython.core.display.Math object>"
      ]
     },
     "metadata": {},
     "output_type": "display_data"
    },
    {
     "data": {
      "text/latex": [
       "$\\displaystyle \\mathit{\\boldsymbol{i_y}}=\\begin{equation*}  \\boldsymbol{\\gamma }_{x}\\wedge \\boldsymbol{\\gamma }_{z} \\end{equation*}$"
      ],
      "text/plain": [
       "<IPython.core.display.Math object>"
      ]
     },
     "metadata": {},
     "output_type": "display_data"
    },
    {
     "data": {
      "text/latex": [
       "$\\displaystyle \\mathit{\\boldsymbol{j_y}}=\\begin{equation*}  \\boldsymbol{\\gamma }_{z}\\wedge \\boldsymbol{\\gamma }_{w} \\end{equation*}$"
      ],
      "text/plain": [
       "<IPython.core.display.Math object>"
      ]
     },
     "metadata": {},
     "output_type": "display_data"
    },
    {
     "data": {
      "text/latex": [
       "$\\displaystyle \\mathit{\\boldsymbol{k_y}}=\\begin{equation*}  \\boldsymbol{\\gamma }_{x}\\wedge \\boldsymbol{\\gamma }_{w} \\end{equation*}$"
      ],
      "text/plain": [
       "<IPython.core.display.Math object>"
      ]
     },
     "metadata": {},
     "output_type": "display_data"
    },
    {
     "data": {
      "text/latex": [
       "$\\displaystyle \\mathit{\\boldsymbol{i_y}}^2=\\begin{equation*} -1 \\end{equation*}$"
      ],
      "text/plain": [
       "<IPython.core.display.Math object>"
      ]
     },
     "metadata": {},
     "output_type": "display_data"
    },
    {
     "data": {
      "text/latex": [
       "$\\displaystyle \\mathit{\\boldsymbol{j_y}}^2=\\begin{equation*} -1 \\end{equation*}$"
      ],
      "text/plain": [
       "<IPython.core.display.Math object>"
      ]
     },
     "metadata": {},
     "output_type": "display_data"
    },
    {
     "data": {
      "text/latex": [
       "$\\displaystyle \\mathit{\\boldsymbol{k_y}}^2=\\begin{equation*} -1 \\end{equation*}$"
      ],
      "text/plain": [
       "<IPython.core.display.Math object>"
      ]
     },
     "metadata": {},
     "output_type": "display_data"
    },
    {
     "data": {
      "text/latex": [
       "$\\displaystyle \\mathit{\\boldsymbol{i_y}}\\mathit{\\boldsymbol{j_y}}=\\begin{equation*}  \\boldsymbol{\\gamma }_{x}\\wedge \\boldsymbol{\\gamma }_{w} \\end{equation*}$"
      ],
      "text/plain": [
       "<IPython.core.display.Math object>"
      ]
     },
     "metadata": {},
     "output_type": "display_data"
    },
    {
     "data": {
      "text/latex": [
       "$\\displaystyle \\mathit{\\boldsymbol{j_y}}\\mathit{\\boldsymbol{i_y}}=\\begin{equation*} - \\boldsymbol{\\gamma }_{x}\\wedge \\boldsymbol{\\gamma }_{w} \\end{equation*}$"
      ],
      "text/plain": [
       "<IPython.core.display.Math object>"
      ]
     },
     "metadata": {},
     "output_type": "display_data"
    },
    {
     "data": {
      "text/latex": [
       "$\\displaystyle \\mathit{\\boldsymbol{j_y}}\\mathit{\\boldsymbol{k_y}}=\\begin{equation*}  \\boldsymbol{\\gamma }_{x}\\wedge \\boldsymbol{\\gamma }_{z} \\end{equation*}$"
      ],
      "text/plain": [
       "<IPython.core.display.Math object>"
      ]
     },
     "metadata": {},
     "output_type": "display_data"
    },
    {
     "data": {
      "text/latex": [
       "$\\displaystyle \\mathit{\\boldsymbol{k_y}}\\mathit{\\boldsymbol{j_y}}=\\begin{equation*} - \\boldsymbol{\\gamma }_{x}\\wedge \\boldsymbol{\\gamma }_{z} \\end{equation*}$"
      ],
      "text/plain": [
       "<IPython.core.display.Math object>"
      ]
     },
     "metadata": {},
     "output_type": "display_data"
    },
    {
     "data": {
      "text/latex": [
       "$\\displaystyle \\mathit{\\boldsymbol{k_y}}\\mathit{\\boldsymbol{i_y}}=\\begin{equation*}  \\boldsymbol{\\gamma }_{z}\\wedge \\boldsymbol{\\gamma }_{w} \\end{equation*}$"
      ],
      "text/plain": [
       "<IPython.core.display.Math object>"
      ]
     },
     "metadata": {},
     "output_type": "display_data"
    },
    {
     "data": {
      "text/latex": [
       "$\\displaystyle \\mathit{\\boldsymbol{i_y}}\\mathit{\\boldsymbol{k_y}}=\\begin{equation*} - \\boldsymbol{\\gamma }_{z}\\wedge \\boldsymbol{\\gamma }_{w} \\end{equation*}$"
      ],
      "text/plain": [
       "<IPython.core.display.Math object>"
      ]
     },
     "metadata": {},
     "output_type": "display_data"
    },
    {
     "data": {
      "text/latex": [
       "$\\displaystyle \\mathit{\\boldsymbol{i_y}}\\mathit{\\boldsymbol{j_y}}\\mathit{\\boldsymbol{k_y}}=\\begin{equation*} -1 \\end{equation*}$"
      ],
      "text/plain": [
       "<IPython.core.display.Math object>"
      ]
     },
     "metadata": {},
     "output_type": "display_data"
    }
   ],
   "source": [
    "iyquat=gamma_x*gamma_z\n",
    "jyquat=gamma_z*gamma_w\n",
    "kyquat=-gamma_w*gamma_x\n",
    "iyquat.texLabel='\\\\mathit{\\\\boldsymbol{i_y}}'\n",
    "jyquat.texLabel='\\\\mathit{\\\\boldsymbol{j_y}}'\n",
    "kyquat.texLabel='\\\\mathit{\\\\boldsymbol{k_y}}'\n",
    "\n",
    "display(Math('(1,'+iyquat.texLabel+','+jyquat.texLabel+','+kyquat.texLabel+')'))\n",
    "CheckProperties(iyquat,jyquat,kyquat,iyquat.texLabel,jyquat.texLabel,kyquat.texLabel)"
   ]
  },
  {
   "cell_type": "code",
   "execution_count": 8,
   "metadata": {
    "scrolled": false
   },
   "outputs": [
    {
     "data": {
      "text/latex": [
       "$\\displaystyle (1,\\mathit{\\boldsymbol{i_z}},\\mathit{\\boldsymbol{j_z}},\\mathit{\\boldsymbol{k_z}})$"
      ],
      "text/plain": [
       "<IPython.core.display.Math object>"
      ]
     },
     "metadata": {},
     "output_type": "display_data"
    },
    {
     "data": {
      "text/latex": [
       "$\\displaystyle \\mathit{\\boldsymbol{i_z}}=\\begin{equation*}  \\boldsymbol{\\gamma }_{x}\\wedge \\boldsymbol{\\gamma }_{y} \\end{equation*}$"
      ],
      "text/plain": [
       "<IPython.core.display.Math object>"
      ]
     },
     "metadata": {},
     "output_type": "display_data"
    },
    {
     "data": {
      "text/latex": [
       "$\\displaystyle \\mathit{\\boldsymbol{j_z}}=\\begin{equation*}  \\boldsymbol{\\gamma }_{y}\\wedge \\boldsymbol{\\gamma }_{w} \\end{equation*}$"
      ],
      "text/plain": [
       "<IPython.core.display.Math object>"
      ]
     },
     "metadata": {},
     "output_type": "display_data"
    },
    {
     "data": {
      "text/latex": [
       "$\\displaystyle \\mathit{\\boldsymbol{k_z}}=\\begin{equation*}  \\boldsymbol{\\gamma }_{x}\\wedge \\boldsymbol{\\gamma }_{w} \\end{equation*}$"
      ],
      "text/plain": [
       "<IPython.core.display.Math object>"
      ]
     },
     "metadata": {},
     "output_type": "display_data"
    },
    {
     "data": {
      "text/latex": [
       "$\\displaystyle \\mathit{\\boldsymbol{i_z}}^2=\\begin{equation*} -1 \\end{equation*}$"
      ],
      "text/plain": [
       "<IPython.core.display.Math object>"
      ]
     },
     "metadata": {},
     "output_type": "display_data"
    },
    {
     "data": {
      "text/latex": [
       "$\\displaystyle \\mathit{\\boldsymbol{j_z}}^2=\\begin{equation*} -1 \\end{equation*}$"
      ],
      "text/plain": [
       "<IPython.core.display.Math object>"
      ]
     },
     "metadata": {},
     "output_type": "display_data"
    },
    {
     "data": {
      "text/latex": [
       "$\\displaystyle \\mathit{\\boldsymbol{k_z}}^2=\\begin{equation*} -1 \\end{equation*}$"
      ],
      "text/plain": [
       "<IPython.core.display.Math object>"
      ]
     },
     "metadata": {},
     "output_type": "display_data"
    },
    {
     "data": {
      "text/latex": [
       "$\\displaystyle \\mathit{\\boldsymbol{i_z}}\\mathit{\\boldsymbol{j_z}}=\\begin{equation*}  \\boldsymbol{\\gamma }_{x}\\wedge \\boldsymbol{\\gamma }_{w} \\end{equation*}$"
      ],
      "text/plain": [
       "<IPython.core.display.Math object>"
      ]
     },
     "metadata": {},
     "output_type": "display_data"
    },
    {
     "data": {
      "text/latex": [
       "$\\displaystyle \\mathit{\\boldsymbol{j_z}}\\mathit{\\boldsymbol{i_z}}=\\begin{equation*} - \\boldsymbol{\\gamma }_{x}\\wedge \\boldsymbol{\\gamma }_{w} \\end{equation*}$"
      ],
      "text/plain": [
       "<IPython.core.display.Math object>"
      ]
     },
     "metadata": {},
     "output_type": "display_data"
    },
    {
     "data": {
      "text/latex": [
       "$\\displaystyle \\mathit{\\boldsymbol{j_z}}\\mathit{\\boldsymbol{k_z}}=\\begin{equation*}  \\boldsymbol{\\gamma }_{x}\\wedge \\boldsymbol{\\gamma }_{y} \\end{equation*}$"
      ],
      "text/plain": [
       "<IPython.core.display.Math object>"
      ]
     },
     "metadata": {},
     "output_type": "display_data"
    },
    {
     "data": {
      "text/latex": [
       "$\\displaystyle \\mathit{\\boldsymbol{k_z}}\\mathit{\\boldsymbol{j_z}}=\\begin{equation*} - \\boldsymbol{\\gamma }_{x}\\wedge \\boldsymbol{\\gamma }_{y} \\end{equation*}$"
      ],
      "text/plain": [
       "<IPython.core.display.Math object>"
      ]
     },
     "metadata": {},
     "output_type": "display_data"
    },
    {
     "data": {
      "text/latex": [
       "$\\displaystyle \\mathit{\\boldsymbol{k_z}}\\mathit{\\boldsymbol{i_z}}=\\begin{equation*}  \\boldsymbol{\\gamma }_{y}\\wedge \\boldsymbol{\\gamma }_{w} \\end{equation*}$"
      ],
      "text/plain": [
       "<IPython.core.display.Math object>"
      ]
     },
     "metadata": {},
     "output_type": "display_data"
    },
    {
     "data": {
      "text/latex": [
       "$\\displaystyle \\mathit{\\boldsymbol{i_z}}\\mathit{\\boldsymbol{k_z}}=\\begin{equation*} - \\boldsymbol{\\gamma }_{y}\\wedge \\boldsymbol{\\gamma }_{w} \\end{equation*}$"
      ],
      "text/plain": [
       "<IPython.core.display.Math object>"
      ]
     },
     "metadata": {},
     "output_type": "display_data"
    },
    {
     "data": {
      "text/latex": [
       "$\\displaystyle \\mathit{\\boldsymbol{i_z}}\\mathit{\\boldsymbol{j_z}}\\mathit{\\boldsymbol{k_z}}=\\begin{equation*} -1 \\end{equation*}$"
      ],
      "text/plain": [
       "<IPython.core.display.Math object>"
      ]
     },
     "metadata": {},
     "output_type": "display_data"
    }
   ],
   "source": [
    "izquat=gamma_x*gamma_y\n",
    "jzquat=gamma_y*gamma_w\n",
    "kzquat=-gamma_w*gamma_x\n",
    "izquat.texLabel='\\\\mathit{\\\\boldsymbol{i_z}}'\n",
    "jzquat.texLabel='\\\\mathit{\\\\boldsymbol{j_z}}'\n",
    "kzquat.texLabel='\\\\mathit{\\\\boldsymbol{k_z}}'\n",
    "\n",
    "display(Math('(1,'+izquat.texLabel+','+jzquat.texLabel+','+kzquat.texLabel+')'))\n",
    "CheckProperties(izquat,jzquat,kzquat,izquat.texLabel,jzquat.texLabel,kzquat.texLabel)"
   ]
  },
  {
   "cell_type": "code",
   "execution_count": 9,
   "metadata": {},
   "outputs": [
    {
     "data": {
      "text/latex": [
       "$\\displaystyle I_w=\\begin{equation*}  \\boldsymbol{\\gamma }_{x}\\wedge \\boldsymbol{\\gamma }_{y}\\wedge \\boldsymbol{\\gamma }_{z} \\end{equation*}$"
      ],
      "text/plain": [
       "<IPython.core.display.Math object>"
      ]
     },
     "metadata": {},
     "output_type": "display_data"
    },
    {
     "data": {
      "text/latex": [
       "$\\displaystyle I_w^2=\\begin{equation*} -1 \\end{equation*}$"
      ],
      "text/plain": [
       "<IPython.core.display.Math object>"
      ]
     },
     "metadata": {},
     "output_type": "display_data"
    },
    {
     "data": {
      "text/latex": [
       "$\\displaystyle I_x=\\begin{equation*}  \\boldsymbol{\\gamma }_{y}\\wedge \\boldsymbol{\\gamma }_{z}\\wedge \\boldsymbol{\\gamma }_{w} \\end{equation*}$"
      ],
      "text/plain": [
       "<IPython.core.display.Math object>"
      ]
     },
     "metadata": {},
     "output_type": "display_data"
    },
    {
     "data": {
      "text/latex": [
       "$\\displaystyle I_x^2=\\begin{equation*} -1 \\end{equation*}$"
      ],
      "text/plain": [
       "<IPython.core.display.Math object>"
      ]
     },
     "metadata": {},
     "output_type": "display_data"
    },
    {
     "data": {
      "text/latex": [
       "$\\displaystyle I_y=\\begin{equation*} - \\boldsymbol{\\gamma }_{x}\\wedge \\boldsymbol{\\gamma }_{z}\\wedge \\boldsymbol{\\gamma }_{w} \\end{equation*}$"
      ],
      "text/plain": [
       "<IPython.core.display.Math object>"
      ]
     },
     "metadata": {},
     "output_type": "display_data"
    },
    {
     "data": {
      "text/latex": [
       "$\\displaystyle I_y^2=\\begin{equation*} -1 \\end{equation*}$"
      ],
      "text/plain": [
       "<IPython.core.display.Math object>"
      ]
     },
     "metadata": {},
     "output_type": "display_data"
    },
    {
     "data": {
      "text/latex": [
       "$\\displaystyle I_z=\\begin{equation*}  \\boldsymbol{\\gamma }_{x}\\wedge \\boldsymbol{\\gamma }_{y}\\wedge \\boldsymbol{\\gamma }_{w} \\end{equation*}$"
      ],
      "text/plain": [
       "<IPython.core.display.Math object>"
      ]
     },
     "metadata": {},
     "output_type": "display_data"
    },
    {
     "data": {
      "text/latex": [
       "$\\displaystyle I_z^2=\\begin{equation*} -1 \\end{equation*}$"
      ],
      "text/plain": [
       "<IPython.core.display.Math object>"
      ]
     },
     "metadata": {},
     "output_type": "display_data"
    }
   ],
   "source": [
    "Iw=gamma_x*gamma_y*gamma_z\n",
    "Ix=gamma_w*gamma_y*gamma_z\n",
    "Iy=gamma_x*gamma_w*gamma_z\n",
    "Iz=gamma_x*gamma_y*gamma_w\n",
    "displayWithTitle(Iw,title='I_w')\n",
    "displayWithTitle(Iw*Iw,title='I_w^2')\n",
    "displayWithTitle(Ix,title='I_x')\n",
    "displayWithTitle(Ix*Ix,title='I_x^2')\n",
    "displayWithTitle(Iy,title='I_y')\n",
    "displayWithTitle(Iy*Iy,title='I_y^2')\n",
    "displayWithTitle(Iz,title='I_z')\n",
    "displayWithTitle(Iz*Iz,title='I_z^2')"
   ]
  },
  {
   "cell_type": "markdown",
   "metadata": {},
   "source": [
    "# PHYSICS\n",
    "\n",
    "The following symbols are defined :\n",
    "\n",
    "Charge $$q \\in \\mathbb{R}$$\n",
    "\n",
    "Mass $$m \\in \\mathbb{R}$$"
   ]
  },
  {
   "cell_type": "code",
   "execution_count": 10,
   "metadata": {},
   "outputs": [],
   "source": [
    "m, q = symbols('m q', real=True)\n",
    "rquat = [iwquat, jwquat, kwquat]"
   ]
  },
  {
   "cell_type": "code",
   "execution_count": 11,
   "metadata": {
    "scrolled": true
   },
   "outputs": [
    {
     "data": {
      "text/latex": [
       "Magnetic field $\\mathbf{B}$ is defined with $B_x, B_y, B_z \\in \\mathbb{R}$"
      ],
      "text/plain": [
       "<IPython.core.display.Latex object>"
      ]
     },
     "metadata": {},
     "output_type": "display_data"
    },
    {
     "data": {
      "text/latex": [
       "$\\displaystyle \\mathbf{B}=B_x\\mathit{\\boldsymbol{i_w}}+B_y\\mathit{\\boldsymbol{j_w}}+B_z\\mathit{\\boldsymbol{k_w}}$"
      ],
      "text/plain": [
       "<IPython.core.display.Math object>"
      ]
     },
     "metadata": {},
     "output_type": "display_data"
    },
    {
     "data": {
      "text/latex": [
       "$\\displaystyle \\mathbf{B}=\\begin{equation*} - B_{z} \\boldsymbol{\\gamma }_{x}\\wedge \\boldsymbol{\\gamma }_{y} - B_{y} \\boldsymbol{\\gamma }_{x}\\wedge \\boldsymbol{\\gamma }_{z} + B_{x} \\boldsymbol{\\gamma }_{y}\\wedge \\boldsymbol{\\gamma }_{z} \\end{equation*}$"
      ],
      "text/plain": [
       "<IPython.core.display.Math object>"
      ]
     },
     "metadata": {},
     "output_type": "display_data"
    }
   ],
   "source": [
    "B_x, B_y, B_z = symbols('B_x B_y B_z', real=True)\n",
    "Bv =[B_x, B_y, B_z]\n",
    "B = S(0)\n",
    "for (dim, var) in zip(Bv, rquat):\n",
    "    B += var * dim\n",
    "B.texLabel='\\\\mathbf{B}'\n",
    "\n",
    "display(Latex('Magnetic field $'+B.texLabel+'$ is defined with $B_x, B_y, B_z \\\\in \\\\mathbb{R}$'))\n",
    "display(Math(B.texLabel+'=B_x'+iwquat.texLabel+'+B_y'+jwquat.texLabel+'+B_z'+kwquat.texLabel))\n",
    "displayWithTitle(B, title=B.texLabel)\n"
   ]
  },
  {
   "cell_type": "code",
   "execution_count": 12,
   "metadata": {},
   "outputs": [
    {
     "data": {
      "text/latex": [
       "Pauli spinor $\\psi$ is defined with $a, b, c, d\\in \\mathbb{R}$"
      ],
      "text/plain": [
       "<IPython.core.display.Latex object>"
      ]
     },
     "metadata": {},
     "output_type": "display_data"
    },
    {
     "data": {
      "text/latex": [
       "$\\displaystyle \\psi=a+b\\mathit{\\boldsymbol{i_w}}+c\\mathit{\\boldsymbol{j_w}}+d\\mathit{\\boldsymbol{k_w}}$"
      ],
      "text/plain": [
       "<IPython.core.display.Math object>"
      ]
     },
     "metadata": {},
     "output_type": "display_data"
    },
    {
     "data": {
      "text/latex": [
       "$\\displaystyle \\psi=\\begin{equation*} a  - d \\boldsymbol{\\gamma }_{x}\\wedge \\boldsymbol{\\gamma }_{y} - c \\boldsymbol{\\gamma }_{x}\\wedge \\boldsymbol{\\gamma }_{z} + b \\boldsymbol{\\gamma }_{y}\\wedge \\boldsymbol{\\gamma }_{z} \\end{equation*}$"
      ],
      "text/plain": [
       "<IPython.core.display.Math object>"
      ]
     },
     "metadata": {},
     "output_type": "display_data"
    }
   ],
   "source": [
    "a, b, c, d = symbols('a b c d', real=True)\n",
    "\n",
    "phiv =[b, c, d]\n",
    "phi = S(a)\n",
    "for (dim, var) in zip(phiv, rquat):\n",
    "    phi += var * dim\n",
    "phi.texLabel='\\\\psi'\n",
    "\n",
    "display(Latex('Pauli spinor $'+phi.texLabel+'$ is defined with $a, b, c, d\\\\in \\\\mathbb{R}$'))\n",
    "display(Math(phi.texLabel+'=a+b'+iwquat.texLabel+'+c'+jwquat.texLabel+'+d'+kwquat.texLabel))\n",
    "displayWithTitle(phi, title=phi.texLabel)"
   ]
  },
  {
   "cell_type": "code",
   "execution_count": 13,
   "metadata": {},
   "outputs": [
    {
     "data": {
      "text/latex": [
       "$\\displaystyle \\uparrow=\\begin{equation*} 0.5  + 0.5 \\boldsymbol{\\gamma }_{z} \\end{equation*}$"
      ],
      "text/plain": [
       "<IPython.core.display.Math object>"
      ]
     },
     "metadata": {},
     "output_type": "display_data"
    },
    {
     "data": {
      "text/latex": [
       "$\\displaystyle \\uparrow^2=\\begin{equation*} 0.5  + 0.5 \\boldsymbol{\\gamma }_{z} \\end{equation*}$"
      ],
      "text/plain": [
       "<IPython.core.display.Math object>"
      ]
     },
     "metadata": {},
     "output_type": "display_data"
    },
    {
     "data": {
      "text/latex": [
       "$\\displaystyle \\downarrow=\\begin{equation*} 0.5  -0.5 \\boldsymbol{\\gamma }_{z} \\end{equation*}$"
      ],
      "text/plain": [
       "<IPython.core.display.Math object>"
      ]
     },
     "metadata": {},
     "output_type": "display_data"
    },
    {
     "data": {
      "text/latex": [
       "$\\displaystyle \\downarrow^2=\\begin{equation*} 0.5  -0.5 \\boldsymbol{\\gamma }_{z} \\end{equation*}$"
      ],
      "text/plain": [
       "<IPython.core.display.Math object>"
      ]
     },
     "metadata": {},
     "output_type": "display_data"
    }
   ],
   "source": [
    "up=1/2*(1+gamma_z)\n",
    "up.texLabel='\\\\uparrow'\n",
    "displayWithTitle(up, title=up.texLabel)\n",
    "displayWithTitle(up*up, title=up.texLabel+'^2')\n",
    "\n",
    "down=1/2*(1-gamma_z)\n",
    "down.texLabel='\\\\downarrow'\n",
    "displayWithTitle(down, title=down.texLabel)\n",
    "displayWithTitle(down*down, title=down.texLabel+'^2')"
   ]
  },
  {
   "cell_type": "code",
   "execution_count": 27,
   "metadata": {},
   "outputs": [
    {
     "data": {
      "text/latex": [
       "$\\displaystyle [=\\begin{equation*} 0.5  + 0.5 \\boldsymbol{\\gamma }_{x}\\wedge \\boldsymbol{\\gamma }_{y}\\wedge \\boldsymbol{\\gamma }_{z}\\wedge \\boldsymbol{\\gamma }_{w} \\end{equation*}$"
      ],
      "text/plain": [
       "<IPython.core.display.Math object>"
      ]
     },
     "metadata": {},
     "output_type": "display_data"
    },
    {
     "data": {
      "text/latex": [
       "$\\displaystyle [^2=\\begin{equation*} 0.5  + 0.5 \\boldsymbol{\\gamma }_{x}\\wedge \\boldsymbol{\\gamma }_{y}\\wedge \\boldsymbol{\\gamma }_{z}\\wedge \\boldsymbol{\\gamma }_{w} \\end{equation*}$"
      ],
      "text/plain": [
       "<IPython.core.display.Math object>"
      ]
     },
     "metadata": {},
     "output_type": "display_data"
    },
    {
     "data": {
      "text/latex": [
       "$\\displaystyle ]=\\begin{equation*} 0.5  -0.5 \\boldsymbol{\\gamma }_{x}\\wedge \\boldsymbol{\\gamma }_{y}\\wedge \\boldsymbol{\\gamma }_{z}\\wedge \\boldsymbol{\\gamma }_{w} \\end{equation*}$"
      ],
      "text/plain": [
       "<IPython.core.display.Math object>"
      ]
     },
     "metadata": {},
     "output_type": "display_data"
    },
    {
     "data": {
      "text/latex": [
       "$\\displaystyle ]^2=\\begin{equation*} 0.5  -0.5 \\boldsymbol{\\gamma }_{x}\\wedge \\boldsymbol{\\gamma }_{y}\\wedge \\boldsymbol{\\gamma }_{z}\\wedge \\boldsymbol{\\gamma }_{w} \\end{equation*}$"
      ],
      "text/plain": [
       "<IPython.core.display.Math object>"
      ]
     },
     "metadata": {},
     "output_type": "display_data"
    }
   ],
   "source": [
    "left=1/2*(1+gamma_x*gamma_y*gamma_z*gamma_w)\n",
    "left.texLabel='['\n",
    "displayWithTitle(left, title=left.texLabel)\n",
    "displayWithTitle(left*left, title=left.texLabel+'^2')\n",
    "\n",
    "right=1/2*(1-gamma_x*gamma_y*gamma_z*gamma_w)\n",
    "right.texLabel=']'\n",
    "displayWithTitle(right, title=right.texLabel)\n",
    "displayWithTitle(right*right, title=right.texLabel+'^2')\n"
   ]
  },
  {
   "cell_type": "code",
   "execution_count": null,
   "metadata": {},
   "outputs": [],
   "source": []
  }
 ],
 "metadata": {
  "celltoolbar": "Raw Cell Format",
  "kernelspec": {
   "display_name": "Python 3",
   "language": "python",
   "name": "python3"
  },
  "language_info": {
   "codemirror_mode": {
    "name": "ipython",
    "version": 3
   },
   "file_extension": ".py",
   "mimetype": "text/x-python",
   "name": "python",
   "nbconvert_exporter": "python",
   "pygments_lexer": "ipython3",
   "version": "3.7.6"
  }
 },
 "nbformat": 4,
 "nbformat_minor": 2
}
