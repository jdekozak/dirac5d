{
 "cells": [
  {
   "cell_type": "code",
   "execution_count": 1,
   "metadata": {},
   "outputs": [],
   "source": [
    "from IPython.display import Math, display\n",
    "def displayWithTitle(multivector, title):\n",
    "    display(Math(title + '=' + multivector._repr_latex_()))\n",
    "def CheckProperties(i,j,k):\n",
    "    ilabel = i.texLabel\n",
    "    jlabel = j.texLabel\n",
    "    klabel = k.texLabel\n",
    "    displayWithTitle(i, title=ilabel)\n",
    "    displayWithTitle(j, title=jlabel)\n",
    "    displayWithTitle(k, title=klabel)\n",
    "    displayWithTitle((i*i), title=ilabel+'^2')\n",
    "    displayWithTitle((j*j), title=jlabel+'^2')\n",
    "    displayWithTitle((k*k), title=klabel+'^2')\n",
    "    displayWithTitle((i*j), title=ilabel + jlabel)\n",
    "    displayWithTitle((j*i), title=jlabel + ilabel)\n",
    "    displayWithTitle((j*k), title=jlabel + klabel)\n",
    "    displayWithTitle((k*j), title=klabel + jlabel)\n",
    "    displayWithTitle((k*i), title=klabel + ilabel)\n",
    "    displayWithTitle((i*k), title=ilabel + klabel)\n",
    "    displayWithTitle((i*j*k), title=ilabel + jlabel + klabel)"
   ]
  },
  {
   "cell_type": "code",
   "execution_count": 2,
   "metadata": {},
   "outputs": [],
   "source": [
    "from sympy.matrices import *\n",
    "from galgebra.ga import Ga\n",
    "from galgebra.printer import *"
   ]
  },
  {
   "cell_type": "markdown",
   "metadata": {
    "raw_mimetype": "text/latex"
   },
   "source": [
    "## ALGEBRA & DEFINITIONS\n",
    "\n",
    "Clifford algebra is $$Cl_{4,0}(\\mathbb{R})$$\n",
    "\n",
    "Flat space, no metric, just signature\n",
    "\n",
    "All constants are equal to 1"
   ]
  },
  {
   "cell_type": "code",
   "execution_count": 3,
   "metadata": {},
   "outputs": [
    {
     "name": "stdout",
     "output_type": "stream",
     "text": [
      "(x, y, z, w)\n"
     ]
    }
   ],
   "source": [
    "from sympy import *\n",
    "variables = (x, y, z, w) = symbols('x y z w', real=True)\n",
    "print(variables)"
   ]
  },
  {
   "cell_type": "code",
   "execution_count": 4,
   "metadata": {},
   "outputs": [],
   "source": [
    "metric=[ 1\n",
    "        ,1\n",
    "        ,1\n",
    "        ,1]\n",
    "\n",
    "myBasis='e_1 e_2 e_3 e_4'\n",
    "\n",
    "sp4d = Ga(myBasis, g=metric, coords=variables,norm=True)\n",
    "(e_1, e_2, e_3, e_4) = sp4d.mv()"
   ]
  },
  {
   "cell_type": "markdown",
   "metadata": {},
   "source": [
    "## Quaternions - Pauli matrices\n",
    "http://en.wikipedia.org/wiki/Quaternion\n",
    "https://en.wikipedia.org/wiki/Pauli_matrices"
   ]
  },
  {
   "cell_type": "code",
   "execution_count": 5,
   "metadata": {},
   "outputs": [
    {
     "data": {
      "text/latex": [
       "$\\displaystyle (1,\\sigma_{1w},\\sigma_{2w},\\sigma_{3w})$"
      ],
      "text/plain": [
       "<IPython.core.display.Math object>"
      ]
     },
     "metadata": {},
     "output_type": "display_data"
    },
    {
     "data": {
      "text/latex": [
       "$\\displaystyle \\sigma_{1w}=\\begin{equation*}  \\boldsymbol{e}_{2}\\wedge \\boldsymbol{e}_{3} \\end{equation*}$"
      ],
      "text/plain": [
       "<IPython.core.display.Math object>"
      ]
     },
     "metadata": {},
     "output_type": "display_data"
    },
    {
     "data": {
      "text/latex": [
       "$\\displaystyle \\sigma_{2w}=\\begin{equation*} - \\boldsymbol{e}_{1}\\wedge \\boldsymbol{e}_{3} \\end{equation*}$"
      ],
      "text/plain": [
       "<IPython.core.display.Math object>"
      ]
     },
     "metadata": {},
     "output_type": "display_data"
    },
    {
     "data": {
      "text/latex": [
       "$\\displaystyle \\sigma_{3w}=\\begin{equation*} - \\boldsymbol{e}_{1}\\wedge \\boldsymbol{e}_{2} \\end{equation*}$"
      ],
      "text/plain": [
       "<IPython.core.display.Math object>"
      ]
     },
     "metadata": {},
     "output_type": "display_data"
    },
    {
     "data": {
      "text/latex": [
       "$\\displaystyle \\sigma_{1w}^2=\\begin{equation*} -1 \\end{equation*}$"
      ],
      "text/plain": [
       "<IPython.core.display.Math object>"
      ]
     },
     "metadata": {},
     "output_type": "display_data"
    },
    {
     "data": {
      "text/latex": [
       "$\\displaystyle \\sigma_{2w}^2=\\begin{equation*} -1 \\end{equation*}$"
      ],
      "text/plain": [
       "<IPython.core.display.Math object>"
      ]
     },
     "metadata": {},
     "output_type": "display_data"
    },
    {
     "data": {
      "text/latex": [
       "$\\displaystyle \\sigma_{3w}^2=\\begin{equation*} -1 \\end{equation*}$"
      ],
      "text/plain": [
       "<IPython.core.display.Math object>"
      ]
     },
     "metadata": {},
     "output_type": "display_data"
    },
    {
     "data": {
      "text/latex": [
       "$\\displaystyle \\sigma_{1w}\\sigma_{2w}=\\begin{equation*} - \\boldsymbol{e}_{1}\\wedge \\boldsymbol{e}_{2} \\end{equation*}$"
      ],
      "text/plain": [
       "<IPython.core.display.Math object>"
      ]
     },
     "metadata": {},
     "output_type": "display_data"
    },
    {
     "data": {
      "text/latex": [
       "$\\displaystyle \\sigma_{2w}\\sigma_{1w}=\\begin{equation*}  \\boldsymbol{e}_{1}\\wedge \\boldsymbol{e}_{2} \\end{equation*}$"
      ],
      "text/plain": [
       "<IPython.core.display.Math object>"
      ]
     },
     "metadata": {},
     "output_type": "display_data"
    },
    {
     "data": {
      "text/latex": [
       "$\\displaystyle \\sigma_{2w}\\sigma_{3w}=\\begin{equation*}  \\boldsymbol{e}_{2}\\wedge \\boldsymbol{e}_{3} \\end{equation*}$"
      ],
      "text/plain": [
       "<IPython.core.display.Math object>"
      ]
     },
     "metadata": {},
     "output_type": "display_data"
    },
    {
     "data": {
      "text/latex": [
       "$\\displaystyle \\sigma_{3w}\\sigma_{2w}=\\begin{equation*} - \\boldsymbol{e}_{2}\\wedge \\boldsymbol{e}_{3} \\end{equation*}$"
      ],
      "text/plain": [
       "<IPython.core.display.Math object>"
      ]
     },
     "metadata": {},
     "output_type": "display_data"
    },
    {
     "data": {
      "text/latex": [
       "$\\displaystyle \\sigma_{3w}\\sigma_{1w}=\\begin{equation*} - \\boldsymbol{e}_{1}\\wedge \\boldsymbol{e}_{3} \\end{equation*}$"
      ],
      "text/plain": [
       "<IPython.core.display.Math object>"
      ]
     },
     "metadata": {},
     "output_type": "display_data"
    },
    {
     "data": {
      "text/latex": [
       "$\\displaystyle \\sigma_{1w}\\sigma_{3w}=\\begin{equation*}  \\boldsymbol{e}_{1}\\wedge \\boldsymbol{e}_{3} \\end{equation*}$"
      ],
      "text/plain": [
       "<IPython.core.display.Math object>"
      ]
     },
     "metadata": {},
     "output_type": "display_data"
    },
    {
     "data": {
      "text/latex": [
       "$\\displaystyle \\sigma_{1w}\\sigma_{2w}\\sigma_{3w}=\\begin{equation*} -1 \\end{equation*}$"
      ],
      "text/plain": [
       "<IPython.core.display.Math object>"
      ]
     },
     "metadata": {},
     "output_type": "display_data"
    }
   ],
   "source": [
    "sigma_1w=e_2*e_3\n",
    "sigma_2w=e_3*e_1\n",
    "sigma_3w=-e_1*e_2\n",
    "sigma_1w.texLabel='\\\\sigma_{1w}'\n",
    "sigma_2w.texLabel='\\\\sigma_{2w}'\n",
    "sigma_3w.texLabel='\\\\sigma_{3w}'\n",
    "\n",
    "display(Math('(1,'+sigma_1w.texLabel+','+sigma_2w.texLabel+','+sigma_3w.texLabel+')'))\n",
    "CheckProperties(sigma_1w,sigma_2w,sigma_3w)"
   ]
  },
  {
   "cell_type": "code",
   "execution_count": 6,
   "metadata": {},
   "outputs": [
    {
     "data": {
      "text/latex": [
       "$\\displaystyle (1,\\sigma_{1x},\\sigma_{2x},\\sigma_{3x})$"
      ],
      "text/plain": [
       "<IPython.core.display.Math object>"
      ]
     },
     "metadata": {},
     "output_type": "display_data"
    },
    {
     "data": {
      "text/latex": [
       "$\\displaystyle \\sigma_{1x}=\\begin{equation*}  \\boldsymbol{e}_{2}\\wedge \\boldsymbol{e}_{3} \\end{equation*}$"
      ],
      "text/plain": [
       "<IPython.core.display.Math object>"
      ]
     },
     "metadata": {},
     "output_type": "display_data"
    },
    {
     "data": {
      "text/latex": [
       "$\\displaystyle \\sigma_{2x}=\\begin{equation*}  \\boldsymbol{e}_{3}\\wedge \\boldsymbol{e}_{4} \\end{equation*}$"
      ],
      "text/plain": [
       "<IPython.core.display.Math object>"
      ]
     },
     "metadata": {},
     "output_type": "display_data"
    },
    {
     "data": {
      "text/latex": [
       "$\\displaystyle \\sigma_{3x}=\\begin{equation*}  \\boldsymbol{e}_{2}\\wedge \\boldsymbol{e}_{4} \\end{equation*}$"
      ],
      "text/plain": [
       "<IPython.core.display.Math object>"
      ]
     },
     "metadata": {},
     "output_type": "display_data"
    },
    {
     "data": {
      "text/latex": [
       "$\\displaystyle \\sigma_{1x}^2=\\begin{equation*} -1 \\end{equation*}$"
      ],
      "text/plain": [
       "<IPython.core.display.Math object>"
      ]
     },
     "metadata": {},
     "output_type": "display_data"
    },
    {
     "data": {
      "text/latex": [
       "$\\displaystyle \\sigma_{2x}^2=\\begin{equation*} -1 \\end{equation*}$"
      ],
      "text/plain": [
       "<IPython.core.display.Math object>"
      ]
     },
     "metadata": {},
     "output_type": "display_data"
    },
    {
     "data": {
      "text/latex": [
       "$\\displaystyle \\sigma_{3x}^2=\\begin{equation*} -1 \\end{equation*}$"
      ],
      "text/plain": [
       "<IPython.core.display.Math object>"
      ]
     },
     "metadata": {},
     "output_type": "display_data"
    },
    {
     "data": {
      "text/latex": [
       "$\\displaystyle \\sigma_{1x}\\sigma_{2x}=\\begin{equation*}  \\boldsymbol{e}_{2}\\wedge \\boldsymbol{e}_{4} \\end{equation*}$"
      ],
      "text/plain": [
       "<IPython.core.display.Math object>"
      ]
     },
     "metadata": {},
     "output_type": "display_data"
    },
    {
     "data": {
      "text/latex": [
       "$\\displaystyle \\sigma_{2x}\\sigma_{1x}=\\begin{equation*} - \\boldsymbol{e}_{2}\\wedge \\boldsymbol{e}_{4} \\end{equation*}$"
      ],
      "text/plain": [
       "<IPython.core.display.Math object>"
      ]
     },
     "metadata": {},
     "output_type": "display_data"
    },
    {
     "data": {
      "text/latex": [
       "$\\displaystyle \\sigma_{2x}\\sigma_{3x}=\\begin{equation*}  \\boldsymbol{e}_{2}\\wedge \\boldsymbol{e}_{3} \\end{equation*}$"
      ],
      "text/plain": [
       "<IPython.core.display.Math object>"
      ]
     },
     "metadata": {},
     "output_type": "display_data"
    },
    {
     "data": {
      "text/latex": [
       "$\\displaystyle \\sigma_{3x}\\sigma_{2x}=\\begin{equation*} - \\boldsymbol{e}_{2}\\wedge \\boldsymbol{e}_{3} \\end{equation*}$"
      ],
      "text/plain": [
       "<IPython.core.display.Math object>"
      ]
     },
     "metadata": {},
     "output_type": "display_data"
    },
    {
     "data": {
      "text/latex": [
       "$\\displaystyle \\sigma_{3x}\\sigma_{1x}=\\begin{equation*}  \\boldsymbol{e}_{3}\\wedge \\boldsymbol{e}_{4} \\end{equation*}$"
      ],
      "text/plain": [
       "<IPython.core.display.Math object>"
      ]
     },
     "metadata": {},
     "output_type": "display_data"
    },
    {
     "data": {
      "text/latex": [
       "$\\displaystyle \\sigma_{1x}\\sigma_{3x}=\\begin{equation*} - \\boldsymbol{e}_{3}\\wedge \\boldsymbol{e}_{4} \\end{equation*}$"
      ],
      "text/plain": [
       "<IPython.core.display.Math object>"
      ]
     },
     "metadata": {},
     "output_type": "display_data"
    },
    {
     "data": {
      "text/latex": [
       "$\\displaystyle \\sigma_{1x}\\sigma_{2x}\\sigma_{3x}=\\begin{equation*} -1 \\end{equation*}$"
      ],
      "text/plain": [
       "<IPython.core.display.Math object>"
      ]
     },
     "metadata": {},
     "output_type": "display_data"
    }
   ],
   "source": [
    "sigma_1x=e_2*e_3\n",
    "sigma_2x=e_3*e_4\n",
    "sigma_3x=-e_4*e_2\n",
    "sigma_1x.texLabel='\\\\sigma_{1x}'\n",
    "sigma_2x.texLabel='\\\\sigma_{2x}'\n",
    "sigma_3x.texLabel='\\\\sigma_{3x}'\n",
    "\n",
    "display(Math('(1,'+sigma_1x.texLabel+','+sigma_2x.texLabel+','+sigma_3x.texLabel+')'))\n",
    "CheckProperties(sigma_1x,sigma_2x,sigma_3x)"
   ]
  },
  {
   "cell_type": "code",
   "execution_count": 7,
   "metadata": {},
   "outputs": [
    {
     "data": {
      "text/latex": [
       "$\\displaystyle (1,\\sigma_{1y},\\sigma_{2y},\\sigma_{3y})$"
      ],
      "text/plain": [
       "<IPython.core.display.Math object>"
      ]
     },
     "metadata": {},
     "output_type": "display_data"
    },
    {
     "data": {
      "text/latex": [
       "$\\displaystyle \\sigma_{1y}=\\begin{equation*}  \\boldsymbol{e}_{1}\\wedge \\boldsymbol{e}_{3} \\end{equation*}$"
      ],
      "text/plain": [
       "<IPython.core.display.Math object>"
      ]
     },
     "metadata": {},
     "output_type": "display_data"
    },
    {
     "data": {
      "text/latex": [
       "$\\displaystyle \\sigma_{2y}=\\begin{equation*}  \\boldsymbol{e}_{3}\\wedge \\boldsymbol{e}_{4} \\end{equation*}$"
      ],
      "text/plain": [
       "<IPython.core.display.Math object>"
      ]
     },
     "metadata": {},
     "output_type": "display_data"
    },
    {
     "data": {
      "text/latex": [
       "$\\displaystyle \\sigma_{3y}=\\begin{equation*}  \\boldsymbol{e}_{1}\\wedge \\boldsymbol{e}_{4} \\end{equation*}$"
      ],
      "text/plain": [
       "<IPython.core.display.Math object>"
      ]
     },
     "metadata": {},
     "output_type": "display_data"
    },
    {
     "data": {
      "text/latex": [
       "$\\displaystyle \\sigma_{1y}^2=\\begin{equation*} -1 \\end{equation*}$"
      ],
      "text/plain": [
       "<IPython.core.display.Math object>"
      ]
     },
     "metadata": {},
     "output_type": "display_data"
    },
    {
     "data": {
      "text/latex": [
       "$\\displaystyle \\sigma_{2y}^2=\\begin{equation*} -1 \\end{equation*}$"
      ],
      "text/plain": [
       "<IPython.core.display.Math object>"
      ]
     },
     "metadata": {},
     "output_type": "display_data"
    },
    {
     "data": {
      "text/latex": [
       "$\\displaystyle \\sigma_{3y}^2=\\begin{equation*} -1 \\end{equation*}$"
      ],
      "text/plain": [
       "<IPython.core.display.Math object>"
      ]
     },
     "metadata": {},
     "output_type": "display_data"
    },
    {
     "data": {
      "text/latex": [
       "$\\displaystyle \\sigma_{1y}\\sigma_{2y}=\\begin{equation*}  \\boldsymbol{e}_{1}\\wedge \\boldsymbol{e}_{4} \\end{equation*}$"
      ],
      "text/plain": [
       "<IPython.core.display.Math object>"
      ]
     },
     "metadata": {},
     "output_type": "display_data"
    },
    {
     "data": {
      "text/latex": [
       "$\\displaystyle \\sigma_{2y}\\sigma_{1y}=\\begin{equation*} - \\boldsymbol{e}_{1}\\wedge \\boldsymbol{e}_{4} \\end{equation*}$"
      ],
      "text/plain": [
       "<IPython.core.display.Math object>"
      ]
     },
     "metadata": {},
     "output_type": "display_data"
    },
    {
     "data": {
      "text/latex": [
       "$\\displaystyle \\sigma_{2y}\\sigma_{3y}=\\begin{equation*}  \\boldsymbol{e}_{1}\\wedge \\boldsymbol{e}_{3} \\end{equation*}$"
      ],
      "text/plain": [
       "<IPython.core.display.Math object>"
      ]
     },
     "metadata": {},
     "output_type": "display_data"
    },
    {
     "data": {
      "text/latex": [
       "$\\displaystyle \\sigma_{3y}\\sigma_{2y}=\\begin{equation*} - \\boldsymbol{e}_{1}\\wedge \\boldsymbol{e}_{3} \\end{equation*}$"
      ],
      "text/plain": [
       "<IPython.core.display.Math object>"
      ]
     },
     "metadata": {},
     "output_type": "display_data"
    },
    {
     "data": {
      "text/latex": [
       "$\\displaystyle \\sigma_{3y}\\sigma_{1y}=\\begin{equation*}  \\boldsymbol{e}_{3}\\wedge \\boldsymbol{e}_{4} \\end{equation*}$"
      ],
      "text/plain": [
       "<IPython.core.display.Math object>"
      ]
     },
     "metadata": {},
     "output_type": "display_data"
    },
    {
     "data": {
      "text/latex": [
       "$\\displaystyle \\sigma_{1y}\\sigma_{3y}=\\begin{equation*} - \\boldsymbol{e}_{3}\\wedge \\boldsymbol{e}_{4} \\end{equation*}$"
      ],
      "text/plain": [
       "<IPython.core.display.Math object>"
      ]
     },
     "metadata": {},
     "output_type": "display_data"
    },
    {
     "data": {
      "text/latex": [
       "$\\displaystyle \\sigma_{1y}\\sigma_{2y}\\sigma_{3y}=\\begin{equation*} -1 \\end{equation*}$"
      ],
      "text/plain": [
       "<IPython.core.display.Math object>"
      ]
     },
     "metadata": {},
     "output_type": "display_data"
    }
   ],
   "source": [
    "sigma_1y=e_1*e_3\n",
    "sigma_2y=e_3*e_4\n",
    "sigma_3y=-e_4*e_1\n",
    "sigma_1y.texLabel='\\\\sigma_{1y}'\n",
    "sigma_2y.texLabel='\\\\sigma_{2y}'\n",
    "sigma_3y.texLabel='\\\\sigma_{3y}'\n",
    "\n",
    "display(Math('(1,'+sigma_1y.texLabel+','+sigma_2y.texLabel+','+sigma_3y.texLabel+')'))\n",
    "CheckProperties(sigma_1y,sigma_2y,sigma_3y)"
   ]
  },
  {
   "cell_type": "code",
   "execution_count": 8,
   "metadata": {
    "scrolled": false
   },
   "outputs": [
    {
     "data": {
      "text/latex": [
       "$\\displaystyle (1,\\sigma_{1z},\\sigma_{2z},\\sigma_{3z})$"
      ],
      "text/plain": [
       "<IPython.core.display.Math object>"
      ]
     },
     "metadata": {},
     "output_type": "display_data"
    },
    {
     "data": {
      "text/latex": [
       "$\\displaystyle \\sigma_{1z}=\\begin{equation*}  \\boldsymbol{e}_{1}\\wedge \\boldsymbol{e}_{2} \\end{equation*}$"
      ],
      "text/plain": [
       "<IPython.core.display.Math object>"
      ]
     },
     "metadata": {},
     "output_type": "display_data"
    },
    {
     "data": {
      "text/latex": [
       "$\\displaystyle \\sigma_{2z}=\\begin{equation*}  \\boldsymbol{e}_{2}\\wedge \\boldsymbol{e}_{4} \\end{equation*}$"
      ],
      "text/plain": [
       "<IPython.core.display.Math object>"
      ]
     },
     "metadata": {},
     "output_type": "display_data"
    },
    {
     "data": {
      "text/latex": [
       "$\\displaystyle \\sigma_{3z}=\\begin{equation*}  \\boldsymbol{e}_{1}\\wedge \\boldsymbol{e}_{4} \\end{equation*}$"
      ],
      "text/plain": [
       "<IPython.core.display.Math object>"
      ]
     },
     "metadata": {},
     "output_type": "display_data"
    },
    {
     "data": {
      "text/latex": [
       "$\\displaystyle \\sigma_{1z}^2=\\begin{equation*} -1 \\end{equation*}$"
      ],
      "text/plain": [
       "<IPython.core.display.Math object>"
      ]
     },
     "metadata": {},
     "output_type": "display_data"
    },
    {
     "data": {
      "text/latex": [
       "$\\displaystyle \\sigma_{2z}^2=\\begin{equation*} -1 \\end{equation*}$"
      ],
      "text/plain": [
       "<IPython.core.display.Math object>"
      ]
     },
     "metadata": {},
     "output_type": "display_data"
    },
    {
     "data": {
      "text/latex": [
       "$\\displaystyle \\sigma_{3z}^2=\\begin{equation*} -1 \\end{equation*}$"
      ],
      "text/plain": [
       "<IPython.core.display.Math object>"
      ]
     },
     "metadata": {},
     "output_type": "display_data"
    },
    {
     "data": {
      "text/latex": [
       "$\\displaystyle \\sigma_{1z}\\sigma_{2z}=\\begin{equation*}  \\boldsymbol{e}_{1}\\wedge \\boldsymbol{e}_{4} \\end{equation*}$"
      ],
      "text/plain": [
       "<IPython.core.display.Math object>"
      ]
     },
     "metadata": {},
     "output_type": "display_data"
    },
    {
     "data": {
      "text/latex": [
       "$\\displaystyle \\sigma_{2z}\\sigma_{1z}=\\begin{equation*} - \\boldsymbol{e}_{1}\\wedge \\boldsymbol{e}_{4} \\end{equation*}$"
      ],
      "text/plain": [
       "<IPython.core.display.Math object>"
      ]
     },
     "metadata": {},
     "output_type": "display_data"
    },
    {
     "data": {
      "text/latex": [
       "$\\displaystyle \\sigma_{2z}\\sigma_{3z}=\\begin{equation*}  \\boldsymbol{e}_{1}\\wedge \\boldsymbol{e}_{2} \\end{equation*}$"
      ],
      "text/plain": [
       "<IPython.core.display.Math object>"
      ]
     },
     "metadata": {},
     "output_type": "display_data"
    },
    {
     "data": {
      "text/latex": [
       "$\\displaystyle \\sigma_{3z}\\sigma_{2z}=\\begin{equation*} - \\boldsymbol{e}_{1}\\wedge \\boldsymbol{e}_{2} \\end{equation*}$"
      ],
      "text/plain": [
       "<IPython.core.display.Math object>"
      ]
     },
     "metadata": {},
     "output_type": "display_data"
    },
    {
     "data": {
      "text/latex": [
       "$\\displaystyle \\sigma_{3z}\\sigma_{1z}=\\begin{equation*}  \\boldsymbol{e}_{2}\\wedge \\boldsymbol{e}_{4} \\end{equation*}$"
      ],
      "text/plain": [
       "<IPython.core.display.Math object>"
      ]
     },
     "metadata": {},
     "output_type": "display_data"
    },
    {
     "data": {
      "text/latex": [
       "$\\displaystyle \\sigma_{1z}\\sigma_{3z}=\\begin{equation*} - \\boldsymbol{e}_{2}\\wedge \\boldsymbol{e}_{4} \\end{equation*}$"
      ],
      "text/plain": [
       "<IPython.core.display.Math object>"
      ]
     },
     "metadata": {},
     "output_type": "display_data"
    },
    {
     "data": {
      "text/latex": [
       "$\\displaystyle \\sigma_{1z}\\sigma_{2z}\\sigma_{3z}=\\begin{equation*} -1 \\end{equation*}$"
      ],
      "text/plain": [
       "<IPython.core.display.Math object>"
      ]
     },
     "metadata": {},
     "output_type": "display_data"
    }
   ],
   "source": [
    "sigma_1z=e_1*e_2\n",
    "sigma_2z=e_2*e_4\n",
    "sigma_3z=-e_4*e_1\n",
    "sigma_1z.texLabel='\\\\sigma_{1z}'\n",
    "sigma_2z.texLabel='\\\\sigma_{2z}'\n",
    "sigma_3z.texLabel='\\\\sigma_{3z}'\n",
    "\n",
    "display(Math('(1,'+sigma_1z.texLabel+','+sigma_2z.texLabel+','+sigma_3z.texLabel+')'))\n",
    "CheckProperties(sigma_1z,sigma_2z,sigma_3z)"
   ]
  },
  {
   "cell_type": "code",
   "execution_count": 9,
   "metadata": {},
   "outputs": [
    {
     "data": {
      "text/latex": [
       "$\\displaystyle \\gamma_4=\\begin{equation*}  \\boldsymbol{e}_{1}\\wedge \\boldsymbol{e}_{2}\\wedge \\boldsymbol{e}_{3} \\end{equation*}$"
      ],
      "text/plain": [
       "<IPython.core.display.Math object>"
      ]
     },
     "metadata": {},
     "output_type": "display_data"
    },
    {
     "data": {
      "text/latex": [
       "$\\displaystyle \\gamma_4^2=\\begin{equation*} -1 \\end{equation*}$"
      ],
      "text/plain": [
       "<IPython.core.display.Math object>"
      ]
     },
     "metadata": {},
     "output_type": "display_data"
    },
    {
     "data": {
      "text/latex": [
       "$\\displaystyle \\gamma_1=\\begin{equation*}  \\boldsymbol{e}_{2}\\wedge \\boldsymbol{e}_{3}\\wedge \\boldsymbol{e}_{4} \\end{equation*}$"
      ],
      "text/plain": [
       "<IPython.core.display.Math object>"
      ]
     },
     "metadata": {},
     "output_type": "display_data"
    },
    {
     "data": {
      "text/latex": [
       "$\\displaystyle \\gamma_1^2=\\begin{equation*} -1 \\end{equation*}$"
      ],
      "text/plain": [
       "<IPython.core.display.Math object>"
      ]
     },
     "metadata": {},
     "output_type": "display_data"
    },
    {
     "data": {
      "text/latex": [
       "$\\displaystyle \\gamma_2=\\begin{equation*} - \\boldsymbol{e}_{1}\\wedge \\boldsymbol{e}_{3}\\wedge \\boldsymbol{e}_{4} \\end{equation*}$"
      ],
      "text/plain": [
       "<IPython.core.display.Math object>"
      ]
     },
     "metadata": {},
     "output_type": "display_data"
    },
    {
     "data": {
      "text/latex": [
       "$\\displaystyle \\gamma_2^2=\\begin{equation*} -1 \\end{equation*}$"
      ],
      "text/plain": [
       "<IPython.core.display.Math object>"
      ]
     },
     "metadata": {},
     "output_type": "display_data"
    },
    {
     "data": {
      "text/latex": [
       "$\\displaystyle \\gamma_3=\\begin{equation*}  \\boldsymbol{e}_{1}\\wedge \\boldsymbol{e}_{2}\\wedge \\boldsymbol{e}_{4} \\end{equation*}$"
      ],
      "text/plain": [
       "<IPython.core.display.Math object>"
      ]
     },
     "metadata": {},
     "output_type": "display_data"
    },
    {
     "data": {
      "text/latex": [
       "$\\displaystyle \\gamma_3^2=\\begin{equation*} -1 \\end{equation*}$"
      ],
      "text/plain": [
       "<IPython.core.display.Math object>"
      ]
     },
     "metadata": {},
     "output_type": "display_data"
    }
   ],
   "source": [
    "gamma_4=e_1*e_2*e_3\n",
    "gamma_1=e_4*e_2*e_3\n",
    "gamma_2=e_1*e_4*e_3\n",
    "gamma_3=e_1*e_2*e_4\n",
    "displayWithTitle(gamma_4,title='\\\\gamma_4')\n",
    "displayWithTitle(gamma_4*gamma_4,title='\\\\gamma_4^2')\n",
    "\n",
    "displayWithTitle(gamma_1,title='\\\\gamma_1')\n",
    "displayWithTitle(gamma_1*gamma_1,title='\\\\gamma_1^2')\n",
    "\n",
    "displayWithTitle(gamma_2,title='\\\\gamma_2')\n",
    "displayWithTitle(gamma_2*gamma_2,title='\\\\gamma_2^2')\n",
    "\n",
    "displayWithTitle(gamma_3,title='\\\\gamma_3')\n",
    "displayWithTitle(gamma_3*gamma_3,title='\\\\gamma_3^2')"
   ]
  },
  {
   "cell_type": "markdown",
   "metadata": {},
   "source": [
    "# PHYSICS\n",
    "\n",
    "The following symbols are defined :\n",
    "\n",
    "Charge $$q \\in \\mathbb{R}$$\n",
    "\n",
    "Mass $$m \\in \\mathbb{R}$$"
   ]
  },
  {
   "cell_type": "code",
   "execution_count": 10,
   "metadata": {},
   "outputs": [],
   "source": [
    "m, q = symbols('m q', real=True)\n",
    "rquat = [sigma_1w, sigma_2w, sigma_3w]"
   ]
  },
  {
   "cell_type": "code",
   "execution_count": 11,
   "metadata": {
    "scrolled": true
   },
   "outputs": [
    {
     "data": {
      "text/latex": [
       "Magnetic field $\\mathbf{B}$ is defined with $B_x, B_y, B_z \\in \\mathbb{R}$"
      ],
      "text/plain": [
       "<IPython.core.display.Latex object>"
      ]
     },
     "metadata": {},
     "output_type": "display_data"
    },
    {
     "data": {
      "text/latex": [
       "$\\displaystyle \\mathbf{B}=B_x\\sigma_{1w}+B_y\\sigma_{2w}+B_z\\sigma_{3w}$"
      ],
      "text/plain": [
       "<IPython.core.display.Math object>"
      ]
     },
     "metadata": {},
     "output_type": "display_data"
    },
    {
     "data": {
      "text/latex": [
       "$\\displaystyle \\mathbf{B}=\\begin{equation*} - B_{z} \\boldsymbol{e}_{1}\\wedge \\boldsymbol{e}_{2} - B_{y} \\boldsymbol{e}_{1}\\wedge \\boldsymbol{e}_{3} + B_{x} \\boldsymbol{e}_{2}\\wedge \\boldsymbol{e}_{3} \\end{equation*}$"
      ],
      "text/plain": [
       "<IPython.core.display.Math object>"
      ]
     },
     "metadata": {},
     "output_type": "display_data"
    }
   ],
   "source": [
    "B_x, B_y, B_z = symbols('B_x B_y B_z', real=True)\n",
    "Bv =[B_x, B_y, B_z]\n",
    "B = S(0)\n",
    "for (dim, var) in zip(Bv, rquat):\n",
    "    B += var * dim\n",
    "B.texLabel='\\\\mathbf{B}'\n",
    "\n",
    "display(Latex('Magnetic field $'+B.texLabel+'$ is defined with $B_x, B_y, B_z \\\\in \\\\mathbb{R}$'))\n",
    "display(Math(B.texLabel+'=B_x'+sigma_1w.texLabel+'+B_y'+sigma_2w.texLabel+'+B_z'+sigma_3w.texLabel))\n",
    "displayWithTitle(B, title=B.texLabel)\n"
   ]
  },
  {
   "cell_type": "code",
   "execution_count": 12,
   "metadata": {},
   "outputs": [
    {
     "data": {
      "text/latex": [
       "Pauli spinor $\\psi$ is defined with $a, b, c, d\\in \\mathbb{R}$"
      ],
      "text/plain": [
       "<IPython.core.display.Latex object>"
      ]
     },
     "metadata": {},
     "output_type": "display_data"
    },
    {
     "data": {
      "text/latex": [
       "$\\displaystyle \\psi=a+b\\sigma_{1w}+c\\sigma_{2w}+d\\sigma_{3w}$"
      ],
      "text/plain": [
       "<IPython.core.display.Math object>"
      ]
     },
     "metadata": {},
     "output_type": "display_data"
    },
    {
     "data": {
      "text/latex": [
       "$\\displaystyle \\psi=\\begin{equation*} a  - d \\boldsymbol{e}_{1}\\wedge \\boldsymbol{e}_{2} - c \\boldsymbol{e}_{1}\\wedge \\boldsymbol{e}_{3} + b \\boldsymbol{e}_{2}\\wedge \\boldsymbol{e}_{3} \\end{equation*}$"
      ],
      "text/plain": [
       "<IPython.core.display.Math object>"
      ]
     },
     "metadata": {},
     "output_type": "display_data"
    },
    {
     "data": {
      "text/latex": [
       "$\\displaystyle \\psi^\\dagger=a-b\\sigma_{1w}-c\\sigma_{2w}-d\\sigma_{3w}$"
      ],
      "text/plain": [
       "<IPython.core.display.Math object>"
      ]
     },
     "metadata": {},
     "output_type": "display_data"
    },
    {
     "data": {
      "text/latex": [
       "$\\displaystyle \\psi^\\dagger=\\begin{equation*} a  + d \\boldsymbol{e}_{1}\\wedge \\boldsymbol{e}_{2} + c \\boldsymbol{e}_{1}\\wedge \\boldsymbol{e}_{3} - b \\boldsymbol{e}_{2}\\wedge \\boldsymbol{e}_{3} \\end{equation*}$"
      ],
      "text/plain": [
       "<IPython.core.display.Math object>"
      ]
     },
     "metadata": {},
     "output_type": "display_data"
    }
   ],
   "source": [
    "a, b, c, d = symbols('a b c d', real=True)\n",
    "\n",
    "psiv =[b, c, d]\n",
    "psi = S(a)\n",
    "for (dim, var) in zip(psiv, rquat):\n",
    "    psi += var * dim\n",
    "psi.texLabel='\\\\psi'\n",
    "\n",
    "display(Latex('Pauli spinor $'+psi.texLabel+'$ is defined with $a, b, c, d\\\\in \\\\mathbb{R}$'))\n",
    "display(Math(psi.texLabel+'=a+b'+sigma_1w.texLabel+'+c'+sigma_2w.texLabel+'+d'+sigma_3w.texLabel))\n",
    "displayWithTitle(psi, title=psi.texLabel)\n",
    "\n",
    "psiv_dagger =[-b, -c, -d]\n",
    "psi_dagger = S(a)\n",
    "for (dim, var) in zip(psiv_dagger, rquat):\n",
    "    psi_dagger += var * dim\n",
    "psi_dagger.texLabel='\\\\psi^\\\\dagger'\n",
    "display(Math(psi_dagger.texLabel+'=a-b'+sigma_1w.texLabel+'-c'+sigma_2w.texLabel+'-d'+sigma_3w.texLabel))\n",
    "displayWithTitle(psi_dagger, title=psi_dagger.texLabel)"
   ]
  },
  {
   "cell_type": "code",
   "execution_count": 13,
   "metadata": {},
   "outputs": [
    {
     "data": {
      "text/latex": [
       "$\\displaystyle \\rho=\\psi\\psi^\\dagger$"
      ],
      "text/plain": [
       "<IPython.core.display.Math object>"
      ]
     },
     "metadata": {},
     "output_type": "display_data"
    },
    {
     "data": {
      "text/latex": [
       "$\\displaystyle \\rho=\\begin{equation*} a^{2} + b^{2} + c^{2} + d^{2} \\end{equation*}$"
      ],
      "text/plain": [
       "<IPython.core.display.Math object>"
      ]
     },
     "metadata": {},
     "output_type": "display_data"
    },
    {
     "data": {
      "text/latex": [
       "$\\displaystyle \\boldsymbol{s}_w=\\psi\\sigma_{3w}\\psi^\\dagger$"
      ],
      "text/plain": [
       "<IPython.core.display.Math object>"
      ]
     },
     "metadata": {},
     "output_type": "display_data"
    },
    {
     "data": {
      "text/latex": [
       "$\\displaystyle \\boldsymbol{s}_w=\\begin{equation*} \\left ( - a^{2} + b^{2} + c^{2} - d^{2}\\right ) \\boldsymbol{e}_{1}\\wedge \\boldsymbol{e}_{2} + \\left ( 2 a b - 2 c d\\right ) \\boldsymbol{e}_{1}\\wedge \\boldsymbol{e}_{3} + \\left ( 2 a c + 2 b d\\right ) \\boldsymbol{e}_{2}\\wedge \\boldsymbol{e}_{3} \\end{equation*}$"
      ],
      "text/plain": [
       "<IPython.core.display.Math object>"
      ]
     },
     "metadata": {},
     "output_type": "display_data"
    }
   ],
   "source": [
    "rho=psi*psi_dagger\n",
    "rho.texLabel = '\\\\rho'\n",
    "display(Math(rho.texLabel+'='+psi.texLabel+psi_dagger.texLabel))\n",
    "displayWithTitle(rho, title=rho.texLabel)\n",
    "\n",
    "spin_vector_w = psi*sigma_3w*psi_dagger\n",
    "spin_vector_w.texLabel = '\\\\boldsymbol{s}_w'\n",
    "display(Math(spin_vector_w.texLabel+'='+psi.texLabel+sigma_3w.texLabel+psi_dagger.texLabel))\n",
    "displayWithTitle(spin_vector_w, title=spin_vector_w.texLabel)"
   ]
  },
  {
   "cell_type": "code",
   "execution_count": 14,
   "metadata": {},
   "outputs": [
    {
     "data": {
      "text/latex": [
       "$\\displaystyle \\uparrow=\\begin{equation*} 0.5  + 0.5 \\boldsymbol{e}_{3} \\end{equation*}$"
      ],
      "text/plain": [
       "<IPython.core.display.Math object>"
      ]
     },
     "metadata": {},
     "output_type": "display_data"
    },
    {
     "data": {
      "text/latex": [
       "$\\displaystyle \\uparrow^2=\\begin{equation*} 0.5  + 0.5 \\boldsymbol{e}_{3} \\end{equation*}$"
      ],
      "text/plain": [
       "<IPython.core.display.Math object>"
      ]
     },
     "metadata": {},
     "output_type": "display_data"
    },
    {
     "data": {
      "text/latex": [
       "$\\displaystyle \\downarrow=\\begin{equation*} 0.5  -0.5 \\boldsymbol{e}_{3} \\end{equation*}$"
      ],
      "text/plain": [
       "<IPython.core.display.Math object>"
      ]
     },
     "metadata": {},
     "output_type": "display_data"
    },
    {
     "data": {
      "text/latex": [
       "$\\displaystyle \\downarrow^2=\\begin{equation*} 0.5  -0.5 \\boldsymbol{e}_{3} \\end{equation*}$"
      ],
      "text/plain": [
       "<IPython.core.display.Math object>"
      ]
     },
     "metadata": {},
     "output_type": "display_data"
    }
   ],
   "source": [
    "up=1/2*(1+e_3)\n",
    "up.texLabel='\\\\uparrow'\n",
    "displayWithTitle(up, title=up.texLabel)\n",
    "displayWithTitle(up*up, title=up.texLabel+'^2')\n",
    "\n",
    "down=1/2*(1-e_3)\n",
    "down.texLabel='\\\\downarrow'\n",
    "displayWithTitle(down, title=down.texLabel)\n",
    "displayWithTitle(down*down, title=down.texLabel+'^2')"
   ]
  },
  {
   "cell_type": "code",
   "execution_count": 15,
   "metadata": {},
   "outputs": [
    {
     "data": {
      "text/latex": [
       "$\\displaystyle [=\\begin{equation*} 0.5  -0.5 \\boldsymbol{e}_{1}\\wedge \\boldsymbol{e}_{2}\\wedge \\boldsymbol{e}_{3}\\wedge \\boldsymbol{e}_{4} \\end{equation*}$"
      ],
      "text/plain": [
       "<IPython.core.display.Math object>"
      ]
     },
     "metadata": {},
     "output_type": "display_data"
    },
    {
     "data": {
      "text/latex": [
       "$\\displaystyle [^2=\\begin{equation*} 0.5  -0.5 \\boldsymbol{e}_{1}\\wedge \\boldsymbol{e}_{2}\\wedge \\boldsymbol{e}_{3}\\wedge \\boldsymbol{e}_{4} \\end{equation*}$"
      ],
      "text/plain": [
       "<IPython.core.display.Math object>"
      ]
     },
     "metadata": {},
     "output_type": "display_data"
    },
    {
     "data": {
      "text/latex": [
       "$\\displaystyle ]=\\begin{equation*} 0.5  + 0.5 \\boldsymbol{e}_{1}\\wedge \\boldsymbol{e}_{2}\\wedge \\boldsymbol{e}_{3}\\wedge \\boldsymbol{e}_{4} \\end{equation*}$"
      ],
      "text/plain": [
       "<IPython.core.display.Math object>"
      ]
     },
     "metadata": {},
     "output_type": "display_data"
    },
    {
     "data": {
      "text/latex": [
       "$\\displaystyle ]^2=\\begin{equation*} 0.5  + 0.5 \\boldsymbol{e}_{1}\\wedge \\boldsymbol{e}_{2}\\wedge \\boldsymbol{e}_{3}\\wedge \\boldsymbol{e}_{4} \\end{equation*}$"
      ],
      "text/plain": [
       "<IPython.core.display.Math object>"
      ]
     },
     "metadata": {},
     "output_type": "display_data"
    }
   ],
   "source": [
    "gamma_5 = e_1*e_2*e_3*e_4\n",
    "gamma_5.texLabel = '\\\\gamma_5'\n",
    "\n",
    "left=1/2*(1-gamma_5)\n",
    "left.texLabel='['\n",
    "displayWithTitle(left, title=left.texLabel)\n",
    "displayWithTitle(left*left, title=left.texLabel+'^2')\n",
    "\n",
    "right=1/2*(1+gamma_5)\n",
    "right.texLabel=']'\n",
    "displayWithTitle(right, title=right.texLabel)\n",
    "displayWithTitle(right*right, title=right.texLabel+'^2')\n"
   ]
  },
  {
   "cell_type": "code",
   "execution_count": null,
   "metadata": {},
   "outputs": [],
   "source": []
  }
 ],
 "metadata": {
  "celltoolbar": "Raw Cell Format",
  "kernelspec": {
   "display_name": "Python 3",
   "language": "python",
   "name": "python3"
  },
  "language_info": {
   "codemirror_mode": {
    "name": "ipython",
    "version": 3
   },
   "file_extension": ".py",
   "mimetype": "text/x-python",
   "name": "python",
   "nbconvert_exporter": "python",
   "pygments_lexer": "ipython3",
   "version": "3.7.6"
  }
 },
 "nbformat": 4,
 "nbformat_minor": 2
}
